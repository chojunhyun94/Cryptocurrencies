{
 "cells": [
  {
   "cell_type": "markdown",
   "metadata": {},
   "source": [
    "# Clustering Crypto"
   ]
  },
  {
   "cell_type": "code",
   "execution_count": 164,
   "metadata": {},
   "outputs": [],
   "source": [
    "# Initial imports\n",
    "import pandas as pd\n",
    "import hvplot.pandas\n",
    "from path import Path\n",
    "import plotly.express as px\n",
    "from sklearn.preprocessing import StandardScaler, MinMaxScaler\n",
    "from sklearn.decomposition import PCA\n",
    "from sklearn.cluster import KMeans\n"
   ]
  },
  {
   "cell_type": "markdown",
   "metadata": {},
   "source": [
    "### Deliverable 1: Preprocessing the Data for PCA"
   ]
  },
  {
   "cell_type": "code",
   "execution_count": 165,
   "metadata": {},
   "outputs": [
    {
     "data": {
      "text/html": [
       "<div>\n",
       "<style scoped>\n",
       "    .dataframe tbody tr th:only-of-type {\n",
       "        vertical-align: middle;\n",
       "    }\n",
       "\n",
       "    .dataframe tbody tr th {\n",
       "        vertical-align: top;\n",
       "    }\n",
       "\n",
       "    .dataframe thead th {\n",
       "        text-align: right;\n",
       "    }\n",
       "</style>\n",
       "<table border=\"1\" class=\"dataframe\">\n",
       "  <thead>\n",
       "    <tr style=\"text-align: right;\">\n",
       "      <th></th>\n",
       "      <th>CoinName</th>\n",
       "      <th>Algorithm</th>\n",
       "      <th>IsTrading</th>\n",
       "      <th>ProofType</th>\n",
       "      <th>TotalCoinsMined</th>\n",
       "      <th>TotalCoinSupply</th>\n",
       "    </tr>\n",
       "  </thead>\n",
       "  <tbody>\n",
       "    <tr>\n",
       "      <th>42</th>\n",
       "      <td>42 Coin</td>\n",
       "      <td>Scrypt</td>\n",
       "      <td>True</td>\n",
       "      <td>PoW/PoS</td>\n",
       "      <td>4.199995e+01</td>\n",
       "      <td>42</td>\n",
       "    </tr>\n",
       "    <tr>\n",
       "      <th>365</th>\n",
       "      <td>365Coin</td>\n",
       "      <td>X11</td>\n",
       "      <td>True</td>\n",
       "      <td>PoW/PoS</td>\n",
       "      <td>NaN</td>\n",
       "      <td>2300000000</td>\n",
       "    </tr>\n",
       "    <tr>\n",
       "      <th>404</th>\n",
       "      <td>404Coin</td>\n",
       "      <td>Scrypt</td>\n",
       "      <td>True</td>\n",
       "      <td>PoW/PoS</td>\n",
       "      <td>1.055185e+09</td>\n",
       "      <td>532000000</td>\n",
       "    </tr>\n",
       "    <tr>\n",
       "      <th>611</th>\n",
       "      <td>SixEleven</td>\n",
       "      <td>SHA-256</td>\n",
       "      <td>True</td>\n",
       "      <td>PoW</td>\n",
       "      <td>NaN</td>\n",
       "      <td>611000</td>\n",
       "    </tr>\n",
       "    <tr>\n",
       "      <th>808</th>\n",
       "      <td>808</td>\n",
       "      <td>SHA-256</td>\n",
       "      <td>True</td>\n",
       "      <td>PoW/PoS</td>\n",
       "      <td>0.000000e+00</td>\n",
       "      <td>0</td>\n",
       "    </tr>\n",
       "    <tr>\n",
       "      <th>1337</th>\n",
       "      <td>EliteCoin</td>\n",
       "      <td>X13</td>\n",
       "      <td>True</td>\n",
       "      <td>PoW/PoS</td>\n",
       "      <td>2.927942e+10</td>\n",
       "      <td>314159265359</td>\n",
       "    </tr>\n",
       "    <tr>\n",
       "      <th>2015</th>\n",
       "      <td>2015 coin</td>\n",
       "      <td>X11</td>\n",
       "      <td>True</td>\n",
       "      <td>PoW/PoS</td>\n",
       "      <td>NaN</td>\n",
       "      <td>0</td>\n",
       "    </tr>\n",
       "    <tr>\n",
       "      <th>BTC</th>\n",
       "      <td>Bitcoin</td>\n",
       "      <td>SHA-256</td>\n",
       "      <td>True</td>\n",
       "      <td>PoW</td>\n",
       "      <td>1.792718e+07</td>\n",
       "      <td>21000000</td>\n",
       "    </tr>\n",
       "    <tr>\n",
       "      <th>ETH</th>\n",
       "      <td>Ethereum</td>\n",
       "      <td>Ethash</td>\n",
       "      <td>True</td>\n",
       "      <td>PoW</td>\n",
       "      <td>1.076842e+08</td>\n",
       "      <td>0</td>\n",
       "    </tr>\n",
       "    <tr>\n",
       "      <th>LTC</th>\n",
       "      <td>Litecoin</td>\n",
       "      <td>Scrypt</td>\n",
       "      <td>True</td>\n",
       "      <td>PoW</td>\n",
       "      <td>6.303924e+07</td>\n",
       "      <td>84000000</td>\n",
       "    </tr>\n",
       "  </tbody>\n",
       "</table>\n",
       "</div>"
      ],
      "text/plain": [
       "       CoinName Algorithm  IsTrading ProofType  TotalCoinsMined  \\\n",
       "42      42 Coin    Scrypt       True   PoW/PoS     4.199995e+01   \n",
       "365     365Coin       X11       True   PoW/PoS              NaN   \n",
       "404     404Coin    Scrypt       True   PoW/PoS     1.055185e+09   \n",
       "611   SixEleven   SHA-256       True       PoW              NaN   \n",
       "808         808   SHA-256       True   PoW/PoS     0.000000e+00   \n",
       "1337  EliteCoin       X13       True   PoW/PoS     2.927942e+10   \n",
       "2015  2015 coin       X11       True   PoW/PoS              NaN   \n",
       "BTC     Bitcoin   SHA-256       True       PoW     1.792718e+07   \n",
       "ETH    Ethereum    Ethash       True       PoW     1.076842e+08   \n",
       "LTC    Litecoin    Scrypt       True       PoW     6.303924e+07   \n",
       "\n",
       "     TotalCoinSupply  \n",
       "42                42  \n",
       "365       2300000000  \n",
       "404        532000000  \n",
       "611           611000  \n",
       "808                0  \n",
       "1337    314159265359  \n",
       "2015               0  \n",
       "BTC         21000000  \n",
       "ETH                0  \n",
       "LTC         84000000  "
      ]
     },
     "execution_count": 165,
     "metadata": {},
     "output_type": "execute_result"
    }
   ],
   "source": [
    "file_path = Path('Resources/crypto_data.csv')\n",
    "df = pd.read_csv(file_path, index_col = 0)\n",
    "df.head(10)"
   ]
  },
  {
   "cell_type": "code",
   "execution_count": 166,
   "metadata": {},
   "outputs": [
    {
     "name": "stdout",
     "output_type": "stream",
     "text": [
      "CoinName           1144\n",
      "Algorithm          1144\n",
      "IsTrading          1144\n",
      "ProofType          1144\n",
      "TotalCoinsMined     685\n",
      "TotalCoinSupply    1144\n",
      "dtype: int64\n"
     ]
    },
    {
     "data": {
      "text/html": [
       "<div>\n",
       "<style scoped>\n",
       "    .dataframe tbody tr th:only-of-type {\n",
       "        vertical-align: middle;\n",
       "    }\n",
       "\n",
       "    .dataframe tbody tr th {\n",
       "        vertical-align: top;\n",
       "    }\n",
       "\n",
       "    .dataframe thead th {\n",
       "        text-align: right;\n",
       "    }\n",
       "</style>\n",
       "<table border=\"1\" class=\"dataframe\">\n",
       "  <thead>\n",
       "    <tr style=\"text-align: right;\">\n",
       "      <th></th>\n",
       "      <th>CoinName</th>\n",
       "      <th>Algorithm</th>\n",
       "      <th>IsTrading</th>\n",
       "      <th>ProofType</th>\n",
       "      <th>TotalCoinsMined</th>\n",
       "      <th>TotalCoinSupply</th>\n",
       "    </tr>\n",
       "  </thead>\n",
       "  <tbody>\n",
       "    <tr>\n",
       "      <th>42</th>\n",
       "      <td>42 Coin</td>\n",
       "      <td>Scrypt</td>\n",
       "      <td>True</td>\n",
       "      <td>PoW/PoS</td>\n",
       "      <td>4.199995e+01</td>\n",
       "      <td>42</td>\n",
       "    </tr>\n",
       "    <tr>\n",
       "      <th>365</th>\n",
       "      <td>365Coin</td>\n",
       "      <td>X11</td>\n",
       "      <td>True</td>\n",
       "      <td>PoW/PoS</td>\n",
       "      <td>NaN</td>\n",
       "      <td>2300000000</td>\n",
       "    </tr>\n",
       "    <tr>\n",
       "      <th>404</th>\n",
       "      <td>404Coin</td>\n",
       "      <td>Scrypt</td>\n",
       "      <td>True</td>\n",
       "      <td>PoW/PoS</td>\n",
       "      <td>1.055185e+09</td>\n",
       "      <td>532000000</td>\n",
       "    </tr>\n",
       "    <tr>\n",
       "      <th>611</th>\n",
       "      <td>SixEleven</td>\n",
       "      <td>SHA-256</td>\n",
       "      <td>True</td>\n",
       "      <td>PoW</td>\n",
       "      <td>NaN</td>\n",
       "      <td>611000</td>\n",
       "    </tr>\n",
       "    <tr>\n",
       "      <th>808</th>\n",
       "      <td>808</td>\n",
       "      <td>SHA-256</td>\n",
       "      <td>True</td>\n",
       "      <td>PoW/PoS</td>\n",
       "      <td>0.000000e+00</td>\n",
       "      <td>0</td>\n",
       "    </tr>\n",
       "    <tr>\n",
       "      <th>1337</th>\n",
       "      <td>EliteCoin</td>\n",
       "      <td>X13</td>\n",
       "      <td>True</td>\n",
       "      <td>PoW/PoS</td>\n",
       "      <td>2.927942e+10</td>\n",
       "      <td>314159265359</td>\n",
       "    </tr>\n",
       "    <tr>\n",
       "      <th>2015</th>\n",
       "      <td>2015 coin</td>\n",
       "      <td>X11</td>\n",
       "      <td>True</td>\n",
       "      <td>PoW/PoS</td>\n",
       "      <td>NaN</td>\n",
       "      <td>0</td>\n",
       "    </tr>\n",
       "    <tr>\n",
       "      <th>BTC</th>\n",
       "      <td>Bitcoin</td>\n",
       "      <td>SHA-256</td>\n",
       "      <td>True</td>\n",
       "      <td>PoW</td>\n",
       "      <td>1.792718e+07</td>\n",
       "      <td>21000000</td>\n",
       "    </tr>\n",
       "    <tr>\n",
       "      <th>ETH</th>\n",
       "      <td>Ethereum</td>\n",
       "      <td>Ethash</td>\n",
       "      <td>True</td>\n",
       "      <td>PoW</td>\n",
       "      <td>1.076842e+08</td>\n",
       "      <td>0</td>\n",
       "    </tr>\n",
       "    <tr>\n",
       "      <th>LTC</th>\n",
       "      <td>Litecoin</td>\n",
       "      <td>Scrypt</td>\n",
       "      <td>True</td>\n",
       "      <td>PoW</td>\n",
       "      <td>6.303924e+07</td>\n",
       "      <td>84000000</td>\n",
       "    </tr>\n",
       "  </tbody>\n",
       "</table>\n",
       "</div>"
      ],
      "text/plain": [
       "       CoinName Algorithm  IsTrading ProofType  TotalCoinsMined  \\\n",
       "42      42 Coin    Scrypt       True   PoW/PoS     4.199995e+01   \n",
       "365     365Coin       X11       True   PoW/PoS              NaN   \n",
       "404     404Coin    Scrypt       True   PoW/PoS     1.055185e+09   \n",
       "611   SixEleven   SHA-256       True       PoW              NaN   \n",
       "808         808   SHA-256       True   PoW/PoS     0.000000e+00   \n",
       "1337  EliteCoin       X13       True   PoW/PoS     2.927942e+10   \n",
       "2015  2015 coin       X11       True   PoW/PoS              NaN   \n",
       "BTC     Bitcoin   SHA-256       True       PoW     1.792718e+07   \n",
       "ETH    Ethereum    Ethash       True       PoW     1.076842e+08   \n",
       "LTC    Litecoin    Scrypt       True       PoW     6.303924e+07   \n",
       "\n",
       "     TotalCoinSupply  \n",
       "42                42  \n",
       "365       2300000000  \n",
       "404        532000000  \n",
       "611           611000  \n",
       "808                0  \n",
       "1337    314159265359  \n",
       "2015               0  \n",
       "BTC         21000000  \n",
       "ETH                0  \n",
       "LTC         84000000  "
      ]
     },
     "execution_count": 166,
     "metadata": {},
     "output_type": "execute_result"
    }
   ],
   "source": [
    "# Keep all the cryptocurrencies that are being traded.\n",
    "traded_df = df.loc[df['IsTrading'] == True]\n",
    "print(traded_df.count())\n",
    "traded_df.head(10)"
   ]
  },
  {
   "cell_type": "code",
   "execution_count": 167,
   "metadata": {},
   "outputs": [
    {
     "data": {
      "text/html": [
       "<div>\n",
       "<style scoped>\n",
       "    .dataframe tbody tr th:only-of-type {\n",
       "        vertical-align: middle;\n",
       "    }\n",
       "\n",
       "    .dataframe tbody tr th {\n",
       "        vertical-align: top;\n",
       "    }\n",
       "\n",
       "    .dataframe thead th {\n",
       "        text-align: right;\n",
       "    }\n",
       "</style>\n",
       "<table border=\"1\" class=\"dataframe\">\n",
       "  <thead>\n",
       "    <tr style=\"text-align: right;\">\n",
       "      <th></th>\n",
       "      <th>CoinName</th>\n",
       "      <th>Algorithm</th>\n",
       "      <th>ProofType</th>\n",
       "      <th>TotalCoinsMined</th>\n",
       "      <th>TotalCoinSupply</th>\n",
       "    </tr>\n",
       "  </thead>\n",
       "  <tbody>\n",
       "    <tr>\n",
       "      <th>42</th>\n",
       "      <td>42 Coin</td>\n",
       "      <td>Scrypt</td>\n",
       "      <td>PoW/PoS</td>\n",
       "      <td>4.199995e+01</td>\n",
       "      <td>42</td>\n",
       "    </tr>\n",
       "    <tr>\n",
       "      <th>365</th>\n",
       "      <td>365Coin</td>\n",
       "      <td>X11</td>\n",
       "      <td>PoW/PoS</td>\n",
       "      <td>NaN</td>\n",
       "      <td>2300000000</td>\n",
       "    </tr>\n",
       "    <tr>\n",
       "      <th>404</th>\n",
       "      <td>404Coin</td>\n",
       "      <td>Scrypt</td>\n",
       "      <td>PoW/PoS</td>\n",
       "      <td>1.055185e+09</td>\n",
       "      <td>532000000</td>\n",
       "    </tr>\n",
       "    <tr>\n",
       "      <th>611</th>\n",
       "      <td>SixEleven</td>\n",
       "      <td>SHA-256</td>\n",
       "      <td>PoW</td>\n",
       "      <td>NaN</td>\n",
       "      <td>611000</td>\n",
       "    </tr>\n",
       "    <tr>\n",
       "      <th>808</th>\n",
       "      <td>808</td>\n",
       "      <td>SHA-256</td>\n",
       "      <td>PoW/PoS</td>\n",
       "      <td>0.000000e+00</td>\n",
       "      <td>0</td>\n",
       "    </tr>\n",
       "    <tr>\n",
       "      <th>1337</th>\n",
       "      <td>EliteCoin</td>\n",
       "      <td>X13</td>\n",
       "      <td>PoW/PoS</td>\n",
       "      <td>2.927942e+10</td>\n",
       "      <td>314159265359</td>\n",
       "    </tr>\n",
       "    <tr>\n",
       "      <th>2015</th>\n",
       "      <td>2015 coin</td>\n",
       "      <td>X11</td>\n",
       "      <td>PoW/PoS</td>\n",
       "      <td>NaN</td>\n",
       "      <td>0</td>\n",
       "    </tr>\n",
       "    <tr>\n",
       "      <th>BTC</th>\n",
       "      <td>Bitcoin</td>\n",
       "      <td>SHA-256</td>\n",
       "      <td>PoW</td>\n",
       "      <td>1.792718e+07</td>\n",
       "      <td>21000000</td>\n",
       "    </tr>\n",
       "    <tr>\n",
       "      <th>ETH</th>\n",
       "      <td>Ethereum</td>\n",
       "      <td>Ethash</td>\n",
       "      <td>PoW</td>\n",
       "      <td>1.076842e+08</td>\n",
       "      <td>0</td>\n",
       "    </tr>\n",
       "    <tr>\n",
       "      <th>LTC</th>\n",
       "      <td>Litecoin</td>\n",
       "      <td>Scrypt</td>\n",
       "      <td>PoW</td>\n",
       "      <td>6.303924e+07</td>\n",
       "      <td>84000000</td>\n",
       "    </tr>\n",
       "  </tbody>\n",
       "</table>\n",
       "</div>"
      ],
      "text/plain": [
       "       CoinName Algorithm ProofType  TotalCoinsMined TotalCoinSupply\n",
       "42      42 Coin    Scrypt   PoW/PoS     4.199995e+01              42\n",
       "365     365Coin       X11   PoW/PoS              NaN      2300000000\n",
       "404     404Coin    Scrypt   PoW/PoS     1.055185e+09       532000000\n",
       "611   SixEleven   SHA-256       PoW              NaN          611000\n",
       "808         808   SHA-256   PoW/PoS     0.000000e+00               0\n",
       "1337  EliteCoin       X13   PoW/PoS     2.927942e+10    314159265359\n",
       "2015  2015 coin       X11   PoW/PoS              NaN               0\n",
       "BTC     Bitcoin   SHA-256       PoW     1.792718e+07        21000000\n",
       "ETH    Ethereum    Ethash       PoW     1.076842e+08               0\n",
       "LTC    Litecoin    Scrypt       PoW     6.303924e+07        84000000"
      ]
     },
     "execution_count": 167,
     "metadata": {},
     "output_type": "execute_result"
    }
   ],
   "source": [
    "# Remove the \"IsTrading\" column. \n",
    "traded_df = traded_df.drop(['IsTrading'], axis = 1)\n",
    "traded_df.head(10)"
   ]
  },
  {
   "cell_type": "code",
   "execution_count": 168,
   "metadata": {},
   "outputs": [
    {
     "data": {
      "text/html": [
       "<div>\n",
       "<style scoped>\n",
       "    .dataframe tbody tr th:only-of-type {\n",
       "        vertical-align: middle;\n",
       "    }\n",
       "\n",
       "    .dataframe tbody tr th {\n",
       "        vertical-align: top;\n",
       "    }\n",
       "\n",
       "    .dataframe thead th {\n",
       "        text-align: right;\n",
       "    }\n",
       "</style>\n",
       "<table border=\"1\" class=\"dataframe\">\n",
       "  <thead>\n",
       "    <tr style=\"text-align: right;\">\n",
       "      <th></th>\n",
       "      <th>CoinName</th>\n",
       "      <th>Algorithm</th>\n",
       "      <th>ProofType</th>\n",
       "      <th>TotalCoinsMined</th>\n",
       "      <th>TotalCoinSupply</th>\n",
       "    </tr>\n",
       "  </thead>\n",
       "  <tbody>\n",
       "    <tr>\n",
       "      <th>42</th>\n",
       "      <td>42 Coin</td>\n",
       "      <td>Scrypt</td>\n",
       "      <td>PoW/PoS</td>\n",
       "      <td>4.199995e+01</td>\n",
       "      <td>42</td>\n",
       "    </tr>\n",
       "    <tr>\n",
       "      <th>404</th>\n",
       "      <td>404Coin</td>\n",
       "      <td>Scrypt</td>\n",
       "      <td>PoW/PoS</td>\n",
       "      <td>1.055185e+09</td>\n",
       "      <td>532000000</td>\n",
       "    </tr>\n",
       "    <tr>\n",
       "      <th>808</th>\n",
       "      <td>808</td>\n",
       "      <td>SHA-256</td>\n",
       "      <td>PoW/PoS</td>\n",
       "      <td>0.000000e+00</td>\n",
       "      <td>0</td>\n",
       "    </tr>\n",
       "    <tr>\n",
       "      <th>1337</th>\n",
       "      <td>EliteCoin</td>\n",
       "      <td>X13</td>\n",
       "      <td>PoW/PoS</td>\n",
       "      <td>2.927942e+10</td>\n",
       "      <td>314159265359</td>\n",
       "    </tr>\n",
       "    <tr>\n",
       "      <th>BTC</th>\n",
       "      <td>Bitcoin</td>\n",
       "      <td>SHA-256</td>\n",
       "      <td>PoW</td>\n",
       "      <td>1.792718e+07</td>\n",
       "      <td>21000000</td>\n",
       "    </tr>\n",
       "    <tr>\n",
       "      <th>ETH</th>\n",
       "      <td>Ethereum</td>\n",
       "      <td>Ethash</td>\n",
       "      <td>PoW</td>\n",
       "      <td>1.076842e+08</td>\n",
       "      <td>0</td>\n",
       "    </tr>\n",
       "    <tr>\n",
       "      <th>LTC</th>\n",
       "      <td>Litecoin</td>\n",
       "      <td>Scrypt</td>\n",
       "      <td>PoW</td>\n",
       "      <td>6.303924e+07</td>\n",
       "      <td>84000000</td>\n",
       "    </tr>\n",
       "    <tr>\n",
       "      <th>DASH</th>\n",
       "      <td>Dash</td>\n",
       "      <td>X11</td>\n",
       "      <td>PoW/PoS</td>\n",
       "      <td>9.031294e+06</td>\n",
       "      <td>22000000</td>\n",
       "    </tr>\n",
       "    <tr>\n",
       "      <th>XMR</th>\n",
       "      <td>Monero</td>\n",
       "      <td>CryptoNight-V7</td>\n",
       "      <td>PoW</td>\n",
       "      <td>1.720114e+07</td>\n",
       "      <td>0</td>\n",
       "    </tr>\n",
       "    <tr>\n",
       "      <th>ETC</th>\n",
       "      <td>Ethereum Classic</td>\n",
       "      <td>Ethash</td>\n",
       "      <td>PoW</td>\n",
       "      <td>1.133597e+08</td>\n",
       "      <td>210000000</td>\n",
       "    </tr>\n",
       "  </tbody>\n",
       "</table>\n",
       "</div>"
      ],
      "text/plain": [
       "              CoinName       Algorithm ProofType  TotalCoinsMined  \\\n",
       "42             42 Coin          Scrypt   PoW/PoS     4.199995e+01   \n",
       "404            404Coin          Scrypt   PoW/PoS     1.055185e+09   \n",
       "808                808         SHA-256   PoW/PoS     0.000000e+00   \n",
       "1337         EliteCoin             X13   PoW/PoS     2.927942e+10   \n",
       "BTC            Bitcoin         SHA-256       PoW     1.792718e+07   \n",
       "ETH           Ethereum          Ethash       PoW     1.076842e+08   \n",
       "LTC           Litecoin          Scrypt       PoW     6.303924e+07   \n",
       "DASH              Dash             X11   PoW/PoS     9.031294e+06   \n",
       "XMR             Monero  CryptoNight-V7       PoW     1.720114e+07   \n",
       "ETC   Ethereum Classic          Ethash       PoW     1.133597e+08   \n",
       "\n",
       "     TotalCoinSupply  \n",
       "42                42  \n",
       "404        532000000  \n",
       "808                0  \n",
       "1337    314159265359  \n",
       "BTC         21000000  \n",
       "ETH                0  \n",
       "LTC         84000000  \n",
       "DASH        22000000  \n",
       "XMR                0  \n",
       "ETC        210000000  "
      ]
     },
     "execution_count": 168,
     "metadata": {},
     "output_type": "execute_result"
    }
   ],
   "source": [
    "# Remove rows that have at least 1 null value.\n",
    "traded_df = traded_df.dropna()\n",
    "traded_df.head(10)"
   ]
  },
  {
   "cell_type": "code",
   "execution_count": 169,
   "metadata": {},
   "outputs": [
    {
     "data": {
      "text/html": [
       "<div>\n",
       "<style scoped>\n",
       "    .dataframe tbody tr th:only-of-type {\n",
       "        vertical-align: middle;\n",
       "    }\n",
       "\n",
       "    .dataframe tbody tr th {\n",
       "        vertical-align: top;\n",
       "    }\n",
       "\n",
       "    .dataframe thead th {\n",
       "        text-align: right;\n",
       "    }\n",
       "</style>\n",
       "<table border=\"1\" class=\"dataframe\">\n",
       "  <thead>\n",
       "    <tr style=\"text-align: right;\">\n",
       "      <th></th>\n",
       "      <th>CoinName</th>\n",
       "      <th>Algorithm</th>\n",
       "      <th>ProofType</th>\n",
       "      <th>TotalCoinsMined</th>\n",
       "      <th>TotalCoinSupply</th>\n",
       "    </tr>\n",
       "  </thead>\n",
       "  <tbody>\n",
       "    <tr>\n",
       "      <th>42</th>\n",
       "      <td>42 Coin</td>\n",
       "      <td>Scrypt</td>\n",
       "      <td>PoW/PoS</td>\n",
       "      <td>4.199995e+01</td>\n",
       "      <td>42</td>\n",
       "    </tr>\n",
       "    <tr>\n",
       "      <th>404</th>\n",
       "      <td>404Coin</td>\n",
       "      <td>Scrypt</td>\n",
       "      <td>PoW/PoS</td>\n",
       "      <td>1.055185e+09</td>\n",
       "      <td>532000000</td>\n",
       "    </tr>\n",
       "    <tr>\n",
       "      <th>1337</th>\n",
       "      <td>EliteCoin</td>\n",
       "      <td>X13</td>\n",
       "      <td>PoW/PoS</td>\n",
       "      <td>2.927942e+10</td>\n",
       "      <td>314159265359</td>\n",
       "    </tr>\n",
       "    <tr>\n",
       "      <th>BTC</th>\n",
       "      <td>Bitcoin</td>\n",
       "      <td>SHA-256</td>\n",
       "      <td>PoW</td>\n",
       "      <td>1.792718e+07</td>\n",
       "      <td>21000000</td>\n",
       "    </tr>\n",
       "    <tr>\n",
       "      <th>ETH</th>\n",
       "      <td>Ethereum</td>\n",
       "      <td>Ethash</td>\n",
       "      <td>PoW</td>\n",
       "      <td>1.076842e+08</td>\n",
       "      <td>0</td>\n",
       "    </tr>\n",
       "    <tr>\n",
       "      <th>LTC</th>\n",
       "      <td>Litecoin</td>\n",
       "      <td>Scrypt</td>\n",
       "      <td>PoW</td>\n",
       "      <td>6.303924e+07</td>\n",
       "      <td>84000000</td>\n",
       "    </tr>\n",
       "    <tr>\n",
       "      <th>DASH</th>\n",
       "      <td>Dash</td>\n",
       "      <td>X11</td>\n",
       "      <td>PoW/PoS</td>\n",
       "      <td>9.031294e+06</td>\n",
       "      <td>22000000</td>\n",
       "    </tr>\n",
       "    <tr>\n",
       "      <th>XMR</th>\n",
       "      <td>Monero</td>\n",
       "      <td>CryptoNight-V7</td>\n",
       "      <td>PoW</td>\n",
       "      <td>1.720114e+07</td>\n",
       "      <td>0</td>\n",
       "    </tr>\n",
       "    <tr>\n",
       "      <th>ETC</th>\n",
       "      <td>Ethereum Classic</td>\n",
       "      <td>Ethash</td>\n",
       "      <td>PoW</td>\n",
       "      <td>1.133597e+08</td>\n",
       "      <td>210000000</td>\n",
       "    </tr>\n",
       "    <tr>\n",
       "      <th>ZEC</th>\n",
       "      <td>ZCash</td>\n",
       "      <td>Equihash</td>\n",
       "      <td>PoW</td>\n",
       "      <td>7.383056e+06</td>\n",
       "      <td>21000000</td>\n",
       "    </tr>\n",
       "  </tbody>\n",
       "</table>\n",
       "</div>"
      ],
      "text/plain": [
       "              CoinName       Algorithm ProofType  TotalCoinsMined  \\\n",
       "42             42 Coin          Scrypt   PoW/PoS     4.199995e+01   \n",
       "404            404Coin          Scrypt   PoW/PoS     1.055185e+09   \n",
       "1337         EliteCoin             X13   PoW/PoS     2.927942e+10   \n",
       "BTC            Bitcoin         SHA-256       PoW     1.792718e+07   \n",
       "ETH           Ethereum          Ethash       PoW     1.076842e+08   \n",
       "LTC           Litecoin          Scrypt       PoW     6.303924e+07   \n",
       "DASH              Dash             X11   PoW/PoS     9.031294e+06   \n",
       "XMR             Monero  CryptoNight-V7       PoW     1.720114e+07   \n",
       "ETC   Ethereum Classic          Ethash       PoW     1.133597e+08   \n",
       "ZEC              ZCash        Equihash       PoW     7.383056e+06   \n",
       "\n",
       "     TotalCoinSupply  \n",
       "42                42  \n",
       "404        532000000  \n",
       "1337    314159265359  \n",
       "BTC         21000000  \n",
       "ETH                0  \n",
       "LTC         84000000  \n",
       "DASH        22000000  \n",
       "XMR                0  \n",
       "ETC        210000000  \n",
       "ZEC         21000000  "
      ]
     },
     "execution_count": 169,
     "metadata": {},
     "output_type": "execute_result"
    }
   ],
   "source": [
    "# Keep the rows where coins are mined.\n",
    "mined_df = traded_df.loc[df['TotalCoinsMined'] > 0]\n",
    "mined_df.head(10)"
   ]
  },
  {
   "cell_type": "code",
   "execution_count": 170,
   "metadata": {},
   "outputs": [
    {
     "data": {
      "text/plain": [
       "CoinName    532\n",
       "dtype: int64"
      ]
     },
     "execution_count": 170,
     "metadata": {},
     "output_type": "execute_result"
    }
   ],
   "source": [
    "# Create a new DataFrame that holds only the cryptocurrencies names.\n",
    "crypto_names = pd.DataFrame(mined_df['CoinName'], columns = ['CoinName'])\n",
    "crypto_names.count()"
   ]
  },
  {
   "cell_type": "code",
   "execution_count": 171,
   "metadata": {},
   "outputs": [
    {
     "data": {
      "text/html": [
       "<div>\n",
       "<style scoped>\n",
       "    .dataframe tbody tr th:only-of-type {\n",
       "        vertical-align: middle;\n",
       "    }\n",
       "\n",
       "    .dataframe tbody tr th {\n",
       "        vertical-align: top;\n",
       "    }\n",
       "\n",
       "    .dataframe thead th {\n",
       "        text-align: right;\n",
       "    }\n",
       "</style>\n",
       "<table border=\"1\" class=\"dataframe\">\n",
       "  <thead>\n",
       "    <tr style=\"text-align: right;\">\n",
       "      <th></th>\n",
       "      <th>Algorithm</th>\n",
       "      <th>ProofType</th>\n",
       "      <th>TotalCoinsMined</th>\n",
       "      <th>TotalCoinSupply</th>\n",
       "    </tr>\n",
       "  </thead>\n",
       "  <tbody>\n",
       "    <tr>\n",
       "      <th>42</th>\n",
       "      <td>Scrypt</td>\n",
       "      <td>PoW/PoS</td>\n",
       "      <td>4.199995e+01</td>\n",
       "      <td>42</td>\n",
       "    </tr>\n",
       "    <tr>\n",
       "      <th>404</th>\n",
       "      <td>Scrypt</td>\n",
       "      <td>PoW/PoS</td>\n",
       "      <td>1.055185e+09</td>\n",
       "      <td>532000000</td>\n",
       "    </tr>\n",
       "    <tr>\n",
       "      <th>1337</th>\n",
       "      <td>X13</td>\n",
       "      <td>PoW/PoS</td>\n",
       "      <td>2.927942e+10</td>\n",
       "      <td>314159265359</td>\n",
       "    </tr>\n",
       "    <tr>\n",
       "      <th>BTC</th>\n",
       "      <td>SHA-256</td>\n",
       "      <td>PoW</td>\n",
       "      <td>1.792718e+07</td>\n",
       "      <td>21000000</td>\n",
       "    </tr>\n",
       "    <tr>\n",
       "      <th>ETH</th>\n",
       "      <td>Ethash</td>\n",
       "      <td>PoW</td>\n",
       "      <td>1.076842e+08</td>\n",
       "      <td>0</td>\n",
       "    </tr>\n",
       "  </tbody>\n",
       "</table>\n",
       "</div>"
      ],
      "text/plain": [
       "     Algorithm ProofType  TotalCoinsMined TotalCoinSupply\n",
       "42      Scrypt   PoW/PoS     4.199995e+01              42\n",
       "404     Scrypt   PoW/PoS     1.055185e+09       532000000\n",
       "1337       X13   PoW/PoS     2.927942e+10    314159265359\n",
       "BTC    SHA-256       PoW     1.792718e+07        21000000\n",
       "ETH     Ethash       PoW     1.076842e+08               0"
      ]
     },
     "execution_count": 171,
     "metadata": {},
     "output_type": "execute_result"
    }
   ],
   "source": [
    "# Drop the 'CoinName' column since it's not going to be used on the clustering algorithm.\n",
    "mined_df = mined_df.drop(['CoinName'], axis = 1)\n",
    "mined_df.head()"
   ]
  },
  {
   "cell_type": "code",
   "execution_count": 172,
   "metadata": {},
   "outputs": [
    {
     "data": {
      "text/html": [
       "<div>\n",
       "<style scoped>\n",
       "    .dataframe tbody tr th:only-of-type {\n",
       "        vertical-align: middle;\n",
       "    }\n",
       "\n",
       "    .dataframe tbody tr th {\n",
       "        vertical-align: top;\n",
       "    }\n",
       "\n",
       "    .dataframe thead th {\n",
       "        text-align: right;\n",
       "    }\n",
       "</style>\n",
       "<table border=\"1\" class=\"dataframe\">\n",
       "  <thead>\n",
       "    <tr style=\"text-align: right;\">\n",
       "      <th></th>\n",
       "      <th>TotalCoinsMined</th>\n",
       "      <th>TotalCoinSupply</th>\n",
       "      <th>Algorithm_1GB AES Pattern Search</th>\n",
       "      <th>Algorithm_536</th>\n",
       "      <th>Algorithm_Argon2d</th>\n",
       "      <th>Algorithm_BLAKE256</th>\n",
       "      <th>Algorithm_Blake</th>\n",
       "      <th>Algorithm_Blake2S</th>\n",
       "      <th>Algorithm_Blake2b</th>\n",
       "      <th>Algorithm_C11</th>\n",
       "      <th>...</th>\n",
       "      <th>ProofType_PoW/PoS</th>\n",
       "      <th>ProofType_PoW/PoS</th>\n",
       "      <th>ProofType_PoW/PoW</th>\n",
       "      <th>ProofType_PoW/nPoS</th>\n",
       "      <th>ProofType_Pos</th>\n",
       "      <th>ProofType_Proof of Authority</th>\n",
       "      <th>ProofType_Proof of Trust</th>\n",
       "      <th>ProofType_TPoS</th>\n",
       "      <th>ProofType_Zero-Knowledge Proof</th>\n",
       "      <th>ProofType_dPoW/PoW</th>\n",
       "    </tr>\n",
       "  </thead>\n",
       "  <tbody>\n",
       "    <tr>\n",
       "      <th>42</th>\n",
       "      <td>4.199995e+01</td>\n",
       "      <td>42</td>\n",
       "      <td>0</td>\n",
       "      <td>0</td>\n",
       "      <td>0</td>\n",
       "      <td>0</td>\n",
       "      <td>0</td>\n",
       "      <td>0</td>\n",
       "      <td>0</td>\n",
       "      <td>0</td>\n",
       "      <td>...</td>\n",
       "      <td>1</td>\n",
       "      <td>0</td>\n",
       "      <td>0</td>\n",
       "      <td>0</td>\n",
       "      <td>0</td>\n",
       "      <td>0</td>\n",
       "      <td>0</td>\n",
       "      <td>0</td>\n",
       "      <td>0</td>\n",
       "      <td>0</td>\n",
       "    </tr>\n",
       "    <tr>\n",
       "      <th>404</th>\n",
       "      <td>1.055185e+09</td>\n",
       "      <td>532000000</td>\n",
       "      <td>0</td>\n",
       "      <td>0</td>\n",
       "      <td>0</td>\n",
       "      <td>0</td>\n",
       "      <td>0</td>\n",
       "      <td>0</td>\n",
       "      <td>0</td>\n",
       "      <td>0</td>\n",
       "      <td>...</td>\n",
       "      <td>1</td>\n",
       "      <td>0</td>\n",
       "      <td>0</td>\n",
       "      <td>0</td>\n",
       "      <td>0</td>\n",
       "      <td>0</td>\n",
       "      <td>0</td>\n",
       "      <td>0</td>\n",
       "      <td>0</td>\n",
       "      <td>0</td>\n",
       "    </tr>\n",
       "    <tr>\n",
       "      <th>1337</th>\n",
       "      <td>2.927942e+10</td>\n",
       "      <td>314159265359</td>\n",
       "      <td>0</td>\n",
       "      <td>0</td>\n",
       "      <td>0</td>\n",
       "      <td>0</td>\n",
       "      <td>0</td>\n",
       "      <td>0</td>\n",
       "      <td>0</td>\n",
       "      <td>0</td>\n",
       "      <td>...</td>\n",
       "      <td>1</td>\n",
       "      <td>0</td>\n",
       "      <td>0</td>\n",
       "      <td>0</td>\n",
       "      <td>0</td>\n",
       "      <td>0</td>\n",
       "      <td>0</td>\n",
       "      <td>0</td>\n",
       "      <td>0</td>\n",
       "      <td>0</td>\n",
       "    </tr>\n",
       "    <tr>\n",
       "      <th>BTC</th>\n",
       "      <td>1.792718e+07</td>\n",
       "      <td>21000000</td>\n",
       "      <td>0</td>\n",
       "      <td>0</td>\n",
       "      <td>0</td>\n",
       "      <td>0</td>\n",
       "      <td>0</td>\n",
       "      <td>0</td>\n",
       "      <td>0</td>\n",
       "      <td>0</td>\n",
       "      <td>...</td>\n",
       "      <td>0</td>\n",
       "      <td>0</td>\n",
       "      <td>0</td>\n",
       "      <td>0</td>\n",
       "      <td>0</td>\n",
       "      <td>0</td>\n",
       "      <td>0</td>\n",
       "      <td>0</td>\n",
       "      <td>0</td>\n",
       "      <td>0</td>\n",
       "    </tr>\n",
       "    <tr>\n",
       "      <th>ETH</th>\n",
       "      <td>1.076842e+08</td>\n",
       "      <td>0</td>\n",
       "      <td>0</td>\n",
       "      <td>0</td>\n",
       "      <td>0</td>\n",
       "      <td>0</td>\n",
       "      <td>0</td>\n",
       "      <td>0</td>\n",
       "      <td>0</td>\n",
       "      <td>0</td>\n",
       "      <td>...</td>\n",
       "      <td>0</td>\n",
       "      <td>0</td>\n",
       "      <td>0</td>\n",
       "      <td>0</td>\n",
       "      <td>0</td>\n",
       "      <td>0</td>\n",
       "      <td>0</td>\n",
       "      <td>0</td>\n",
       "      <td>0</td>\n",
       "      <td>0</td>\n",
       "    </tr>\n",
       "    <tr>\n",
       "      <th>LTC</th>\n",
       "      <td>6.303924e+07</td>\n",
       "      <td>84000000</td>\n",
       "      <td>0</td>\n",
       "      <td>0</td>\n",
       "      <td>0</td>\n",
       "      <td>0</td>\n",
       "      <td>0</td>\n",
       "      <td>0</td>\n",
       "      <td>0</td>\n",
       "      <td>0</td>\n",
       "      <td>...</td>\n",
       "      <td>0</td>\n",
       "      <td>0</td>\n",
       "      <td>0</td>\n",
       "      <td>0</td>\n",
       "      <td>0</td>\n",
       "      <td>0</td>\n",
       "      <td>0</td>\n",
       "      <td>0</td>\n",
       "      <td>0</td>\n",
       "      <td>0</td>\n",
       "    </tr>\n",
       "    <tr>\n",
       "      <th>DASH</th>\n",
       "      <td>9.031294e+06</td>\n",
       "      <td>22000000</td>\n",
       "      <td>0</td>\n",
       "      <td>0</td>\n",
       "      <td>0</td>\n",
       "      <td>0</td>\n",
       "      <td>0</td>\n",
       "      <td>0</td>\n",
       "      <td>0</td>\n",
       "      <td>0</td>\n",
       "      <td>...</td>\n",
       "      <td>1</td>\n",
       "      <td>0</td>\n",
       "      <td>0</td>\n",
       "      <td>0</td>\n",
       "      <td>0</td>\n",
       "      <td>0</td>\n",
       "      <td>0</td>\n",
       "      <td>0</td>\n",
       "      <td>0</td>\n",
       "      <td>0</td>\n",
       "    </tr>\n",
       "    <tr>\n",
       "      <th>XMR</th>\n",
       "      <td>1.720114e+07</td>\n",
       "      <td>0</td>\n",
       "      <td>0</td>\n",
       "      <td>0</td>\n",
       "      <td>0</td>\n",
       "      <td>0</td>\n",
       "      <td>0</td>\n",
       "      <td>0</td>\n",
       "      <td>0</td>\n",
       "      <td>0</td>\n",
       "      <td>...</td>\n",
       "      <td>0</td>\n",
       "      <td>0</td>\n",
       "      <td>0</td>\n",
       "      <td>0</td>\n",
       "      <td>0</td>\n",
       "      <td>0</td>\n",
       "      <td>0</td>\n",
       "      <td>0</td>\n",
       "      <td>0</td>\n",
       "      <td>0</td>\n",
       "    </tr>\n",
       "    <tr>\n",
       "      <th>ETC</th>\n",
       "      <td>1.133597e+08</td>\n",
       "      <td>210000000</td>\n",
       "      <td>0</td>\n",
       "      <td>0</td>\n",
       "      <td>0</td>\n",
       "      <td>0</td>\n",
       "      <td>0</td>\n",
       "      <td>0</td>\n",
       "      <td>0</td>\n",
       "      <td>0</td>\n",
       "      <td>...</td>\n",
       "      <td>0</td>\n",
       "      <td>0</td>\n",
       "      <td>0</td>\n",
       "      <td>0</td>\n",
       "      <td>0</td>\n",
       "      <td>0</td>\n",
       "      <td>0</td>\n",
       "      <td>0</td>\n",
       "      <td>0</td>\n",
       "      <td>0</td>\n",
       "    </tr>\n",
       "    <tr>\n",
       "      <th>ZEC</th>\n",
       "      <td>7.383056e+06</td>\n",
       "      <td>21000000</td>\n",
       "      <td>0</td>\n",
       "      <td>0</td>\n",
       "      <td>0</td>\n",
       "      <td>0</td>\n",
       "      <td>0</td>\n",
       "      <td>0</td>\n",
       "      <td>0</td>\n",
       "      <td>0</td>\n",
       "      <td>...</td>\n",
       "      <td>0</td>\n",
       "      <td>0</td>\n",
       "      <td>0</td>\n",
       "      <td>0</td>\n",
       "      <td>0</td>\n",
       "      <td>0</td>\n",
       "      <td>0</td>\n",
       "      <td>0</td>\n",
       "      <td>0</td>\n",
       "      <td>0</td>\n",
       "    </tr>\n",
       "  </tbody>\n",
       "</table>\n",
       "<p>10 rows × 98 columns</p>\n",
       "</div>"
      ],
      "text/plain": [
       "      TotalCoinsMined TotalCoinSupply  Algorithm_1GB AES Pattern Search  \\\n",
       "42       4.199995e+01              42                                 0   \n",
       "404      1.055185e+09       532000000                                 0   \n",
       "1337     2.927942e+10    314159265359                                 0   \n",
       "BTC      1.792718e+07        21000000                                 0   \n",
       "ETH      1.076842e+08               0                                 0   \n",
       "LTC      6.303924e+07        84000000                                 0   \n",
       "DASH     9.031294e+06        22000000                                 0   \n",
       "XMR      1.720114e+07               0                                 0   \n",
       "ETC      1.133597e+08       210000000                                 0   \n",
       "ZEC      7.383056e+06        21000000                                 0   \n",
       "\n",
       "      Algorithm_536  Algorithm_Argon2d  Algorithm_BLAKE256  Algorithm_Blake  \\\n",
       "42                0                  0                   0                0   \n",
       "404               0                  0                   0                0   \n",
       "1337              0                  0                   0                0   \n",
       "BTC               0                  0                   0                0   \n",
       "ETH               0                  0                   0                0   \n",
       "LTC               0                  0                   0                0   \n",
       "DASH              0                  0                   0                0   \n",
       "XMR               0                  0                   0                0   \n",
       "ETC               0                  0                   0                0   \n",
       "ZEC               0                  0                   0                0   \n",
       "\n",
       "      Algorithm_Blake2S  Algorithm_Blake2b  Algorithm_C11  ...  \\\n",
       "42                    0                  0              0  ...   \n",
       "404                   0                  0              0  ...   \n",
       "1337                  0                  0              0  ...   \n",
       "BTC                   0                  0              0  ...   \n",
       "ETH                   0                  0              0  ...   \n",
       "LTC                   0                  0              0  ...   \n",
       "DASH                  0                  0              0  ...   \n",
       "XMR                   0                  0              0  ...   \n",
       "ETC                   0                  0              0  ...   \n",
       "ZEC                   0                  0              0  ...   \n",
       "\n",
       "      ProofType_PoW/PoS  ProofType_PoW/PoS   ProofType_PoW/PoW  \\\n",
       "42                    1                   0                  0   \n",
       "404                   1                   0                  0   \n",
       "1337                  1                   0                  0   \n",
       "BTC                   0                   0                  0   \n",
       "ETH                   0                   0                  0   \n",
       "LTC                   0                   0                  0   \n",
       "DASH                  1                   0                  0   \n",
       "XMR                   0                   0                  0   \n",
       "ETC                   0                   0                  0   \n",
       "ZEC                   0                   0                  0   \n",
       "\n",
       "      ProofType_PoW/nPoS  ProofType_Pos  ProofType_Proof of Authority  \\\n",
       "42                     0              0                             0   \n",
       "404                    0              0                             0   \n",
       "1337                   0              0                             0   \n",
       "BTC                    0              0                             0   \n",
       "ETH                    0              0                             0   \n",
       "LTC                    0              0                             0   \n",
       "DASH                   0              0                             0   \n",
       "XMR                    0              0                             0   \n",
       "ETC                    0              0                             0   \n",
       "ZEC                    0              0                             0   \n",
       "\n",
       "      ProofType_Proof of Trust  ProofType_TPoS  \\\n",
       "42                           0               0   \n",
       "404                          0               0   \n",
       "1337                         0               0   \n",
       "BTC                          0               0   \n",
       "ETH                          0               0   \n",
       "LTC                          0               0   \n",
       "DASH                         0               0   \n",
       "XMR                          0               0   \n",
       "ETC                          0               0   \n",
       "ZEC                          0               0   \n",
       "\n",
       "      ProofType_Zero-Knowledge Proof  ProofType_dPoW/PoW  \n",
       "42                                 0                   0  \n",
       "404                                0                   0  \n",
       "1337                               0                   0  \n",
       "BTC                                0                   0  \n",
       "ETH                                0                   0  \n",
       "LTC                                0                   0  \n",
       "DASH                               0                   0  \n",
       "XMR                                0                   0  \n",
       "ETC                                0                   0  \n",
       "ZEC                                0                   0  \n",
       "\n",
       "[10 rows x 98 columns]"
      ]
     },
     "execution_count": 172,
     "metadata": {},
     "output_type": "execute_result"
    }
   ],
   "source": [
    "# Use get_dummies() to create variables for text features.\n",
    "ndf = pd.get_dummies(mined_df, columns = ['Algorithm', 'ProofType'])\n",
    "ndf.head(10)"
   ]
  },
  {
   "cell_type": "code",
   "execution_count": 173,
   "metadata": {},
   "outputs": [
    {
     "name": "stdout",
     "output_type": "stream",
     "text": [
      "[[-0.11710817 -0.1528703  -0.0433963  -0.0433963  -0.0433963  -0.06142951\n",
      "  -0.07530656 -0.0433963  -0.06142951 -0.06142951 -0.0433963  -0.0433963\n",
      "  -0.19245009 -0.06142951 -0.09740465 -0.0433963  -0.11547005 -0.07530656\n",
      "  -0.0433963  -0.0433963  -0.15191091 -0.0433963  -0.13118084 -0.0433963\n",
      "  -0.0433963  -0.08703883 -0.0433963  -0.0433963  -0.0433963  -0.0433963\n",
      "  -0.06142951 -0.0433963  -0.08703883 -0.08703883 -0.08703883 -0.0433963\n",
      "  -0.13118084 -0.13840913 -0.13840913 -0.0433963  -0.06142951 -0.0433963\n",
      "  -0.07530656 -0.18168574 -0.0433963  -0.0433963  -0.0433963  -0.07530656\n",
      "  -0.15826614 -0.31491833 -0.0433963  -0.08703883 -0.07530656 -0.06142951\n",
      "   1.38675049 -0.0433963  -0.0433963  -0.06142951 -0.0433963  -0.0433963\n",
      "  -0.0433963  -0.0433963  -0.0433963  -0.0433963  -0.0433963  -0.0433963\n",
      "  -0.39879994 -0.0433963  -0.18168574 -0.0433963  -0.08703883 -0.08703883\n",
      "  -0.10680283 -0.0433963  -0.13118084 -0.0433963  -0.0433963  -0.0433963\n",
      "  -0.0433963  -0.07530656 -0.43911856 -0.0433963  -0.06142951 -0.0433963\n",
      "  -0.0433963  -0.89632016 -0.0433963  -0.0433963   1.42222617 -0.0433963\n",
      "  -0.0433963  -0.0433963  -0.0433963  -0.0433963  -0.0433963  -0.0433963\n",
      "  -0.0433963  -0.0433963 ]\n",
      " [-0.09396955 -0.145009   -0.0433963  -0.0433963  -0.0433963  -0.06142951\n",
      "  -0.07530656 -0.0433963  -0.06142951 -0.06142951 -0.0433963  -0.0433963\n",
      "  -0.19245009 -0.06142951 -0.09740465 -0.0433963  -0.11547005 -0.07530656\n",
      "  -0.0433963  -0.0433963  -0.15191091 -0.0433963  -0.13118084 -0.0433963\n",
      "  -0.0433963  -0.08703883 -0.0433963  -0.0433963  -0.0433963  -0.0433963\n",
      "  -0.06142951 -0.0433963  -0.08703883 -0.08703883 -0.08703883 -0.0433963\n",
      "  -0.13118084 -0.13840913 -0.13840913 -0.0433963  -0.06142951 -0.0433963\n",
      "  -0.07530656 -0.18168574 -0.0433963  -0.0433963  -0.0433963  -0.07530656\n",
      "  -0.15826614 -0.31491833 -0.0433963  -0.08703883 -0.07530656 -0.06142951\n",
      "   1.38675049 -0.0433963  -0.0433963  -0.06142951 -0.0433963  -0.0433963\n",
      "  -0.0433963  -0.0433963  -0.0433963  -0.0433963  -0.0433963  -0.0433963\n",
      "  -0.39879994 -0.0433963  -0.18168574 -0.0433963  -0.08703883 -0.08703883\n",
      "  -0.10680283 -0.0433963  -0.13118084 -0.0433963  -0.0433963  -0.0433963\n",
      "  -0.0433963  -0.07530656 -0.43911856 -0.0433963  -0.06142951 -0.0433963\n",
      "  -0.0433963  -0.89632016 -0.0433963  -0.0433963   1.42222617 -0.0433963\n",
      "  -0.0433963  -0.0433963  -0.0433963  -0.0433963  -0.0433963  -0.0433963\n",
      "  -0.0433963  -0.0433963 ]\n",
      " [ 0.52494561  4.48942416 -0.0433963  -0.0433963  -0.0433963  -0.06142951\n",
      "  -0.07530656 -0.0433963  -0.06142951 -0.06142951 -0.0433963  -0.0433963\n",
      "  -0.19245009 -0.06142951 -0.09740465 -0.0433963  -0.11547005 -0.07530656\n",
      "  -0.0433963  -0.0433963  -0.15191091 -0.0433963  -0.13118084 -0.0433963\n",
      "  -0.0433963  -0.08703883 -0.0433963  -0.0433963  -0.0433963  -0.0433963\n",
      "  -0.06142951 -0.0433963  -0.08703883 -0.08703883 -0.08703883 -0.0433963\n",
      "  -0.13118084 -0.13840913 -0.13840913 -0.0433963  -0.06142951 -0.0433963\n",
      "  -0.07530656 -0.18168574 -0.0433963  -0.0433963  -0.0433963  -0.07530656\n",
      "  -0.15826614 -0.31491833 -0.0433963  -0.08703883 -0.07530656 -0.06142951\n",
      "  -0.72111026 -0.0433963  -0.0433963  -0.06142951 -0.0433963  -0.0433963\n",
      "  -0.0433963  -0.0433963  -0.0433963  -0.0433963  -0.0433963  -0.0433963\n",
      "  -0.39879994 -0.0433963   5.50400923 -0.0433963  -0.08703883 -0.08703883\n",
      "  -0.10680283 -0.0433963  -0.13118084 -0.0433963  -0.0433963  -0.0433963\n",
      "  -0.0433963  -0.07530656 -0.43911856 -0.0433963  -0.06142951 -0.0433963\n",
      "  -0.0433963  -0.89632016 -0.0433963  -0.0433963   1.42222617 -0.0433963\n",
      "  -0.0433963  -0.0433963  -0.0433963  -0.0433963  -0.0433963  -0.0433963\n",
      "  -0.0433963  -0.0433963 ]\n",
      " [-0.11671506 -0.15255998 -0.0433963  -0.0433963  -0.0433963  -0.06142951\n",
      "  -0.07530656 -0.0433963  -0.06142951 -0.06142951 -0.0433963  -0.0433963\n",
      "  -0.19245009 -0.06142951 -0.09740465 -0.0433963  -0.11547005 -0.07530656\n",
      "  -0.0433963  -0.0433963  -0.15191091 -0.0433963  -0.13118084 -0.0433963\n",
      "  -0.0433963  -0.08703883 -0.0433963  -0.0433963  -0.0433963  -0.0433963\n",
      "  -0.06142951 -0.0433963  -0.08703883 -0.08703883 -0.08703883 -0.0433963\n",
      "  -0.13118084 -0.13840913 -0.13840913 -0.0433963  -0.06142951 -0.0433963\n",
      "  -0.07530656 -0.18168574 -0.0433963  -0.0433963  -0.0433963  -0.07530656\n",
      "  -0.15826614  3.17542648 -0.0433963  -0.08703883 -0.07530656 -0.06142951\n",
      "  -0.72111026 -0.0433963  -0.0433963  -0.06142951 -0.0433963  -0.0433963\n",
      "  -0.0433963  -0.0433963  -0.0433963  -0.0433963  -0.0433963  -0.0433963\n",
      "  -0.39879994 -0.0433963  -0.18168574 -0.0433963  -0.08703883 -0.08703883\n",
      "  -0.10680283 -0.0433963  -0.13118084 -0.0433963  -0.0433963  -0.0433963\n",
      "  -0.0433963  -0.07530656 -0.43911856 -0.0433963  -0.06142951 -0.0433963\n",
      "  -0.0433963   1.11567277 -0.0433963  -0.0433963  -0.70312305 -0.0433963\n",
      "  -0.0433963  -0.0433963  -0.0433963  -0.0433963  -0.0433963  -0.0433963\n",
      "  -0.0433963  -0.0433963 ]\n",
      " [-0.11474682 -0.1528703  -0.0433963  -0.0433963  -0.0433963  -0.06142951\n",
      "  -0.07530656 -0.0433963  -0.06142951 -0.06142951 -0.0433963  -0.0433963\n",
      "  -0.19245009 -0.06142951 -0.09740465 -0.0433963  -0.11547005 -0.07530656\n",
      "  -0.0433963  -0.0433963  -0.15191091 -0.0433963   7.62306442 -0.0433963\n",
      "  -0.0433963  -0.08703883 -0.0433963  -0.0433963  -0.0433963  -0.0433963\n",
      "  -0.06142951 -0.0433963  -0.08703883 -0.08703883 -0.08703883 -0.0433963\n",
      "  -0.13118084 -0.13840913 -0.13840913 -0.0433963  -0.06142951 -0.0433963\n",
      "  -0.07530656 -0.18168574 -0.0433963  -0.0433963  -0.0433963  -0.07530656\n",
      "  -0.15826614 -0.31491833 -0.0433963  -0.08703883 -0.07530656 -0.06142951\n",
      "  -0.72111026 -0.0433963  -0.0433963  -0.06142951 -0.0433963  -0.0433963\n",
      "  -0.0433963  -0.0433963  -0.0433963  -0.0433963  -0.0433963  -0.0433963\n",
      "  -0.39879994 -0.0433963  -0.18168574 -0.0433963  -0.08703883 -0.08703883\n",
      "  -0.10680283 -0.0433963  -0.13118084 -0.0433963  -0.0433963  -0.0433963\n",
      "  -0.0433963  -0.07530656 -0.43911856 -0.0433963  -0.06142951 -0.0433963\n",
      "  -0.0433963   1.11567277 -0.0433963  -0.0433963  -0.70312305 -0.0433963\n",
      "  -0.0433963  -0.0433963  -0.0433963  -0.0433963  -0.0433963  -0.0433963\n",
      "  -0.0433963  -0.0433963 ]]\n"
     ]
    }
   ],
   "source": [
    "# Standardize the data with StandardScaler().\n",
    "crypto_scaled = StandardScaler().fit_transform(ndf)\n",
    "print(crypto_scaled[0:5])"
   ]
  },
  {
   "cell_type": "markdown",
   "metadata": {},
   "source": [
    "### Deliverable 2: Reducing Data Dimensions Using PCA"
   ]
  },
  {
   "cell_type": "code",
   "execution_count": 174,
   "metadata": {},
   "outputs": [
    {
     "data": {
      "text/plain": [
       "array([[-0.33998433,  1.04143148, -0.59813323],\n",
       "       [-0.32331179,  1.04154113, -0.59848047],\n",
       "       [ 2.30167953,  1.65377339, -0.63563384],\n",
       "       ...,\n",
       "       [ 0.32440167, -2.30258482,  0.42672883],\n",
       "       [-0.14577516, -2.04408778,  0.41748858],\n",
       "       [-0.29305747,  0.83732513, -0.27664473]])"
      ]
     },
     "execution_count": 174,
     "metadata": {},
     "output_type": "execute_result"
    }
   ],
   "source": [
    "# Using PCA to reduce dimension to three principal components.\n",
    "pca = PCA(n_components = 3)\n",
    "crypto_pca  = pca.fit_transform(crypto_scaled)\n",
    "crypto_pca"
   ]
  },
  {
   "cell_type": "code",
   "execution_count": 175,
   "metadata": {},
   "outputs": [
    {
     "data": {
      "text/html": [
       "<div>\n",
       "<style scoped>\n",
       "    .dataframe tbody tr th:only-of-type {\n",
       "        vertical-align: middle;\n",
       "    }\n",
       "\n",
       "    .dataframe tbody tr th {\n",
       "        vertical-align: top;\n",
       "    }\n",
       "\n",
       "    .dataframe thead th {\n",
       "        text-align: right;\n",
       "    }\n",
       "</style>\n",
       "<table border=\"1\" class=\"dataframe\">\n",
       "  <thead>\n",
       "    <tr style=\"text-align: right;\">\n",
       "      <th></th>\n",
       "      <th>PC 1</th>\n",
       "      <th>PC 2</th>\n",
       "      <th>PC 3</th>\n",
       "    </tr>\n",
       "  </thead>\n",
       "  <tbody>\n",
       "    <tr>\n",
       "      <th>42</th>\n",
       "      <td>-0.339984</td>\n",
       "      <td>1.041431</td>\n",
       "      <td>-0.598133</td>\n",
       "    </tr>\n",
       "    <tr>\n",
       "      <th>404</th>\n",
       "      <td>-0.323312</td>\n",
       "      <td>1.041541</td>\n",
       "      <td>-0.598480</td>\n",
       "    </tr>\n",
       "    <tr>\n",
       "      <th>1337</th>\n",
       "      <td>2.301680</td>\n",
       "      <td>1.653773</td>\n",
       "      <td>-0.635634</td>\n",
       "    </tr>\n",
       "    <tr>\n",
       "      <th>BTC</th>\n",
       "      <td>-0.151698</td>\n",
       "      <td>-1.309436</td>\n",
       "      <td>0.214591</td>\n",
       "    </tr>\n",
       "    <tr>\n",
       "      <th>ETH</th>\n",
       "      <td>-0.150675</td>\n",
       "      <td>-2.041385</td>\n",
       "      <td>0.406873</td>\n",
       "    </tr>\n",
       "    <tr>\n",
       "      <th>...</th>\n",
       "      <td>...</td>\n",
       "      <td>...</td>\n",
       "      <td>...</td>\n",
       "    </tr>\n",
       "    <tr>\n",
       "      <th>ZEPH</th>\n",
       "      <td>2.458377</td>\n",
       "      <td>0.848987</td>\n",
       "      <td>-0.044409</td>\n",
       "    </tr>\n",
       "    <tr>\n",
       "      <th>GAP</th>\n",
       "      <td>-0.338028</td>\n",
       "      <td>1.041312</td>\n",
       "      <td>-0.598154</td>\n",
       "    </tr>\n",
       "    <tr>\n",
       "      <th>BDX</th>\n",
       "      <td>0.324402</td>\n",
       "      <td>-2.302585</td>\n",
       "      <td>0.426729</td>\n",
       "    </tr>\n",
       "    <tr>\n",
       "      <th>ZEN</th>\n",
       "      <td>-0.145775</td>\n",
       "      <td>-2.044088</td>\n",
       "      <td>0.417489</td>\n",
       "    </tr>\n",
       "    <tr>\n",
       "      <th>XBC</th>\n",
       "      <td>-0.293057</td>\n",
       "      <td>0.837325</td>\n",
       "      <td>-0.276645</td>\n",
       "    </tr>\n",
       "  </tbody>\n",
       "</table>\n",
       "<p>532 rows × 3 columns</p>\n",
       "</div>"
      ],
      "text/plain": [
       "          PC 1      PC 2      PC 3\n",
       "42   -0.339984  1.041431 -0.598133\n",
       "404  -0.323312  1.041541 -0.598480\n",
       "1337  2.301680  1.653773 -0.635634\n",
       "BTC  -0.151698 -1.309436  0.214591\n",
       "ETH  -0.150675 -2.041385  0.406873\n",
       "...        ...       ...       ...\n",
       "ZEPH  2.458377  0.848987 -0.044409\n",
       "GAP  -0.338028  1.041312 -0.598154\n",
       "BDX   0.324402 -2.302585  0.426729\n",
       "ZEN  -0.145775 -2.044088  0.417489\n",
       "XBC  -0.293057  0.837325 -0.276645\n",
       "\n",
       "[532 rows x 3 columns]"
      ]
     },
     "execution_count": 175,
     "metadata": {},
     "output_type": "execute_result"
    }
   ],
   "source": [
    "# Create a DataFrame with the three principal components.\n",
    "crypto_pca_df = pd.DataFrame(data = crypto_pca,index = ndf.index, columns = ['PC 1', 'PC 2', 'PC 3'])\n",
    "crypto_pca_df"
   ]
  },
  {
   "cell_type": "markdown",
   "metadata": {},
   "source": [
    "### Deliverable 3: Clustering Crytocurrencies Using K-Means\n",
    "\n",
    "#### Finding the Best Value for `k` Using the Elbow Curve"
   ]
  },
  {
   "cell_type": "code",
   "execution_count": 241,
   "metadata": {},
   "outputs": [
    {
     "name": "stderr",
     "output_type": "stream",
     "text": [
      "C:\\Users\\choju\\anaconda3\\envs\\mlenv\\lib\\site-packages\\sklearn\\cluster\\_kmeans.py:1037: UserWarning:\n",
      "\n",
      "KMeans is known to have a memory leak on Windows with MKL, when there are less chunks than available threads. You can avoid it by setting the environment variable OMP_NUM_THREADS=3.\n",
      "\n"
     ]
    },
    {
     "data": {
      "image/png": "[encoded data removed]",
      "text/plain": [
       "<Figure size 640x480 with 1 Axes>"
      ]
     },
     "metadata": {},
     "output_type": "display_data"
    }
   ],
   "source": [
    "# Create an elbow curve to find the best value for K.\n",
    "inertia = []\n",
    "\n",
    "\n",
    "def test_cluster_amount(df, clusters):\n",
    "    model = KMeans(n_clusters=clusters, random_state=5)\n",
    "    model\n",
    "\n",
    "    # Fitting model\n",
    "    model.fit(df)\n",
    "\n",
    "    # Add a new class column to df_iris\n",
    "    df[\"class\"] = model.labels_\n",
    "    inertia.append(model.inertia_)\n",
    "\n",
    "k = list(range(1,11))\n",
    "    \n",
    "for i in k:\n",
    "    test_cluster_amount(crypto_pca_df, i)\n",
    "    \n",
    "elbow_data = {\"k\":k, \"inertia\": inertia}\n",
    "df_elbow = pd.DataFrame(elbow_data)\n",
    "\n",
    "import matplotlib.pyplot as plt\n",
    "\n",
    "plt.plot(df_elbow['k'], df_elbow['inertia'])\n",
    "plt.xticks(list(range(11)))\n",
    "plt.title('Elbow Curve')\n",
    "plt.xlabel('Number of Clusters')\n",
    "plt.ylabel('Inertia')\n",
    "plt.show()\n",
    "\n",
    "\n"
   ]
  },
  {
   "cell_type": "markdown",
   "metadata": {},
   "source": [
    "Running K-Means with `k=4`"
   ]
  },
  {
   "cell_type": "code",
   "execution_count": 177,
   "metadata": {},
   "outputs": [
    {
     "data": {
      "text/plain": [
       "array([1, 1, 1, 0, 3, 0, 1, 3, 3, 3, 0, 3, 1, 1, 0, 0, 0, 0, 1, 1, 3, 3,\n",
       "       0, 0, 0, 1, 0, 0, 0, 1, 0, 1, 0, 0, 1, 1, 3, 0, 0, 0, 0, 0, 0, 1,\n",
       "       0, 3, 0, 0, 0, 1, 1, 0, 1, 0, 0, 0, 0, 0, 0, 3, 1, 0, 1, 1, 0, 0,\n",
       "       0, 0, 0, 1, 1, 1, 1, 0, 0, 0, 1, 1, 0, 1, 0, 0, 1, 0, 0, 0, 0, 1,\n",
       "       1, 0, 1, 0, 0, 1, 1, 0, 0, 1, 3, 3, 1, 0, 0, 1, 1, 0, 1, 0, 0, 0,\n",
       "       1, 0, 1, 0, 0, 3, 1, 3, 0, 0, 1, 0, 3, 0, 0, 0, 1, 0, 0, 3, 0, 0,\n",
       "       0, 1, 0, 0, 1, 3, 0, 3, 1, 0, 0, 0, 1, 0, 3, 1, 1, 0, 1, 0, 0, 1,\n",
       "       1, 0, 3, 0, 3, 1, 1, 1, 1, 0, 0, 0, 1, 1, 1, 0, 1, 0, 0, 1, 1, 1,\n",
       "       0, 0, 1, 0, 1, 1, 3, 1, 0, 1, 1, 3, 1, 0, 1, 0, 1, 0, 0, 0, 1, 1,\n",
       "       3, 0, 0, 0, 0, 0, 3, 3, 1, 1, 0, 0, 0, 1, 0, 1, 1, 0, 0, 1, 1, 1,\n",
       "       1, 1, 1, 1, 3, 1, 1, 1, 1, 0, 1, 0, 3, 3, 1, 1, 1, 1, 0, 1, 3, 1,\n",
       "       1, 0, 0, 0, 3, 1, 0, 3, 1, 3, 1, 0, 1, 0, 0, 1, 0, 0, 1, 1, 1, 1,\n",
       "       1, 1, 0, 1, 0, 0, 1, 0, 1, 0, 0, 3, 0, 3, 3, 3, 3, 0, 0, 0, 0, 0,\n",
       "       0, 0, 0, 0, 1, 3, 0, 3, 3, 0, 0, 0, 0, 0, 1, 1, 3, 0, 0, 0, 0, 0,\n",
       "       0, 0, 1, 1, 3, 0, 0, 1, 3, 1, 0, 1, 3, 1, 3, 1, 1, 0, 0, 3, 1, 0,\n",
       "       0, 0, 1, 1, 0, 3, 3, 3, 1, 1, 0, 0, 3, 1, 3, 3, 3, 0, 0, 0, 3, 1,\n",
       "       1, 0, 1, 0, 0, 3, 0, 3, 0, 1, 1, 1, 0, 0, 0, 0, 1, 1, 3, 3, 1, 3,\n",
       "       0, 3, 0, 0, 3, 3, 0, 0, 0, 1, 3, 1, 0, 1, 0, 3, 3, 0, 3, 0, 1, 1,\n",
       "       3, 1, 3, 0, 0, 1, 1, 0, 0, 0, 3, 1, 1, 0, 3, 1, 3, 1, 3, 3, 3, 3,\n",
       "       1, 1, 3, 0, 3, 1, 0, 1, 0, 1, 0, 0, 3, 0, 1, 0, 0, 1, 1, 0, 0, 1,\n",
       "       3, 3, 0, 3, 1, 1, 1, 0, 0, 1, 1, 0, 1, 0, 0, 3, 3, 1, 3, 0, 1, 1,\n",
       "       3, 0, 3, 3, 1, 3, 0, 1, 3, 0, 3, 0, 1, 0, 1, 1, 0, 0, 1, 0, 0, 0,\n",
       "       1, 1, 1, 0, 1, 3, 1, 3, 1, 1, 1, 1, 0, 1, 1, 1, 0, 1, 0, 1, 0, 1,\n",
       "       1, 0, 0, 0, 1, 1, 1, 1, 1, 1, 3, 0, 3, 1, 3, 1, 1, 1, 0, 2, 0, 1,\n",
       "       1, 3, 3, 1])"
      ]
     },
     "execution_count": 177,
     "metadata": {},
     "output_type": "execute_result"
    }
   ],
   "source": [
    "km = KMeans(n_clusters = 4, random_state = 5)\n",
    "\n",
    "km.fit(crypto_pca_df)\n",
    "\n",
    "predictions = km.predict(crypto_pca_df)\n",
    "predictions"
   ]
  },
  {
   "cell_type": "code",
   "execution_count": 189,
   "metadata": {},
   "outputs": [
    {
     "name": "stdout",
     "output_type": "stream",
     "text": [
      "(532, 10)\n"
     ]
    },
    {
     "data": {
      "text/html": [
       "<div>\n",
       "<style scoped>\n",
       "    .dataframe tbody tr th:only-of-type {\n",
       "        vertical-align: middle;\n",
       "    }\n",
       "\n",
       "    .dataframe tbody tr th {\n",
       "        vertical-align: top;\n",
       "    }\n",
       "\n",
       "    .dataframe thead th {\n",
       "        text-align: right;\n",
       "    }\n",
       "</style>\n",
       "<table border=\"1\" class=\"dataframe\">\n",
       "  <thead>\n",
       "    <tr style=\"text-align: right;\">\n",
       "      <th></th>\n",
       "      <th>Algorithm</th>\n",
       "      <th>ProofType</th>\n",
       "      <th>TotalCoinsMined</th>\n",
       "      <th>TotalCoinSupply</th>\n",
       "      <th>PC 1</th>\n",
       "      <th>PC 2</th>\n",
       "      <th>PC 3</th>\n",
       "      <th>class</th>\n",
       "      <th>CoinName</th>\n",
       "      <th>Class</th>\n",
       "    </tr>\n",
       "  </thead>\n",
       "  <tbody>\n",
       "    <tr>\n",
       "      <th>42</th>\n",
       "      <td>Scrypt</td>\n",
       "      <td>PoW/PoS</td>\n",
       "      <td>4.199995e+01</td>\n",
       "      <td>42</td>\n",
       "      <td>-0.339984</td>\n",
       "      <td>1.041431</td>\n",
       "      <td>-0.598133</td>\n",
       "      <td>4</td>\n",
       "      <td>42 Coin</td>\n",
       "      <td>1</td>\n",
       "    </tr>\n",
       "    <tr>\n",
       "      <th>404</th>\n",
       "      <td>Scrypt</td>\n",
       "      <td>PoW/PoS</td>\n",
       "      <td>1.055185e+09</td>\n",
       "      <td>532000000</td>\n",
       "      <td>-0.323312</td>\n",
       "      <td>1.041541</td>\n",
       "      <td>-0.598480</td>\n",
       "      <td>4</td>\n",
       "      <td>404Coin</td>\n",
       "      <td>1</td>\n",
       "    </tr>\n",
       "    <tr>\n",
       "      <th>1337</th>\n",
       "      <td>X13</td>\n",
       "      <td>PoW/PoS</td>\n",
       "      <td>2.927942e+10</td>\n",
       "      <td>314159265359</td>\n",
       "      <td>2.301680</td>\n",
       "      <td>1.653773</td>\n",
       "      <td>-0.635634</td>\n",
       "      <td>7</td>\n",
       "      <td>EliteCoin</td>\n",
       "      <td>1</td>\n",
       "    </tr>\n",
       "    <tr>\n",
       "      <th>BTC</th>\n",
       "      <td>SHA-256</td>\n",
       "      <td>PoW</td>\n",
       "      <td>1.792718e+07</td>\n",
       "      <td>21000000</td>\n",
       "      <td>-0.151698</td>\n",
       "      <td>-1.309436</td>\n",
       "      <td>0.214591</td>\n",
       "      <td>0</td>\n",
       "      <td>Bitcoin</td>\n",
       "      <td>0</td>\n",
       "    </tr>\n",
       "    <tr>\n",
       "      <th>ETH</th>\n",
       "      <td>Ethash</td>\n",
       "      <td>PoW</td>\n",
       "      <td>1.076842e+08</td>\n",
       "      <td>0</td>\n",
       "      <td>-0.150675</td>\n",
       "      <td>-2.041385</td>\n",
       "      <td>0.406873</td>\n",
       "      <td>5</td>\n",
       "      <td>Ethereum</td>\n",
       "      <td>3</td>\n",
       "    </tr>\n",
       "    <tr>\n",
       "      <th>LTC</th>\n",
       "      <td>Scrypt</td>\n",
       "      <td>PoW</td>\n",
       "      <td>6.303924e+07</td>\n",
       "      <td>84000000</td>\n",
       "      <td>-0.169667</td>\n",
       "      <td>-1.109932</td>\n",
       "      <td>-0.029306</td>\n",
       "      <td>0</td>\n",
       "      <td>Litecoin</td>\n",
       "      <td>0</td>\n",
       "    </tr>\n",
       "    <tr>\n",
       "      <th>DASH</th>\n",
       "      <td>X11</td>\n",
       "      <td>PoW/PoS</td>\n",
       "      <td>9.031294e+06</td>\n",
       "      <td>22000000</td>\n",
       "      <td>-0.389382</td>\n",
       "      <td>1.224371</td>\n",
       "      <td>-0.502617</td>\n",
       "      <td>4</td>\n",
       "      <td>Dash</td>\n",
       "      <td>1</td>\n",
       "    </tr>\n",
       "    <tr>\n",
       "      <th>XMR</th>\n",
       "      <td>CryptoNight-V7</td>\n",
       "      <td>PoW</td>\n",
       "      <td>1.720114e+07</td>\n",
       "      <td>0</td>\n",
       "      <td>-0.147784</td>\n",
       "      <td>-2.230563</td>\n",
       "      <td>0.411084</td>\n",
       "      <td>5</td>\n",
       "      <td>Monero</td>\n",
       "      <td>3</td>\n",
       "    </tr>\n",
       "    <tr>\n",
       "      <th>ETC</th>\n",
       "      <td>Ethash</td>\n",
       "      <td>PoW</td>\n",
       "      <td>1.133597e+08</td>\n",
       "      <td>210000000</td>\n",
       "      <td>-0.149116</td>\n",
       "      <td>-2.041488</td>\n",
       "      <td>0.406858</td>\n",
       "      <td>5</td>\n",
       "      <td>Ethereum Classic</td>\n",
       "      <td>3</td>\n",
       "    </tr>\n",
       "    <tr>\n",
       "      <th>ZEC</th>\n",
       "      <td>Equihash</td>\n",
       "      <td>PoW</td>\n",
       "      <td>7.383056e+06</td>\n",
       "      <td>21000000</td>\n",
       "      <td>-0.145774</td>\n",
       "      <td>-2.044088</td>\n",
       "      <td>0.417489</td>\n",
       "      <td>5</td>\n",
       "      <td>ZCash</td>\n",
       "      <td>3</td>\n",
       "    </tr>\n",
       "  </tbody>\n",
       "</table>\n",
       "</div>"
      ],
      "text/plain": [
       "           Algorithm ProofType  TotalCoinsMined TotalCoinSupply      PC 1  \\\n",
       "42            Scrypt   PoW/PoS     4.199995e+01              42 -0.339984   \n",
       "404           Scrypt   PoW/PoS     1.055185e+09       532000000 -0.323312   \n",
       "1337             X13   PoW/PoS     2.927942e+10    314159265359  2.301680   \n",
       "BTC          SHA-256       PoW     1.792718e+07        21000000 -0.151698   \n",
       "ETH           Ethash       PoW     1.076842e+08               0 -0.150675   \n",
       "LTC           Scrypt       PoW     6.303924e+07        84000000 -0.169667   \n",
       "DASH             X11   PoW/PoS     9.031294e+06        22000000 -0.389382   \n",
       "XMR   CryptoNight-V7       PoW     1.720114e+07               0 -0.147784   \n",
       "ETC           Ethash       PoW     1.133597e+08       210000000 -0.149116   \n",
       "ZEC         Equihash       PoW     7.383056e+06        21000000 -0.145774   \n",
       "\n",
       "          PC 2      PC 3  class          CoinName  Class  \n",
       "42    1.041431 -0.598133      4           42 Coin      1  \n",
       "404   1.041541 -0.598480      4           404Coin      1  \n",
       "1337  1.653773 -0.635634      7         EliteCoin      1  \n",
       "BTC  -1.309436  0.214591      0           Bitcoin      0  \n",
       "ETH  -2.041385  0.406873      5          Ethereum      3  \n",
       "LTC  -1.109932 -0.029306      0          Litecoin      0  \n",
       "DASH  1.224371 -0.502617      4              Dash      1  \n",
       "XMR  -2.230563  0.411084      5            Monero      3  \n",
       "ETC  -2.041488  0.406858      5  Ethereum Classic      3  \n",
       "ZEC  -2.044088  0.417489      5             ZCash      3  "
      ]
     },
     "execution_count": 189,
     "metadata": {},
     "output_type": "execute_result"
    }
   ],
   "source": [
    "# Create a new DataFrame including predicted clusters and cryptocurrencies features.\n",
    "# Concatentate the crypto_df and pcs_df DataFrames on the same columns.\n",
    "clustered_df = mined_df.join(crypto_pca_df)\n",
    "#  Add a new column, \"CoinName\" to the clustered_df DataFrame that holds the names of the cryptocurrencies. \n",
    "clustered_df['CoinName'] = crypto_names\n",
    "\n",
    "#  Add a new column, \"Class\" to the clustered_df DataFrame that holds the predictions.\n",
    "clustered_df['Class']=km.labels_\n",
    "\n",
    "# Print the shape of the clustered_df\n",
    "print(clustered_df.shape)\n",
    "clustered_df.head(10)"
   ]
  },
  {
   "cell_type": "markdown",
   "metadata": {},
   "source": [
    "### Deliverable 4: Visualizing Cryptocurrencies Results\n",
    "\n",
    "#### 3D-Scatter with Clusters"
   ]
  },
  {
   "cell_type": "code",
   "execution_count": 222,
   "metadata": {},
   "outputs": [
    {
     "data": {
      "application/vnd.plotly.v1+json": {
       "config": {
        "plotlyServerURL": "https://plot.ly"
       },
       "data": [
        {
         "customdata": [
          [
           "Scrypt"
          ],
          [
           "Scrypt"
          ],
          [
           "X13"
          ],
          [
           "X11"
          ],
          [
           "SHA-256"
          ],
          [
           "SHA-256"
          ],
          [
           "Scrypt"
          ],
          [
           "Scrypt"
          ],
          [
           "Scrypt"
          ],
          [
           "Scrypt"
          ],
          [
           "Scrypt"
          ],
          [
           "Scrypt"
          ],
          [
           "Groestl"
          ],
          [
           "Scrypt"
          ],
          [
           "Scrypt"
          ],
          [
           "X11"
          ],
          [
           "X11"
          ],
          [
           "Scrypt"
          ],
          [
           "SHA-256"
          ],
          [
           "Scrypt"
          ],
          [
           "NeoScrypt"
          ],
          [
           "Scrypt"
          ],
          [
           "Scrypt"
          ],
          [
           "Scrypt"
          ],
          [
           "X11"
          ],
          [
           "X11"
          ],
          [
           "Multiple"
          ],
          [
           "X11"
          ],
          [
           "Scrypt"
          ],
          [
           "Scrypt"
          ],
          [
           "Scrypt"
          ],
          [
           "X11"
          ],
          [
           "Multiple"
          ],
          [
           "Scrypt"
          ],
          [
           "Shabal256"
          ],
          [
           "SHA-256"
          ],
          [
           "Groestl"
          ],
          [
           "Scrypt"
          ],
          [
           "Scrypt"
          ],
          [
           "Scrypt"
          ],
          [
           "X11"
          ],
          [
           "Scrypt"
          ],
          [
           "X11"
          ],
          [
           "X11"
          ],
          [
           "Scrypt"
          ],
          [
           "SHA-256"
          ],
          [
           "BLAKE256"
          ],
          [
           "SHA-256"
          ],
          [
           "X11"
          ],
          [
           "SHA-256"
          ],
          [
           "Scrypt"
          ],
          [
           "Scrypt"
          ],
          [
           "X11"
          ],
          [
           "Scrypt"
          ],
          [
           "SHA-256"
          ],
          [
           "Scrypt"
          ],
          [
           "X11"
          ],
          [
           "SHA-256"
          ],
          [
           "SHA-256"
          ],
          [
           "X11"
          ],
          [
           "Scrypt"
          ],
          [
           "Scrypt"
          ],
          [
           "Scrypt"
          ],
          [
           "X11"
          ],
          [
           "X11"
          ],
          [
           "Scrypt"
          ],
          [
           "SHA-256"
          ],
          [
           "X11"
          ],
          [
           "Scrypt"
          ],
          [
           "Scrypt"
          ],
          [
           "Scrypt"
          ],
          [
           "Scrypt"
          ],
          [
           "Scrypt"
          ],
          [
           "X11"
          ],
          [
           "DPoS"
          ],
          [
           "X11"
          ],
          [
           "X11"
          ],
          [
           "Scrypt"
          ],
          [
           "Scrypt"
          ],
          [
           "X11"
          ],
          [
           "SHA-256"
          ],
          [
           "Scrypt"
          ],
          [
           "X11"
          ],
          [
           "Scrypt"
          ],
          [
           "Scrypt"
          ],
          [
           "X11"
          ],
          [
           "Scrypt"
          ],
          [
           "Scrypt"
          ],
          [
           "Scrypt"
          ],
          [
           "Scrypt"
          ],
          [
           "QuBit"
          ],
          [
           "Scrypt"
          ],
          [
           "SHA-256"
          ],
          [
           "X11"
          ],
          [
           "Scrypt"
          ],
          [
           "Scrypt"
          ],
          [
           "Scrypt"
          ],
          [
           "Scrypt"
          ],
          [
           "Scrypt"
          ],
          [
           "Scrypt"
          ],
          [
           "X11"
          ],
          [
           "X11"
          ],
          [
           "X11"
          ],
          [
           "X11"
          ],
          [
           "Scrypt"
          ],
          [
           "Scrypt"
          ],
          [
           "Scrypt"
          ],
          [
           "SHA-256"
          ],
          [
           "X11"
          ],
          [
           "Scrypt"
          ],
          [
           "Scrypt"
          ],
          [
           "SHA-256"
          ],
          [
           "Scrypt"
          ],
          [
           "X11"
          ],
          [
           "Scrypt"
          ],
          [
           "Scrypt"
          ],
          [
           "Scrypt"
          ],
          [
           "X11"
          ],
          [
           "NeoScrypt"
          ],
          [
           "Scrypt"
          ],
          [
           "Lyra2REv2"
          ],
          [
           "Scrypt"
          ],
          [
           "SHA-256"
          ],
          [
           "Scrypt"
          ],
          [
           "Scrypt"
          ],
          [
           "SHA-256"
          ],
          [
           "X11"
          ],
          [
           "DPoS"
          ],
          [
           "Scrypt"
          ],
          [
           "Scrypt"
          ],
          [
           "Scrypt"
          ],
          [
           "X11"
          ],
          [
           "Scrypt"
          ],
          [
           "Scrypt"
          ],
          [
           "X11"
          ],
          [
           "Ethash"
          ],
          [
           "Scrypt"
          ],
          [
           "Scrypt"
          ],
          [
           "C11"
          ],
          [
           "X11"
          ],
          [
           "Scrypt"
          ],
          [
           "Scrypt"
          ],
          [
           "Scrypt"
          ],
          [
           "Scrypt"
          ],
          [
           "Scrypt"
          ],
          [
           "Semux BFT consensus"
          ],
          [
           "X16R"
          ],
          [
           "Scrypt"
          ],
          [
           "XEVAN"
          ],
          [
           "Scrypt"
          ],
          [
           "Scrypt"
          ],
          [
           "Scrypt"
          ],
          [
           "Scrypt"
          ],
          [
           "Scrypt"
          ],
          [
           "SHA-256"
          ],
          [
           "X16R"
          ],
          [
           "Scrypt"
          ],
          [
           "Lyra2REv2"
          ],
          [
           "Scrypt"
          ],
          [
           "X11"
          ],
          [
           "X11"
          ],
          [
           "Scrypt"
          ],
          [
           "Keccak"
          ],
          [
           "X11"
          ],
          [
           "Scrypt"
          ],
          [
           "XEVAN"
          ],
          [
           "XEVAN"
          ],
          [
           "X11"
          ],
          [
           "Equihash"
          ],
          [
           "Scrypt"
          ],
          [
           "Scrypt"
          ],
          [
           "X11"
          ],
          [
           "Scrypt"
          ],
          [
           "X11"
          ],
          [
           "X11"
          ],
          [
           "DPoS"
          ],
          [
           "Scrypt"
          ],
          [
           "X11"
          ],
          [
           "Scrypt"
          ],
          [
           "Scrypt"
          ],
          [
           "SHA-256"
          ],
          [
           "Scrypt"
          ],
          [
           "X11"
          ],
          [
           "Scrypt"
          ],
          [
           "SHA-256"
          ],
          [
           "X11"
          ],
          [
           "Scrypt"
          ],
          [
           "Scrypt"
          ],
          [
           "X11"
          ],
          [
           "Scrypt"
          ],
          [
           "X11"
          ],
          [
           "SHA-256"
          ],
          [
           "DPoS"
          ],
          [
           "Scrypt"
          ],
          [
           "Scrypt"
          ],
          [
           "NeoScrypt"
          ],
          [
           "DPoS"
          ],
          [
           "DPoS"
          ],
          [
           "SHA-256"
          ],
          [
           "Leased POS"
          ],
          [
           "SHA-256"
          ],
          [
           "Scrypt"
          ],
          [
           "Scrypt"
          ]
         ],
         "hovertemplate": "<b>%{hovertext}</b><br><br>Class=%{marker.color}<br>PC 1=%{x}<br>PC 2=%{y}<br>PC 3=%{z}<br>Algorithm=%{customdata[0]}<extra></extra>",
         "hovertext": [
          "42 Coin",
          "404Coin",
          "EliteCoin",
          "Dash",
          "BitcoinDark",
          "PayCoin",
          "Aurora Coin",
          "BlueCoin",
          "EnergyCoin",
          "BitBar",
          "CryptoBullion",
          "CasinoCoin",
          "Diamond",
          "FlutterCoin",
          "HoboNickels",
          "HyperStake",
          "IOCoin",
          "MintCoin",
          "MazaCoin",
          "Nautilus Coin",
          "Orbitcoin",
          "PotCoin",
          "PhoenixCoin",
          "Reddcoin",
          "SuperCoin",
          "SyncCoin",
          "TeslaCoin",
          "TorCoin",
          "UnitaryStatus Dollar",
          "UltraCoin",
          "VeriCoin",
          "X11 Coin",
          "Crypti",
          "ZCC Coin",
          "BurstCoin",
          "Neutron",
          "FairCoin",
          "RubyCoin",
          "Dnotes",
          "8BIT Coin",
          "Ucoin",
          "Vtorrent",
          "IslaCoin",
          "Squall Coin",
          "Diggits",
          "Emercoin",
          "Decred",
          "EDRCoin",
          "Hitcoin",
          "DubaiCoin",
          "BillaryCoin",
          "GPU Coin",
          "EuropeCoin",
          "ZeitCoin",
          "SwingCoin",
          "SafeExchangeCoin",
          "Ratecoin",
          "Revenu",
          "Clockcoin",
          "BitSend",
          "PutinCoin",
          "iBankCoin",
          "Frankywillcoin",
          "Lutetium Coin",
          "GoldBlocks",
          "CarterCoin",
          "BitTokens",
          "MustangCoin",
          "ZoneCoin",
          "RootCoin",
          "BitCurrency",
          "Swiscoin",
          "PesoBit",
          "Halloween Coin",
          "ARK",
          "InsaneCoin",
          "XenixCoin",
          "PLNCoin",
          "AquariusCoin",
          "Eternity",
          "Eurocoin",
          "BitcoinFast",
          "Stakenet",
          "BitConnect Coin",
          "MoneyCoin",
          "Enigma",
          "Russiacoin",
          "PandaCoin",
          "GameUnits",
          "GAKHcoin",
          "LiteCreed",
          "Klingon Empire Darsek",
          "Internet of People",
          "KushCoin",
          "Printerium",
          "Impeach",
          "Zilbercoin",
          "FirstCoin",
          "OpenChat",
          "RenosCoin",
          "VirtacoinPlus",
          "Impact",
          "HappyCoin",
          "Condensate",
          "Independent Money System",
          "ArgusCoin",
          "LomoCoin",
          "ProCurrency",
          "GoldReserve",
          "GrowthCoin",
          "Degas Coin",
          "Ultimate Secure Cash",
          "Linda",
          "Monoeci",
          "Draftcoin",
          "CoinonatX",
          "Ethereum Dark",
          "Regalcoin",
          "TrezarCoin",
          "TerraNovaCoin",
          "Rupee",
          "WomenCoin",
          "Theresa May Coin",
          "Xios",
          "BlackholeCoin",
          "Infinity Economics",
          "Magnet",
          "Lamden Tau",
          "Cash & Back Coin",
          "GermanCoin",
          "LiteCoin Ultra",
          "PhantomX",
          "Trollcoin",
          "Litecoin Plus",
          "Monkey Project",
          "1717 Masonic Commemorative Token",
          "My Big Coin",
          "Unified Society USDEX",
          "Stipend",
          "Pushi",
          "Velox",
          "Briacoin",
          "Ignition",
          "MedicCoin",
          "Abjcoin",
          "Semux",
          "Proton",
          "iDealCash",
          "Bitcoin Incognito",
          "HollyWoodCoin",
          "Swisscoin",
          "Xt3ch",
          "EmaratCoin",
          "Lynx",
          "BitcoinWSpectrum",
          "Trivechain",
          "Peony Coin",
          "Absolute Coin",
          "TPCash",
          "ARENON",
          "EUNO",
          "MMOCoin",
          "XDNA",
          "PAXEX",
          "ThunderStake",
          "Bettex coin",
          "BitMoney",
          "Junson Ming Chan Coin",
          "PirateCash",
          "Oduwa",
          "Credit",
          "Dash Platinum",
          "Nasdacoin",
          "Award",
          "Insane Coin",
          "ALAX",
          "LiteDoge",
          "TruckCoin",
          "OrangeCoin",
          "BitstarCoin",
          "NeosCoin",
          "HyperCoin",
          "PinkCoin",
          "AudioCoin",
          "IncaKoin",
          "Piggy Coin",
          "Genstake",
          "XiaoMiCoin",
          "CapriCoin",
          " ClubCoin",
          "Creditbit ",
          "OKCash",
          "Lisk",
          "HiCoin",
          "WhiteCoin",
          "FriendshipCoin",
          "EOS",
          "Oxycoin",
          "TigerCash",
          "Waves",
          "ZEPHYR",
          "Gapcoin",
          "BitcoinPlus"
         ],
         "legendgroup": "1",
         "marker": {
          "color": [
           1,
           1,
           1,
           1,
           1,
           1,
           1,
           1,
           1,
           1,
           1,
           1,
           1,
           1,
           1,
           1,
           1,
           1,
           1,
           1,
           1,
           1,
           1,
           1,
           1,
           1,
           1,
           1,
           1,
           1,
           1,
           1,
           1,
           1,
           1,
           1,
           1,
           1,
           1,
           1,
           1,
           1,
           1,
           1,
           1,
           1,
           1,
           1,
           1,
           1,
           1,
           1,
           1,
           1,
           1,
           1,
           1,
           1,
           1,
           1,
           1,
           1,
           1,
           1,
           1,
           1,
           1,
           1,
           1,
           1,
           1,
           1,
           1,
           1,
           1,
           1,
           1,
           1,
           1,
           1,
           1,
           1,
           1,
           1,
           1,
           1,
           1,
           1,
           1,
           1,
           1,
           1,
           1,
           1,
           1,
           1,
           1,
           1,
           1,
           1,
           1,
           1,
           1,
           1,
           1,
           1,
           1,
           1,
           1,
           1,
           1,
           1,
           1,
           1,
           1,
           1,
           1,
           1,
           1,
           1,
           1,
           1,
           1,
           1,
           1,
           1,
           1,
           1,
           1,
           1,
           1,
           1,
           1,
           1,
           1,
           1,
           1,
           1,
           1,
           1,
           1,
           1,
           1,
           1,
           1,
           1,
           1,
           1,
           1,
           1,
           1,
           1,
           1,
           1,
           1,
           1,
           1,
           1,
           1,
           1,
           1,
           1,
           1,
           1,
           1,
           1,
           1,
           1,
           1,
           1,
           1,
           1,
           1,
           1,
           1,
           1,
           1,
           1,
           1,
           1,
           1,
           1,
           1,
           1,
           1,
           1,
           1,
           1,
           1,
           1,
           1,
           1,
           1,
           1,
           1,
           1,
           1,
           1,
           1,
           1,
           1,
           1,
           1
          ],
          "coloraxis": "coloraxis",
          "symbol": "circle"
         },
         "mode": "markers",
         "name": "1",
         "scene": "scene",
         "showlegend": true,
         "type": "scatter3d",
         "x": [
          -0.339984332843522,
          -0.32331178623437357,
          2.3016795334284086,
          -0.3893824469596312,
          -0.3208455458190001,
          -0.27386386163943854,
          -0.3396436936447751,
          -0.33221697490500934,
          -0.338480026175839,
          -0.33998026610761145,
          -0.33996453747603445,
          0.6905118101496364,
          -0.36568386549822485,
          -0.2961589222992347,
          -0.3380418491171189,
          -0.3222126486286319,
          -0.3892770815843121,
          -0.03277129689452126,
          -0.2841279039768457,
          -0.2927535646228101,
          -0.3462121571598995,
          -0.3342828189530703,
          -0.33838503906210216,
          0.018366252714671266,
          -0.34211086635967874,
          -0.38964889376338163,
          -0.24274651923519522,
          -0.389560471241095,
          -0.3152002542410073,
          -0.3386608514219671,
          -0.2945676078765775,
          -0.3895249313152865,
          -0.24321463709393865,
          -0.3310811957309099,
          0.08618916264357741,
          -0.32005675151513313,
          -0.36510509535823377,
          -0.2927338296838238,
          -0.2873842134545466,
          -0.33996639091203523,
          -0.34255594939536543,
          -0.3397005962852164,
          -0.38963041187742414,
          -0.31629560888711133,
          -0.29113432812134826,
          -0.31339689278801247,
          -0.06574281183736211,
          -0.32081644279104027,
          -0.06688212901142582,
          -0.3208801865608897,
          -0.33957638087274844,
          -0.29100316896903544,
          -0.3867975557585055,
          0.8611844663754964,
          -0.32068010156998433,
          -0.04072385418316024,
          -0.3874720699911933,
          -0.319422719538587,
          -0.3170892737567395,
          -0.3883647194487697,
          -0.315856933671107,
          -0.3396144983379672,
          -0.3380525315772586,
          -0.33003877213915234,
          -0.3891039580082498,
          -0.338818212069273,
          -0.32086111639516507,
          -0.3896195940037663,
          -0.33980379539110944,
          -0.339960620644088,
          -0.29099297353307496,
          -0.2521338052232635,
          -0.33957455235238926,
          -0.3757723321216478,
          3.7049240712061375,
          -0.3892118709197979,
          -0.3895744765982959,
          -0.3395020246969084,
          -0.33965643722643907,
          -0.3891490753022145,
          -0.32072371025518526,
          -0.3395027667594962,
          -0.35559288899937896,
          -0.33965024864522453,
          -0.3352350580034822,
          -0.38960348618786295,
          -0.3388603700963099,
          0.3509271071681141,
          -0.33984965669597134,
          -0.339920279174088,
          -0.35446126316379967,
          -0.3361443233595267,
          -0.3208375163274081,
          -0.3895133806071282,
          -0.339697943625389,
          -0.33982496881060653,
          -0.2926402278595871,
          -0.27916919864726336,
          -0.3206663128786696,
          -0.2923812289382142,
          -0.38877860311247536,
          -0.38751622716107004,
          -0.3886764287458226,
          -0.3846146288632992,
          -0.33976822300769394,
          -0.33976740482620754,
          -0.33288410177596345,
          0.25918888793164185,
          -0.3891552491769071,
          -0.27527018366453215,
          -0.3389783636490221,
          -0.2725533134244458,
          0.1252860017943785,
          -0.389427824105398,
          -0.29271451242306945,
          -0.3394031781937726,
          -0.3399031979676194,
          -0.389368599124478,
          -0.3412080688221132,
          -0.33985877527318614,
          -0.31054581092063194,
          0.4297324509678299,
          -0.319182739533719,
          -0.33980907956341566,
          -0.3396794097238652,
          -0.10023698105916078,
          -0.3881604261395545,
          3.7097833051651987,
          -0.3371379969030824,
          0.07475935507653582,
          -0.33881729772643676,
          -0.3887420041344801,
          -0.32637502224893883,
          -0.3399253425838433,
          -0.3425278614591652,
          -0.27399295699274456,
          -0.29337080869824567,
          -0.33546776036409154,
          -0.36428408946790053,
          -0.3894450629432952,
          -0.29187389402260144,
          -0.3399527143023091,
          -0.33993441252806633,
          -0.28625164994265384,
          -0.3396507317757063,
          3.9076014330334767,
          -0.3204674602580673,
          -0.286484315017614,
          -0.21293240337599376,
          -0.292408534879778,
          -0.14294052173753843,
          -0.29266072055845926,
          -0.33912439939434974,
          2.229930778253123,
          -0.27268121987210375,
          -0.3667217909351579,
          -0.1733046483491226,
          -0.3573922289791697,
          -0.3328241581804767,
          -0.3421049866141647,
          -0.38891806605570406,
          -0.28990436418116905,
          -0.34834649079130764,
          -0.34196623553578237,
          -0.1993334013596565,
          -0.23920808531137264,
          0.6106436113880382,
          -0.13235831053727326,
          -0.2671362849516462,
          -0.3396547178378159,
          0.5674662595971982,
          -0.3425822094764668,
          -0.3391372688573312,
          -0.3864808894570136,
          -0.3891454566656581,
          3.722032675444955,
          0.09556642061805323,
          -0.3866837134345528,
          -0.33852227189829764,
          -0.3393479087528812,
          -0.2738965008750101,
          -0.3398666028211193,
          -0.3807679118404749,
          -0.25350769721333183,
          -0.10037606840282642,
          -0.3765132464200974,
          -0.33914448780508916,
          -0.33220436117531604,
          -0.38571188072716533,
          -0.3375826109264003,
          -0.3482464438377649,
          -0.3193596559725972,
          3.7053161514769988,
          -0.09982025046658874,
          -0.3347756066465686,
          -0.34583773497437825,
          3.7151896897294603,
          3.7164345444138944,
          -0.2547811471466011,
          -0.4422312926883017,
          2.458376645243931,
          -0.3380282880450093,
          -0.29305746742256134
         ],
         "y": [
          1.0414314837911056,
          1.0415411254345432,
          1.65377338630995,
          1.2243706088057933,
          0.8419015428873977,
          0.6378042147821269,
          1.0414295493365215,
          1.0416579523437453,
          1.0414753440512583,
          1.0414312485666897,
          1.0414313533319433,
          0.5074540503995529,
          0.8725372087527755,
          0.39424999023570234,
          1.0414032015711168,
          1.0208707399263874,
          1.2243736808852796,
          0.8449148533987564,
          0.8412757168292813,
          0.83732324563286,
          0.4910842127076306,
          1.041300506106303,
          1.0414087637034257,
          1.0518797119624756,
          1.020290578690869,
          1.2243784077874227,
          0.0625149730411101,
          1.2243739100675495,
          1.0410218571867238,
          1.041399306693555,
          0.39638818322664304,
          1.2243781307165018,
          0.06257208952667317,
          1.0409834162549803,
          0.9329663258339262,
          0.8418919893599837,
          0.8725571831439138,
          0.8373352708326128,
          0.8371374209247774,
          1.0414320069437122,
          1.0202634486256843,
          1.0414256035420186,
          1.2243789473611137,
          0.7860531990708018,
          0.8373111414706341,
          0.8414266360705814,
          0.8560241862063084,
          0.841902391428151,
          1.215000995184445,
          0.8419086708773479,
          1.041413656891405,
          0.8372293025441694,
          1.2241898052413047,
          0.8009219374620191,
          0.8418936289284493,
          0.5129202050077882,
          1.2243888030789598,
          0.8418009841186617,
          0.8416551137783174,
          1.2243174869090365,
          1.0407196502034133,
          1.0414108943354417,
          1.0414170431359573,
          1.0201776310592734,
          1.2243589143144997,
          1.0414017951306207,
          0.8419017965561619,
          1.2243771398177161,
          1.0414218869718816,
          1.0414321751841964,
          0.8373860280043818,
          0.4295489715125466,
          1.0414434315620353,
          1.223721522609827,
          1.925445653415585,
          1.224369920985302,
          1.2243778514228805,
          1.0414182733266846,
          1.0414113227329542,
          1.224350522341039,
          0.841906510481712,
          1.0414221720793617,
          0.8439375130808993,
          1.0414214102891255,
          1.041109515456942,
          1.2243761941615827,
          1.0413623527786358,
          0.8330929083023287,
          1.0414262110303456,
          1.0414310049753113,
          0.650341209008825,
          1.0411896191511472,
          0.8419024846501744,
          1.2243757402056819,
          1.0414256808841416,
          1.0414206091559248,
          0.837299079103518,
          0.32058616733255163,
          1.04128707718507,
          0.8373211895105253,
          1.2243330179372878,
          1.2243627478150854,
          1.2243359969783052,
          1.224171364064431,
          1.0414227740283077,
          1.0414175698408832,
          1.0409308499290528,
          0.6002811294692902,
          1.2243644953601909,
          0.836429145881438,
          1.0413865109098102,
          0.6377096814895692,
          1.0196145430171482,
          1.2243781262664477,
          0.8373235167524818,
          1.0414142826289499,
          1.0414308772893965,
          1.224367474302564,
          0.49094972141831456,
          1.0414240109182373,
          0.6205753490049777,
          1.0461824025366533,
          0.8418948275960215,
          1.0414217329042172,
          1.0414299093503983,
          0.6365065402177418,
          1.2243199051182596,
          1.9253219621265014,
          1.0413658660627931,
          1.0181413657616447,
          1.0413593627074873,
          1.224369467601706,
          1.041191396667039,
          1.0414303731614467,
          1.0202635599186045,
          -0.09418531296301717,
          0.3482342993463504,
          1.0413989958878225,
          0.8589463121994436,
          1.2243666601923864,
          0.8372725947273207,
          1.041430282750888,
          1.0414294010627736,
          0.8371704424473703,
          1.0414199809000226,
          1.9192504509008683,
          0.6798722284742803,
          1.0393667982083594,
          0.9944235049618776,
          0.8373263563361867,
          1.0399585363537762,
          0.8373062657743826,
          1.041397113705781,
          0.3806801907911319,
          0.6377765913639992,
          0.8839709164305173,
          0.8288722457549317,
          0.824663175613086,
          1.0409325976710315,
          1.020251829298055,
          1.224364334262473,
          0.8372337786242059,
          0.8990056657016529,
          1.0202240304742658,
          1.0327946399422718,
          1.2286269383530084,
          1.058507347329538,
          1.0264062169648052,
          -0.09688980299356702,
          1.0414262335429505,
          1.0149571922118161,
          1.0202628952705577,
          1.0413967384780272,
          1.2241735626547563,
          1.2243718573886657,
          1.9253252844989595,
          1.0293627962952374,
          1.2244648626039976,
          1.0413325820425667,
          1.041411645266182,
          0.637797248101508,
          1.041434916409419,
          1.2242835206470355,
          1.036522495480209,
          0.8482107630366092,
          1.224053745869209,
          1.0414453559436292,
          1.0413752595677757,
          1.224346006303502,
          1.0413882852681438,
          0.6588209905583603,
          0.8418861310852508,
          1.925432375027796,
          0.8358771782226785,
          1.0413710563346268,
          0.4910552193019507,
          1.9258334187499717,
          1.9258697142836483,
          0.6376617931180831,
          3.3958696373926576,
          0.8489869530238594,
          1.0413116022858104,
          0.8373251270562151
         ],
         "z": [
          -0.5981332335707623,
          -0.5984804660198123,
          -0.6356338423308889,
          -0.5026170408831866,
          -0.35425613809364176,
          -0.03277006791471629,
          -0.5981397068528024,
          -0.5983210948967488,
          -0.5981696167367239,
          -0.5981332792924934,
          -0.5981336070644174,
          -0.551453369813919,
          -0.3988647708664439,
          -0.41367154130313866,
          -0.5981675807038291,
          -0.18162055645864653,
          -0.5026195892501939,
          -0.28294011877827124,
          -0.35489181011166465,
          -0.2766504841133125,
          -0.2740532737276217,
          -0.5982269121501319,
          -0.5981615965053303,
          -0.6068003009512853,
          -0.18113929815828472,
          -0.5026129126890498,
          0.08732573763722186,
          -0.5026139985662016,
          -0.5985642108631258,
          -0.5981547151444504,
          -0.43034875142238166,
          -0.5026153319017359,
          0.08732653138308907,
          -0.5982432833240852,
          -0.7271334355866065,
          -0.3542703729226315,
          -0.39887923013432636,
          -0.2766526648776784,
          -0.2767294099334341,
          -0.5981336675187418,
          -0.18112642774927992,
          -0.5981379903971077,
          -0.5026133597972304,
          -0.32298800948263456,
          -0.27668082227016333,
          -0.35433332588370425,
          -0.41566781630449934,
          -0.35425684197948515,
          -0.5076241252972926,
          -0.35425651101022076,
          -0.5981386784774951,
          -0.276671249879382,
          -0.5026414471494214,
          -0.29413846186782916,
          -0.3542582444607943,
          -0.5377528745693343,
          -0.5026576653401671,
          -0.35426941793577765,
          -0.354294030682283,
          -0.5026293377023024,
          -0.598506215802969,
          -0.5981375109116047,
          -0.5981694279684071,
          -0.18136210386895557,
          -0.5026208285342714,
          -0.5981519620350656,
          -0.3542558667852097,
          -0.502613305593742,
          -0.5981353891419715,
          -0.5981338070784445,
          -0.2766947692250932,
          -0.46398911499049655,
          -0.5981431445262705,
          -0.5027906090264112,
          -0.10978917338951949,
          -0.5026203241831206,
          -0.5026143069637781,
          -0.5981408411300744,
          -0.5981367422344988,
          -0.5026186845121038,
          -0.35425929537168305,
          -0.598141406442214,
          -0.23645445226768033,
          -0.5981383658529199,
          -0.5981795970764605,
          -0.5026134846143266,
          -0.598145257198492,
          -0.288797028362766,
          -0.5981351221926632,
          -0.5981344336859172,
          -0.3124621173820982,
          -0.598173467281716,
          -0.35425643757645614,
          -0.5026152055121573,
          -0.5981380545543397,
          -0.598134778778917,
          -0.2766491382473821,
          -0.3870483007254953,
          -0.5984951776840566,
          -0.2766575684130021,
          -0.502623433491478,
          -0.5026529125013575,
          -0.5026259046807419,
          -0.502682030762739,
          -0.5981362271632261,
          -0.5981354691445725,
          -0.5981996782379069,
          -0.03776768329454461,
          -0.5026206408213313,
          -0.27686447756958893,
          -0.5981465093859856,
          -0.032782015683031934,
          -0.604122185630033,
          -0.5026172586451303,
          -0.2766512995661295,
          -0.5981422093374296,
          -0.5981347537208972,
          -0.5026168493992971,
          -0.2741325869098579,
          -0.5981346138812765,
          -0.03530011980401946,
          -0.6141175657496418,
          -0.35428814276779125,
          -0.5981352613389787,
          -0.598139051513556,
          -0.036023189969507305,
          -0.5026337523327034,
          -0.1098672182505478,
          -0.5981799659362342,
          -0.60290014813647,
          -0.5981456672576743,
          -0.5026295827507776,
          -0.5983676349902274,
          -0.5981342391875083,
          -0.18112700180258548,
          0.1595414003466322,
          -0.261651915374245,
          -0.598218046084077,
          -0.5152540150787029,
          -0.5026152106084076,
          -0.27666040837236605,
          -0.598133682456645,
          -0.5981339145403056,
          -0.2767568021148925,
          -0.5981381436048693,
          -0.120048370298186,
          -0.028071029175080153,
          -0.5988879381718643,
          -0.40257683260552735,
          -0.27665779513818095,
          -0.6018250636662467,
          -0.27664980070777,
          -0.598145188277493,
          -0.5120162306191645,
          -0.03278943154982243,
          -0.3495717383409298,
          -0.2777640269005474,
          -0.3567874611803558,
          -0.598201128033726,
          -0.18113364988176464,
          -0.5026253245170951,
          -0.27669372513391055,
          -0.41580280917791484,
          -0.1811322680466247,
          -0.5996399495423932,
          -0.2607139322906583,
          -0.45446540802797614,
          -0.18621237354001235,
          0.1701181416684916,
          -0.5981389947317232,
          -0.6122057755880679,
          -0.18112582420740841,
          -0.5981448770166571,
          -0.5026453159056772,
          -0.5026219304782931,
          -0.11011084075996437,
          -0.6049826107521988,
          -0.5026846286467054,
          -0.5981475386760412,
          -0.5981429139613208,
          -0.03276838360916572,
          -0.5981360809935408,
          -0.5027750674618742,
          -0.5991193014666402,
          -0.35957072564771303,
          -0.5028253300370179,
          -0.5981519668446253,
          -0.5982792873611681,
          -0.5026862348350244,
          -0.5981744765777307,
          -0.12213238266514873,
          -0.3542833374591034,
          -0.10979497998056016,
          -0.28026472725544144,
          -0.5982276273701961,
          -0.27405639181983066,
          -0.11005061783339906,
          -0.11008072588919016,
          -0.033127636944472745,
          8.26269321251927,
          -0.04440867400393252,
          -0.5981542220932672,
          -0.2766447320936982
         ]
        },
        {
         "customdata": [
          [
           "SHA-256"
          ],
          [
           "Scrypt"
          ],
          [
           "SHA-512"
          ],
          [
           "Scrypt"
          ],
          [
           "X15"
          ],
          [
           "X11"
          ],
          [
           "Scrypt"
          ],
          [
           "SHA-256"
          ],
          [
           "Scrypt"
          ],
          [
           "Scrypt"
          ],
          [
           "Quark"
          ],
          [
           "Groestl"
          ],
          [
           "Scrypt"
          ],
          [
           "Scrypt"
          ],
          [
           "Scrypt"
          ],
          [
           "X11"
          ],
          [
           "SHA-256"
          ],
          [
           "Scrypt"
          ],
          [
           "Scrypt"
          ],
          [
           "Scrypt"
          ],
          [
           "Scrypt"
          ],
          [
           "PoS"
          ],
          [
           "Scrypt"
          ],
          [
           "Scrypt"
          ],
          [
           "Scrypt"
          ],
          [
           "Scrypt"
          ],
          [
           "Scrypt"
          ],
          [
           "SHA-256"
          ],
          [
           "Scrypt"
          ],
          [
           "Scrypt"
          ],
          [
           "Scrypt"
          ],
          [
           "SHA3"
          ],
          [
           "Scrypt"
          ],
          [
           "Scrypt"
          ],
          [
           "X13"
          ],
          [
           "Scrypt"
          ],
          [
           "SHA-256"
          ],
          [
           "Scrypt"
          ],
          [
           "X13"
          ],
          [
           "Scrypt"
          ],
          [
           "Scrypt"
          ],
          [
           "Scrypt"
          ],
          [
           "SHA-256"
          ],
          [
           "SHA-256"
          ],
          [
           "PHI1612"
          ],
          [
           "SHA-256"
          ],
          [
           "SHA-256"
          ],
          [
           "SHA-256"
          ],
          [
           "X11"
          ],
          [
           "Scrypt"
          ],
          [
           "Lyra2REv2"
          ],
          [
           "Scrypt"
          ],
          [
           "SHA-256"
          ],
          [
           "X13"
          ],
          [
           "Counterparty"
          ],
          [
           "Scrypt"
          ],
          [
           "Scrypt"
          ],
          [
           "Scrypt"
          ],
          [
           "X13"
          ],
          [
           "Scrypt"
          ],
          [
           "Scrypt"
          ],
          [
           "X13"
          ],
          [
           "Scrypt"
          ],
          [
           "QuBit"
          ],
          [
           "Scrypt"
          ],
          [
           "Scrypt"
          ],
          [
           "Scrypt"
          ],
          [
           "SHA-256"
          ],
          [
           "Scrypt"
          ],
          [
           "SHA3"
          ],
          [
           "X11"
          ],
          [
           "SHA-256"
          ],
          [
           "QUAIT"
          ],
          [
           "X11"
          ],
          [
           "Scrypt"
          ],
          [
           "Scrypt"
          ],
          [
           "X13"
          ],
          [
           "X15"
          ],
          [
           "X11"
          ],
          [
           "SHA-256"
          ],
          [
           "Scrypt"
          ],
          [
           "Scrypt"
          ],
          [
           "SHA-256"
          ],
          [
           "NIST5"
          ],
          [
           "X11"
          ],
          [
           "Scrypt"
          ],
          [
           "PoS"
          ],
          [
           "Scrypt"
          ],
          [
           "X11"
          ],
          [
           "NIST5"
          ],
          [
           "Scrypt"
          ],
          [
           "POS 3.0"
          ],
          [
           "X13"
          ],
          [
           "X11"
          ],
          [
           "Equihash"
          ],
          [
           "SHA-256"
          ],
          [
           "Scrypt"
          ],
          [
           "SHA-256"
          ],
          [
           "Scrypt"
          ],
          [
           "SHA-256D"
          ],
          [
           "PoS"
          ],
          [
           "PoS"
          ],
          [
           "X13"
          ],
          [
           "X14"
          ],
          [
           "PoS"
          ],
          [
           "SHA-256D"
          ],
          [
           "Scrypt"
          ],
          [
           "X11"
          ],
          [
           "X13"
          ],
          [
           "PoS"
          ],
          [
           "X11"
          ],
          [
           "PoS"
          ],
          [
           "Quark"
          ],
          [
           "Scrypt"
          ],
          [
           "X11"
          ],
          [
           "Scrypt"
          ],
          [
           "X13"
          ],
          [
           "X11"
          ],
          [
           "Scrypt"
          ],
          [
           "Blake2S"
          ],
          [
           "Scrypt"
          ],
          [
           "PoS"
          ],
          [
           "NIST5"
          ],
          [
           "PoS"
          ],
          [
           "Scrypt"
          ],
          [
           "SHA-256"
          ],
          [
           "PoS"
          ],
          [
           "X15"
          ],
          [
           "Scrypt"
          ],
          [
           "POS 3.0"
          ],
          [
           "536"
          ],
          [
           "NIST5"
          ],
          [
           "X11"
          ],
          [
           "NIST5"
          ],
          [
           "Skein"
          ],
          [
           "Scrypt"
          ],
          [
           "X13"
          ],
          [
           "Scrypt"
          ],
          [
           "X11"
          ],
          [
           "X11"
          ],
          [
           "X13"
          ],
          [
           "Keccak"
          ],
          [
           "SkunkHash v2 Raptor"
          ],
          [
           "X11"
          ],
          [
           "Skein"
          ],
          [
           "SHA-256"
          ],
          [
           "Scrypt"
          ],
          [
           "PoS"
          ],
          [
           "Scrypt"
          ],
          [
           "Scrypt"
          ],
          [
           "Scrypt"
          ],
          [
           "Scrypt"
          ],
          [
           "Scrypt"
          ],
          [
           "SHA-512"
          ],
          [
           "Ouroboros"
          ],
          [
           "X11"
          ],
          [
           "NIST5"
          ],
          [
           "PHI1612"
          ],
          [
           "Quark"
          ],
          [
           "Scrypt"
          ],
          [
           "POS 2.0"
          ],
          [
           "X11"
          ],
          [
           "NIST5"
          ],
          [
           "X13"
          ],
          [
           "NIST5"
          ],
          [
           "Quark"
          ],
          [
           "X11"
          ],
          [
           "Scrypt"
          ],
          [
           "BLAKE256"
          ],
          [
           "X11"
          ],
          [
           "Quark"
          ],
          [
           "Scrypt"
          ],
          [
           "X11"
          ],
          [
           "SHA-256"
          ],
          [
           "C11"
          ],
          [
           "POS 3.0"
          ],
          [
           "Scrypt"
          ],
          [
           "Lyra2REv2"
          ],
          [
           "X13"
          ],
          [
           "Scrypt"
          ],
          [
           "Scrypt"
          ],
          [
           "X11"
          ],
          [
           "XEVAN"
          ],
          [
           "VBFT"
          ],
          [
           "Scrypt"
          ],
          [
           "NIST5"
          ],
          [
           "Green Protocol"
          ],
          [
           "PoS"
          ],
          [
           "X11"
          ],
          [
           "Quark"
          ],
          [
           "PoS"
          ],
          [
           "NIST5"
          ],
          [
           "SHA-256D"
          ],
          [
           "X15"
          ],
          [
           "Quark"
          ],
          [
           "DPoS"
          ],
          [
           "X16R"
          ],
          [
           "X11"
          ],
          [
           "Quark"
          ],
          [
           "Quark"
          ],
          [
           "Quark"
          ],
          [
           "Scrypt"
          ],
          [
           "XEVAN"
          ],
          [
           "PoS"
          ],
          [
           "SHA-256"
          ],
          [
           "X11"
          ],
          [
           "SHA-512"
          ],
          [
           "X16R"
          ],
          [
           "SHA-256"
          ],
          [
           "Quark"
          ],
          [
           "Scrypt"
          ],
          [
           "Quark"
          ],
          [
           "Quark"
          ],
          [
           "QuBit"
          ],
          [
           "XEVAN"
          ],
          [
           "SHA-256D"
          ],
          [
           "SHA-256"
          ],
          [
           "X13"
          ],
          [
           "SHA-256"
          ],
          [
           "Scrypt"
          ],
          [
           "Scrypt"
          ],
          [
           "SHA-256"
          ],
          [
           "Scrypt"
          ],
          [
           "Groestl"
          ],
          [
           "PoS"
          ],
          [
           "Scrypt"
          ],
          [
           "Scrypt"
          ],
          [
           "X13"
          ],
          [
           "PoS"
          ],
          [
           "PoS"
          ]
         ],
         "hovertemplate": "<b>%{hovertext}</b><br><br>Class=%{marker.color}<br>PC 1=%{x}<br>PC 2=%{y}<br>PC 3=%{z}<br>Algorithm=%{customdata[0]}<extra></extra>",
         "hovertext": [
          "Bitcoin",
          "Litecoin",
          "Bitshares",
          "ProsperCoin",
          "KoboCoin",
          "Spreadcoin",
          "Argentum",
          "ZetaCoin",
          "SexCoin",
          "Quatloo",
          "QuarkCoin",
          "Riecoin",
          "Digitalcoin ",
          "Catcoin",
          "CannaCoin",
          "CryptCoin",
          "DevCoin",
          "EarthCoin",
          "E-Gulden",
          "Einsteinium",
          "Emerald",
          "Exclusive Coin",
          "Franko",
          "GrandCoin",
          "GlobalCoin",
          "GoldCoin",
          "Infinite Coin",
          "IXcoin",
          "KrugerCoin",
          "LuckyCoin",
          "Litebar ",
          "MaxCoin",
          "MegaCoin",
          "MinCoin",
          "NavCoin",
          "NobleCoin",
          "Namecoin",
          "NyanCoin",
          "OpalCoin",
          "RonPaulCoin",
          "StableCoin",
          "SmartCoin",
          "SysCoin",
          "TigerCoin",
          "TittieCoin",
          "TerraCoin",
          "UnbreakableCoin",
          "Unobtanium",
          "UroCoin",
          "ViaCoin",
          "Vertcoin",
          "WorldCoin",
          "JouleCoin",
          "StealthCoin",
          "StorjCoin",
          "MonaCoin",
          "Gulden",
          "PesetaCoin",
          "Kore",
          "Wild Beast Coin",
          "Flo",
          "Sativa Coin",
          "ArtByte",
          "CypherPunkCoin",
          "OmniCron",
          "GreenCoin",
          "MasterCoin",
          "SoonCoin",
          "1Credit",
          "Nexus",
          "MarsCoin ",
          "Anarchists Prime",
          "Droidz",
          "BowsCoin",
          "Song Coin",
          "BitZeny",
          "Paycon",
          "EverGreenCoin",
          "MindCoin",
          "I0coin",
          "Revolution VR",
          "Gamecredits",
          "CarpeDiemCoin",
          "PWR Coin",
          "Adzcoin",
          "YoCoin",
          "Nebuchadnezzar",
          "Francs",
          "BolivarCoin",
          "VIP Tokens",
          "Omni",
          "Let it Ride",
          "MudraCoin",
          "PizzaCoin",
          "Komodo",
          "ZayedCoin",
          "DopeCoin",
          "DollarCoin",
          "Shilling",
          "BuzzCoin",
          "Opair",
          "CoffeeCoin",
          "RoyalCoin",
          "GanjaCoin V2",
          "TeamUP",
          "LanaCoin",
          "KiloCoin",
          "ArtexCoin",
          "EmberCoin",
          "FreeCoin",
          "Kurrent",
          "Creatio",
          "Allsafe",
          "OsmiumCoin",
          "PacCoin",
          "BeaverCoin",
          "FindCoin",
          "VaultCoin",
          "Canada eCoin",
          "TajCoin",
          "EB3coin",
          "Atmos",
          "Coinonat",
          "MacronCoin",
          "BenjiRolls",
          "ILCoin",
          "Phreak",
          "HTML5 Coin",
          "EquiTrader",
          "QTUM",
          "Espers",
          "Denarius",
          "DigitalPrice",
          "Virta Unique Coin",
          "Bitcoin Planet",
          "Unify",
          "BritCoin",
          "SocialCoin",
          "ArcticCoin",
          "DAS",
          "DeepOnion",
          "SmartCash",
          "Signatum",
          "Onix",
          "Cream",
          "Bitcoin Cash",
          "Sojourn Coin",
          "Stakecoin",
          "NewYorkCoin",
          "FrazCoin",
          "Kronecoin",
          "AdCoin",
          "Linx",
          "Obsidian",
          "Cardano",
          "Elements",
          "NamoCoin",
          "LUXCoin",
          "Bitcloud 2.0",
          "eBoost",
          "KekCoin",
          "Pura",
          "Electra",
          "Bitcoin Diamond",
          "Bulwark",
          "Kalkulus",
          "AC3",
          "PopularCoin",
          "Photon",
          "Sucre",
          "Digiwage",
          "IrishCoin",
          "Pioneer Coin",
          "UnitedBitcoin",
          "Interzone",
          "TokenPay",
          "ShareChain",
          "KREDS",
          "Tokyo Coin",
          "BitFlip",
          "LottoCoin",
          "Crypto Improvement Fund",
          "Ellerium",
          "Ontology",
          "Poseidon",
          "Bitspace",
          "Bitcoin Green",
          "Deviant Coin",
          "FuturoCoin",
          "Carebit",
          "Zealium",
          "Jumpcoin",
          "TheVig",
          "Dekado",
          "Poseidon Quark",
          "Muse",
          "Motion",
          "Axe",
          "Dystem",
          "Giant",
          "Vitae",
          "HexCoin",
          "Urals Coin",
          "Ketan",
          "Project Pai",
          "Azart",
          "Kcash",
          "Xchange",
          "Bitcoin SV",
          "HerbCoin",
          "Block-Logic",
          "Galilel",
          "Crypto Sports",
          "SLICE",
          "Beetle Coin",
          "Titan Coin",
          "BLAST",
          "Bitcoin Rhodium",
          "GlobalToken",
          "SolarCoin",
          "Crypto Escudo",
          "Crown Coin",
          "SmileyCoin",
          "Groestlcoin",
          "Radium",
          "Bata",
          "Pakcoin",
          "Triangles Coin",
          "Particl",
          "Nxt"
         ],
         "legendgroup": "0",
         "marker": {
          "color": [
           0,
           0,
           0,
           0,
           0,
           0,
           0,
           0,
           0,
           0,
           0,
           0,
           0,
           0,
           0,
           0,
           0,
           0,
           0,
           0,
           0,
           0,
           0,
           0,
           0,
           0,
           0,
           0,
           0,
           0,
           0,
           0,
           0,
           0,
           0,
           0,
           0,
           0,
           0,
           0,
           0,
           0,
           0,
           0,
           0,
           0,
           0,
           0,
           0,
           0,
           0,
           0,
           0,
           0,
           0,
           0,
           0,
           0,
           0,
           0,
           0,
           0,
           0,
           0,
           0,
           0,
           0,
           0,
           0,
           0,
           0,
           0,
           0,
           0,
           0,
           0,
           0,
           0,
           0,
           0,
           0,
           0,
           0,
           0,
           0,
           0,
           0,
           0,
           0,
           0,
           0,
           0,
           0,
           0,
           0,
           0,
           0,
           0,
           0,
           0,
           0,
           0,
           0,
           0,
           0,
           0,
           0,
           0,
           0,
           0,
           0,
           0,
           0,
           0,
           0,
           0,
           0,
           0,
           0,
           0,
           0,
           0,
           0,
           0,
           0,
           0,
           0,
           0,
           0,
           0,
           0,
           0,
           0,
           0,
           0,
           0,
           0,
           0,
           0,
           0,
           0,
           0,
           0,
           0,
           0,
           0,
           0,
           0,
           0,
           0,
           0,
           0,
           0,
           0,
           0,
           0,
           0,
           0,
           0,
           0,
           0,
           0,
           0,
           0,
           0,
           0,
           0,
           0,
           0,
           0,
           0,
           0,
           0,
           0,
           0,
           0,
           0,
           0,
           0,
           0,
           0,
           0,
           0,
           0,
           0,
           0,
           0,
           0,
           0,
           0,
           0,
           0,
           0,
           0,
           0,
           0,
           0,
           0,
           0,
           0,
           0,
           0,
           0,
           0,
           0,
           0,
           0,
           0,
           0,
           0,
           0,
           0,
           0,
           0,
           0,
           0,
           0,
           0,
           0,
           0,
           0,
           0,
           0,
           0,
           0,
           0,
           0,
           0,
           0,
           0
          ],
          "coloraxis": "coloraxis",
          "symbol": "diamond"
         },
         "mode": "markers",
         "name": "0",
         "scene": "scene",
         "showlegend": true,
         "type": "scatter3d",
         "x": [
          -0.1516984817485032,
          -0.16966706901923487,
          -0.21414134924142683,
          -0.17081407278484576,
          -0.24937364054787625,
          -0.22041996650156104,
          -0.17043033444413277,
          -0.1487814864278744,
          -0.1676838691682479,
          -0.17023420760599225,
          -0.23326320154353525,
          -0.19560297530614626,
          -0.17028306139879826,
          -0.170796328000176,
          -0.17088284406015194,
          -0.22050936532036677,
          0.22639969283083272,
          0.07801273685354057,
          -0.17062897641473873,
          -0.16623132854096553,
          -0.17056822193242568,
          -0.3501310262285477,
          -0.17093988370344046,
          -0.15014811943900097,
          -0.16973419533441264,
          -0.17001180971012342,
          1.5791272070926237,
          -0.15165982764707966,
          -0.1672993525113515,
          -0.1706554351453086,
          -0.1710104840965778,
          -0.4243625600762036,
          -0.17026924125078852,
          -0.17089166932850786,
          -0.2841049130276761,
          -0.03569920170466531,
          -0.1517374854657341,
          -0.16455138977626657,
          -0.284727485244243,
          -0.17087108692350156,
          -0.16896402659030418,
          -0.17035748630743716,
          -0.13888084975543669,
          -0.15120090021119145,
          -0.3059941494461231,
          -0.15148828523308092,
          -0.1514712208026892,
          -0.15206236882088398,
          -0.22068338410526372,
          -0.17058740158409022,
          -0.1877554251731985,
          -0.16768857017864378,
          -0.15126823804828746,
          -0.2845082207209106,
          -0.3474941759712572,
          -0.16945422172199243,
          -0.15404212392230773,
          -0.16817219614205375,
          -0.2848029032896445,
          -0.17101269344287495,
          -0.1680371598550116,
          -0.28475506294459924,
          -0.15425154386222786,
          -0.1863614488312919,
          -0.17088569298598252,
          -0.04373601439947843,
          -0.17102159346396856,
          -0.15176527992700364,
          0.48162655117540226,
          -0.4329336435370062,
          -0.22007016284958686,
          -0.15150495007874518,
          -0.4102444644832338,
          -0.22035524764783354,
          -0.16914401778080054,
          -0.1683357264200702,
          -0.28427637863603905,
          -0.2518168545993293,
          -0.22039067109377852,
          -0.1516609506829361,
          -0.1669767761898389,
          -0.16958398491685833,
          0.2671000869427298,
          -0.2374566533898341,
          -0.21955081194121842,
          -0.16983147618530064,
          -0.3498140939637879,
          -0.17081135725298727,
          -0.2203538829941521,
          -0.3588860397016968,
          -0.17102165199757158,
          -0.33552840038524606,
          -0.23651460819318534,
          -0.22050394562399964,
          -0.24076253778674944,
          -0.15192120584399196,
          -0.16818643208554357,
          -0.1518798093458533,
          -0.17068481695668228,
          0.038036587534066815,
          -0.3487705075909629,
          -0.34809879069260036,
          -0.23794625423574722,
          -0.4212331808641436,
          -0.34784731047680884,
          -0.27668602836633455,
          -0.09769283433380892,
          -0.20707858788023067,
          0.8480731706373569,
          -0.34923455334050174,
          -0.2183305654096492,
          -0.3498140939637879,
          -0.3599858398502022,
          -0.17100337659725945,
          0.49527786633579907,
          -0.1709716437049761,
          -0.2377139603004082,
          -0.21323259238633968,
          -0.16910367263644263,
          -0.41415554721618747,
          -0.14187357705449602,
          -0.3480595302288158,
          -0.19112777637734735,
          -0.3424558710039391,
          -0.17053372154978938,
          -0.11822328367312632,
          -0.3498483977885147,
          0.883313810664391,
          -0.17035564155350982,
          -0.33430596932009304,
          0.5771682559765717,
          -0.3604226681879844,
          -0.21955919480385666,
          -0.3589239078718665,
          -0.4189600242483213,
          -0.17067515024407315,
          -0.28443995249334986,
          -0.17043833118900273,
          -0.2199541556673443,
          -0.22053200137794882,
          -0.2845107776741014,
          -0.11918480864765588,
          -0.34440464937419296,
          -0.2113974801617176,
          -0.41846462083431374,
          -0.1516976454546465,
          -0.09653937009584902,
          -0.3497145612366204,
          1.5770657909318564,
          -0.17077305690704297,
          -0.17022430157671103,
          -0.16992507815647703,
          -0.16991200108924026,
          -0.2722429863764281,
          0.6554181267751572,
          -0.17488928656996094,
          -0.34517938681288707,
          -0.3885328107299582,
          -0.40534478438189286,
          -0.16910188069597454,
          -0.3548032538486231,
          -0.2160733788806603,
          0.1994273942095645,
          -0.2811794882316138,
          -0.31326784280384823,
          -0.3598716718727018,
          -0.2158145988314928,
          -0.08710495791087516,
          1.1092162383340463,
          -0.22050598319661108,
          -0.3590358168873184,
          -0.17002355659203777,
          -0.2204313418778158,
          -0.15167703106971173,
          -0.1952992242008289,
          -0.3358104902153586,
          0.022146647209256194,
          -0.17330364446296131,
          -0.2295041045157926,
          -0.1705976558633285,
          0.13668448541860648,
          -0.21456820079636327,
          -0.2861331909552603,
          -0.31426788579452064,
          -0.17083483016460238,
          -0.3600213525829379,
          -0.34971630055147845,
          -0.3493087545970268,
          -0.21959999224178728,
          -0.40401203635824573,
          -0.3494975419771366,
          -0.19118730072718643,
          -0.3420470290524717,
          -0.20424194668213422,
          -0.35557643855325005,
          1.0092255705909199,
          -0.19855202019165294,
          -0.2204881313123237,
          -0.35998526888113613,
          -0.4070301222483959,
          -0.35870397181667985,
          -0.17085942601721676,
          -0.1159431695312887,
          -0.34859667526249233,
          -0.11149875464664391,
          -0.22045947550821463,
          -0.16258275839117736,
          -0.1979793167133428,
          -0.15169768304314132,
          -0.40632428818275634,
          -0.16975094927724987,
          -0.4067807099697923,
          -0.3601023218753397,
          -0.1855718418706447,
          -0.2805851032158697,
          -0.29673511162366645,
          -0.15097333992737638,
          -0.1159327788456634,
          -0.14984048398388022,
          0.5255788264165819,
          -0.15440222238722226,
          -0.15148765529775435,
          0.5453041880350957,
          -0.1951636858029249,
          -0.35008989677089664,
          -0.17093632801060918,
          -0.1688906148519475,
          -0.2849101829913427,
          -0.35002572660163384,
          -0.34651012072470433
         ],
         "y": [
          -1.3094357684476958,
          -1.1099318590190987,
          1.4424975214766418,
          -1.1099207195318888,
          1.8421283386670293,
          -0.9269713766793516,
          -1.1099399600959823,
          -1.3094560146436713,
          -1.109991506094426,
          -1.1099597171844289,
          -0.46478386648053205,
          -1.2788299263882992,
          -1.1099244611861745,
          -1.1099202021571,
          -1.1099171625178466,
          -0.9269725679281094,
          -1.3132575889302236,
          -1.1122042478320733,
          -1.109915322780269,
          -1.1099843908786087,
          -1.1099213355607709,
          1.5666827000781605,
          -1.1099174780903736,
          -1.1103086095161694,
          -1.1099239090644655,
          -1.1099335924846483,
          -1.122997011038918,
          -1.3094346414316194,
          -1.109991207506963,
          -1.1099153865713496,
          -1.1099125408375563,
          1.9643226558228102,
          -1.1099196948614887,
          -1.1099151978059751,
          1.8006963456064853,
          -1.116581160451095,
          -1.3094369056573216,
          -1.1099617398091046,
          1.8006781936156262,
          -1.1099223818613284,
          -1.1100288309303321,
          -1.109928778165975,
          -1.3096755856377142,
          -1.3094396681451084,
          1.5790301019073463,
          -1.3094445005438788,
          -1.3094708937578077,
          -1.3094316943341948,
          -0.926964903972121,
          -1.109915525908859,
          -1.3266828553231862,
          -1.110002555709389,
          -1.3094402077049558,
          1.8006845865890315,
          1.5700995927498629,
          -1.1099405987460784,
          -1.110605702794545,
          -1.109946574410085,
          1.8006675028773196,
          -1.109913509632684,
          -1.1099381181707444,
          1.8006703130343127,
          -1.1101306058042566,
          -1.5009715562169323,
          -1.109910332774646,
          -1.113277228472914,
          -1.1099123477922923,
          -1.3094377160449255,
          -1.155986937413579,
          2.1079188491158436,
          -0.9269703771171778,
          -1.3094533084115834,
          1.8067058130261275,
          -0.926970197359201,
          -1.1100059426146616,
          -1.1100105119327235,
          1.8006559637109512,
          1.842286171401039,
          -0.9269676919240131,
          -1.309434674175349,
          -1.109942583724113,
          -1.109929436582266,
          -1.3125140981401895,
          1.506288008132573,
          -0.9269913249122268,
          -1.1099963438600247,
          1.5666777876680527,
          -1.1099199327052722,
          -0.9269729881762296,
          1.502683870623814,
          -1.10991234735474,
          1.50624045197636,
          1.5964685097524451,
          -0.9269773634686257,
          -1.4186865224059064,
          -1.3094342913048989,
          -1.1099707764726543,
          -1.309433722842707,
          -1.1099233197541212,
          1.8704548742741134,
          1.5666700017599267,
          1.5667136468535747,
          1.5965665291048832,
          1.8686114037463557,
          1.5665362820425632,
          1.8701200787085062,
          -1.1148504173756026,
          -0.92692206220141,
          1.833105126820137,
          1.5666734554696915,
          -0.9270576486618194,
          1.5666777876680527,
          1.4824814033885056,
          -1.1099132990470193,
          -0.9768551580059222,
          -1.1099128307691744,
          1.596564792654726,
          -0.9274553167625157,
          -1.1099267548069138,
          1.8538226471024026,
          -1.11189266243613,
          1.5666650506409077,
          -0.6486650978220163,
          1.5666234197505322,
          -1.1099228208682357,
          -1.3102140185120952,
          1.5666697109768841,
          1.8117125296920733,
          -1.1099434435279816,
          1.506229034901064,
          1.8772285995863713,
          1.5026956801136333,
          -0.9270028917485749,
          1.5026615369816403,
          1.8920748331504038,
          -1.1099154496200176,
          1.8006653475066046,
          -1.1099479774176668,
          -0.9269861013474247,
          -0.9269738648012462,
          1.8006711387090377,
          -1.2538617969829322,
          1.5750200740837421,
          -0.9274725765558375,
          1.8920892773514189,
          -1.3094357440643403,
          -1.1151706121465115,
          1.5666512514160953,
          -1.0589439006025014,
          -1.1099188160034488,
          -1.1099481059379603,
          -1.1099507040694956,
          -1.1099503227887413,
          1.4432867615816014,
          1.4572055689197672,
          -0.9269034834769307,
          1.502298014837595,
          1.7836825768179514,
          1.6865018519933608,
          -1.109926702560305,
          1.5636309537481865,
          -0.9270781706001839,
          1.4977964515636097,
          1.800633033798103,
          1.298584140664615,
          1.4824811938637021,
          -0.9272121557683585,
          -1.1110034557246227,
          -1.3296616962228012,
          -0.9269737430898771,
          1.4824347992844238,
          -1.1099280999010415,
          -0.9269738312989582,
          -1.3094345528409759,
          -1.2923990255107203,
          1.506238242277161,
          -1.1113563244565443,
          -1.3269804666044842,
          1.596248320276658,
          -1.1099278549604257,
          -1.113966019384801,
          -0.9271404326676351,
          1.4327255622614006,
          1.5576138739940126,
          -1.1099213247432325,
          1.5026790749941379,
          1.5281111264655405,
          1.5666444012730338,
          -0.9270040812567164,
          1.6865407101841035,
          1.5666445581156436,
          -0.648647548425185,
          1.8734552505047344,
          1.638154338093911,
          1.4821606072235582,
          1.713997553779316,
          -1.2673528046626898,
          -0.9269740717740867,
          1.48247717412772,
          1.6865905986987637,
          1.4824586277334229,
          -1.1099228240116625,
          -0.718688195504541,
          1.5665788295060337,
          -1.3097348946226401,
          -0.9269760668782645,
          1.4013507120556898,
          -1.2673912499043607,
          -1.309435745160287,
          1.686576610247208,
          -1.1099597801182632,
          1.6865880449349075,
          1.4824791606588015,
          -1.5010192992240718,
          1.4325759581587993,
          1.8713088931007669,
          -1.3094450549009369,
          -0.35067158493481004,
          -1.3094856205944163,
          -1.1590221187887793,
          -1.110134999053964,
          -1.3094444821772055,
          -1.1244089665915649,
          -1.2788319789480225,
          1.5666775304044995,
          -1.1099129616374168,
          -1.109978570212158,
          1.8006727818811552,
          1.5666796602796607,
          1.748568498992191
         ],
         "z": [
          0.21459065621224988,
          -0.029305792790985146,
          0.23006558637600683,
          -0.029284684093824596,
          -0.6182469369949867,
          0.06623411248050372,
          -0.029289438083745296,
          0.2145357711894064,
          -0.02933628172954792,
          -0.029290391472502265,
          0.05351453579609902,
          0.16996792571739658,
          -0.029294667057383112,
          -0.02928511326919218,
          -0.029283848304549293,
          0.06623606411730762,
          0.20765467482045052,
          -0.03388371967310342,
          -0.029289160834690776,
          -0.0293661706515533,
          -0.02928947214580992,
          -0.055538614230272086,
          -0.02928266921943576,
          -0.029637157809063636,
          -0.029305643215305613,
          -0.029298692403198608,
          -0.062072468908241404,
          0.21458972132416448,
          -0.029343958124144802,
          -0.029288626185352946,
          -0.029282002471804666,
          -0.5596112913327379,
          -0.02929565047738956,
          -0.029283965440604506,
          -0.6061692264206419,
          -0.030975560398832144,
          0.21459159955619128,
          -0.029402884384169943,
          -0.6061541688888146,
          -0.029283305149848875,
          -0.029305319841731618,
          -0.029292547592362765,
          0.21437192804570712,
          0.21458136028479516,
          -0.22401347677679903,
          0.21458778331137576,
          0.21459137128912584,
          0.21459727259341327,
          0.06623837786818812,
          -0.029289955800501893,
          0.21205090992982564,
          -0.029334544505520165,
          0.21458277709467888,
          -0.6061594720206454,
          -0.10710379377307237,
          -0.029308717169916464,
          -0.029515668399174085,
          -0.029333274062897492,
          -0.6061510814496072,
          -0.029281814486761128,
          -0.02933721237841746,
          -0.6061524490792637,
          -0.029582194807568272,
          0.25640181109751414,
          -0.029284807860196698,
          -0.03130758968508802,
          -0.02928181069111356,
          0.21459227179304013,
          -0.035380923556337374,
          -0.2819723926166344,
          0.06622702078913187,
          0.21458942447810916,
          -0.708433233050889,
          0.066232652471815,
          -0.029305152568299575,
          -0.029320515909848317,
          -0.6061598152769772,
          -0.6182219252603812,
          0.0662329828156492,
          0.21458974848590998,
          -0.029357594741673675,
          -0.029307802263118243,
          0.20673623079097234,
          -0.5849703478642715,
          0.06621982912583162,
          -0.029292935805457287,
          -0.05554417392356778,
          -0.02928485505320712,
          0.06623304059241338,
          -0.5820239813508414,
          -0.029281809594422826,
          -0.1230247600656986,
          -0.2846758198609277,
          0.06623667000722656,
          0.5154625468060743,
          0.2145948571261852,
          -0.02932939081907713,
          0.2145939509057805,
          -0.029286862741572446,
          -0.7157690963835289,
          -0.05556372890139352,
          -0.055583554629205105,
          -0.2846619871580378,
          -0.6796286348451691,
          -0.05556215844020423,
          -0.7094726025078654,
          -0.030002590021022162,
          0.0659619730264336,
          -0.6334625966127759,
          -0.055555032247422365,
          0.0662054767828824,
          -0.05554417392356778,
          -0.19375949689893876,
          -0.029282030739670353,
          0.059450291650561336,
          -0.029282730249656466,
          -0.2846663394375471,
          0.06616345454543693,
          -0.02931773459163493,
          -0.8076227105641297,
          -0.02956572373232365,
          -0.055577103930285664,
          -0.013147887521346612,
          -0.055682132925722036,
          -0.029289935938983783,
          0.21404201796922454,
          -0.05554229143596932,
          -0.6362036270529311,
          -0.029290402353796534,
          -0.123047324562207,
          -0.6953277558926636,
          -0.5819952389760346,
          0.06622171637820014,
          -0.5820199070254217,
          -0.73812985481653,
          -0.029288225495569017,
          -0.6061579647101751,
          -0.02928808657766212,
          0.06622705764064474,
          0.06623670634637883,
          -0.6061574205481035,
          0.15208045143910362,
          -0.00909994823972946,
          0.06612959867340241,
          -0.738141836643657,
          0.21459063598567035,
          -0.02997784694338339,
          -0.05554220151425306,
          -0.07156111794480342,
          -0.029285781385386542,
          -0.029292315564179695,
          -0.02929786807746641,
          -0.02929818435941882,
          0.2311013805935048,
          -0.1808354706905755,
          0.06532030856128922,
          -0.5822386279657396,
          -0.5448763966937152,
          -0.5152663377513151,
          -0.02931777793150742,
          -0.1157895149206912,
          0.06616372881520699,
          -0.5923783797343739,
          -0.6062178716247818,
          -0.2605104910355298,
          -0.1937617317580383,
          0.06617852626648163,
          -0.030785076044299503,
          0.13832564088722718,
          0.06623617182401187,
          -0.19377141959416708,
          -0.02929927641300537,
          0.06623470344994199,
          0.21459004960135547,
          0.053597192716907965,
          -0.12301883233396683,
          -0.03290102775967753,
          0.21180834518955755,
          -0.2847822069882176,
          -0.029287918004522587,
          -0.034786140266476015,
          0.0661431168068017,
          -0.5822013182373013,
          0.03481160563978281,
          -0.029284182055831193,
          -0.5820007339342603,
          -0.05211066789464211,
          -0.05554923691773925,
          0.0662227031050471,
          -0.5152985715954388,
          -0.05554551315832851,
          -0.013149316997607135,
          -0.708671496321838,
          -0.29674249597254027,
          -0.19379928890974396,
          -0.09883638174920333,
          0.21929243159826184,
          0.06623586639616678,
          -0.19375887901922692,
          -0.5152460901696152,
          -0.19378155122971336,
          -0.029283470816754417,
          -0.013363851387520142,
          -0.05555361492231971,
          0.21383726589680327,
          0.06623559445299196,
          0.8213392643151624,
          0.21928678418113556,
          0.21459063689478555,
          -0.5152580185751832,
          -0.029299973928032085,
          -0.5152506606211517,
          -0.19375685127353287,
          0.256393241816126,
          -0.5822891804167514,
          -0.7092515308833277,
          0.21457764503766738,
          -0.037298526087396894,
          0.21456119506238394,
          -0.03580173597769111,
          -0.02957855049671492,
          0.21458776807575985,
          -0.04134285508306192,
          0.16995951197342318,
          -0.055538661453596025,
          -0.029283411733345557,
          -0.029314254521971585,
          -0.6061497375272616,
          -0.05554025199163099,
          0.12357952617278517
         ]
        },
        {
         "customdata": [
          [
           "Ethash"
          ],
          [
           "CryptoNight-V7"
          ],
          [
           "Ethash"
          ],
          [
           "Equihash"
          ],
          [
           "Multiple"
          ],
          [
           "Multiple"
          ],
          [
           "Scrypt"
          ],
          [
           "Multiple"
          ],
          [
           "NeoScrypt"
          ],
          [
           "HybridScryptHash256"
          ],
          [
           "CryptoNight"
          ],
          [
           "CryptoNight"
          ],
          [
           "Stanford Folding"
          ],
          [
           "Multiple"
          ],
          [
           "M7 POW"
          ],
          [
           "Lyra2RE"
          ],
          [
           "Ethash"
          ],
          [
           "Blake2b"
          ],
          [
           "1GB AES Pattern Search"
          ],
          [
           "Dagger"
          ],
          [
           "X11GOST"
          ],
          [
           "CryptoNight"
          ],
          [
           "Multiple"
          ],
          [
           "Lyra2Z"
          ],
          [
           "Ethash"
          ],
          [
           "Equihash"
          ],
          [
           "CryptoNight"
          ],
          [
           "CryptoNight"
          ],
          [
           "Lyra2RE"
          ],
          [
           "CryptoNight-V7"
          ],
          [
           "Equihash"
          ],
          [
           "Lyra2RE"
          ],
          [
           "Dagger-Hashimoto"
          ],
          [
           "CryptoNight-V7"
          ],
          [
           "Argon2d"
          ],
          [
           "Blake2b"
          ],
          [
           "Cloverhash"
          ],
          [
           "CryptoNight"
          ],
          [
           "CryptoNight"
          ],
          [
           "Time Travel"
          ],
          [
           "Scrypt"
          ],
          [
           "VeChainThor Authority"
          ],
          [
           "CryptoNight"
          ],
          [
           "Equihash"
          ],
          [
           "NeoScrypt"
          ],
          [
           "Equihash"
          ],
          [
           "Dagger"
          ],
          [
           "NeoScrypt"
          ],
          [
           "Ethash"
          ],
          [
           "NeoScrypt"
          ],
          [
           "Multiple"
          ],
          [
           "CryptoNight"
          ],
          [
           "CryptoNight"
          ],
          [
           "Ethash"
          ],
          [
           "CryptoNight-V7"
          ],
          [
           "NeoScrypt"
          ],
          [
           "NeoScrypt"
          ],
          [
           "CryptoNight"
          ],
          [
           "SkunkHash"
          ],
          [
           "CryptoNight"
          ],
          [
           "Dagger"
          ],
          [
           "Proof-of-BibleHash"
          ],
          [
           "SHA-256 + Hive"
          ],
          [
           "Proof-of-Authority"
          ],
          [
           "Ethash"
          ],
          [
           "CryptoNight"
          ],
          [
           "IMesh"
          ],
          [
           "Equihash"
          ],
          [
           "Lyra2Z"
          ],
          [
           "CryptoNight"
          ],
          [
           "Lyra2RE"
          ],
          [
           "Tribus"
          ],
          [
           "Lyra2Z"
          ],
          [
           "CryptoNight"
          ],
          [
           "CryptoNight Heavy"
          ],
          [
           "CryptoNight"
          ],
          [
           "Jump Consistent Hash"
          ],
          [
           "CryptoNight"
          ],
          [
           "HMQ1725"
          ],
          [
           "CryptoNight-V7"
          ],
          [
           "Cryptonight-GPU"
          ],
          [
           "CryptoNight Heavy"
          ],
          [
           "ECC 256K1"
          ],
          [
           "Equihash"
          ],
          [
           "Lyra2Z"
          ],
          [
           "CryptoNight"
          ],
          [
           "Blake"
          ],
          [
           "Blake"
          ],
          [
           "Exosis"
          ],
          [
           "Equihash"
          ],
          [
           "Equihash"
          ],
          [
           "NeoScrypt"
          ],
          [
           "Blake"
          ],
          [
           "Multiple"
          ],
          [
           "Equihash+Scrypt"
          ],
          [
           "Ethash"
          ],
          [
           "CryptoNight"
          ],
          [
           "Equihash"
          ]
         ],
         "hovertemplate": "<b>%{hovertext}</b><br><br>Class=%{marker.color}<br>PC 1=%{x}<br>PC 2=%{y}<br>PC 3=%{z}<br>Algorithm=%{customdata[0]}<extra></extra>",
         "hovertext": [
          "Ethereum",
          "Monero",
          "Ethereum Classic",
          "ZCash",
          "DigiByte",
          "MyriadCoin",
          "MoonCoin",
          "Verge",
          "FeatherCoin",
          "MediterraneanCoin",
          "ByteCoin",
          "DigitalNote ",
          "Folding Coin",
          "Unitus",
          "Cryptonite",
          "Crypto",
          "Expanse",
          "Siacoin",
          "HOdlcoin",
          "SoilCoin",
          "SibCoin",
          "Karbo",
          "Circuits of Value",
          "ZCoin",
          "Elementrem",
          "ZClassic",
          "Cannabis Industry Coin",
          "Bikercoins",
          "HexxCoin",
          "Citadel",
          "Zero",
          "Zoin",
          "DubaiCoin",
          "Quantum Resistant Ledger",
          "Dynamic",
          "Nano",
          "ChanCoin",
          "Dinastycoin",
          "LeviarCoin",
          "Bitcore",
          "gCn Coin",
          "Vechain",
          "Sumokoin",
          "BitcoinZ",
          "VIVO Coin",
          "Bitcoin Gold",
          "Pirl",
          "Innova",
          "Ellaism",
          "GoByte",
          "SHIELD",
          "UltraNote",
          "BitCoal",
          "DaxxCoin",
          "Lethean",
          "SparksPay",
          "GunCoin",
          "TurtleCoin",
          "MUNcoin",
          "Niobio Cash",
          "Travelflex",
          "BiblePay",
          "LitecoinCash",
          "Poa Network",
          "Callisto Network",
          "BitTube",
          "Aidos Kuneen",
          "Bitrolium",
          "Alpenschillling",
          "Monero Classic",
          "Infinex",
          "KEYCO",
          "GINcoin",
          "PlatinCoin",
          "Loki",
          "Newton Coin",
          "MassGrid",
          "PluraCoin",
          "PlusOneCoin",
          "Webchain",
          "Ryo",
          "Qwertycoin",
          "Acute Angle Cloud",
          "CrypticCoin",
          "Actinium",
          "FREDEnergy",
          "Universal Molecule",
          "Lithium",
          "Exosis",
          "Beam",
          "Bithereum",
          "UFO Coin",
          "BlakeCoin",
          "JoinCoin",
          "Vollar",
          "Reality Clash",
          "Beldex",
          "Horizen"
         ],
         "legendgroup": "3",
         "marker": {
          "color": [
           3,
           3,
           3,
           3,
           3,
           3,
           3,
           3,
           3,
           3,
           3,
           3,
           3,
           3,
           3,
           3,
           3,
           3,
           3,
           3,
           3,
           3,
           3,
           3,
           3,
           3,
           3,
           3,
           3,
           3,
           3,
           3,
           3,
           3,
           3,
           3,
           3,
           3,
           3,
           3,
           3,
           3,
           3,
           3,
           3,
           3,
           3,
           3,
           3,
           3,
           3,
           3,
           3,
           3,
           3,
           3,
           3,
           3,
           3,
           3,
           3,
           3,
           3,
           3,
           3,
           3,
           3,
           3,
           3,
           3,
           3,
           3,
           3,
           3,
           3,
           3,
           3,
           3,
           3,
           3,
           3,
           3,
           3,
           3,
           3,
           3,
           3,
           3,
           3,
           3,
           3,
           3,
           3,
           3,
           3,
           3,
           3,
           3
          ],
          "coloraxis": "coloraxis",
          "symbol": "square"
         },
         "mode": "markers",
         "name": "3",
         "scene": "scene",
         "showlegend": true,
         "type": "scatter3d",
         "x": [
          -0.15067532328074393,
          -0.14778421525745045,
          -0.14911618158714635,
          -0.1457740999418722,
          0.1660005527926757,
          -0.08757916511786164,
          2.5531084930638555,
          0.18975970133361283,
          -0.1723931227851762,
          -0.14432900650856922,
          3.861134986896215,
          0.45785281607424994,
          -0.13669997140235224,
          -0.12160851898506875,
          -0.10293830758959541,
          -0.15895328434987005,
          -0.15174341529621113,
          0.3658429022183634,
          -0.1592263738597432,
          -0.15423957679334968,
          -0.15552077541092227,
          0.3026527364852276,
          -0.1016676127706759,
          -0.14773635555189277,
          -0.15148540539487512,
          -0.14579573021082157,
          0.3026471079099248,
          0.30277790775807933,
          -0.15949411496165258,
          -0.1465479802769591,
          -0.1458081165581657,
          -0.15921231196262142,
          -0.15957136104491748,
          -0.14640570830852973,
          -0.15378341889329597,
          -0.03470457490101198,
          -0.16287621870306887,
          0.338793161444151,
          0.30304236959576725,
          -0.15808401947889972,
          3.240959769700541,
          4.405596084331185,
          0.30322612607490496,
          0.06666870257898957,
          -0.1770850317714185,
          -0.14565406973312667,
          -0.1529977894794765,
          -0.1769303314528936,
          -0.1498493583963661,
          -0.17703061082937976,
          -0.1118337116987596,
          1.141185441687698,
          0.30262985869685255,
          -0.07468311578569595,
          -0.1355102394830738,
          -0.17708259481416477,
          -0.17011573696799245,
          8.04618217985329,
          -0.16477891558906932,
          0.30650697614626593,
          -0.1525007562573576,
          -0.22051570717481003,
          -0.3949391539398425,
          -0.3697327711988227,
          -0.1028530749323977,
          0.31055880662481417,
          -0.1442242696637026,
          -0.14464449553713946,
          -0.1455182400780827,
          0.3028124950080433,
          -0.15933924285664813,
          -0.13573883461506675,
          -0.14782079432142764,
          0.3067436807506225,
          0.5934542127719875,
          2.1125843597283955,
          -0.1494553350925786,
          0.3164267297208177,
          -0.14250287388683075,
          -0.13538931963932269,
          -0.16190646852460325,
          3.117735618079186,
          -0.34707248908486515,
          -0.040328431647458376,
          -0.147218106509478,
          0.3826293573144198,
          -0.14644889703062755,
          -0.14684123879985897,
          -0.14681346903040624,
          -0.14371275078473478,
          -0.14548677648717007,
          -0.10219844730965032,
          -0.09726957309565847,
          -0.12234385268261136,
          -0.10980858491961826,
          -0.1515185859295989,
          0.3244016655758308,
          -0.14577515753849354
         ],
         "y": [
          -2.041384540530979,
          -2.2305634088905766,
          -2.041487688293696,
          -2.0440877467769325,
          -1.8911532062088212,
          -1.8851013125978533,
          -1.30222409350811,
          -1.8873149636336903,
          -1.6603526912608082,
          -2.2481314778455315,
          -2.32901402685407,
          -2.3047795036025973,
          -2.0821558159533997,
          -1.884678184750348,
          -2.2879994871399703,
          -2.222477574612881,
          -2.0414276461290917,
          -2.1754889050599426,
          -2.2177107965805902,
          -2.2551166429818994,
          -2.2502550389125444,
          -2.302235148582797,
          -1.884945960512883,
          -2.2732646415879194,
          -2.041426704028875,
          -2.044088377438619,
          -2.3022430968570835,
          -2.3022421138043425,
          -2.222453864075686,
          -2.2306582801799966,
          -2.0440859079749645,
          -2.222453431868591,
          -2.1723012203305636,
          -2.2305975199260795,
          -2.169707235162915,
          -2.1874082457149098,
          -2.2504661826235366,
          -2.3025896485943123,
          -2.3022549249277433,
          -2.1775506621622647,
          -1.1519609456788547,
          2.728093259861682,
          -2.3022742564119203,
          -2.0527394885430037,
          -1.660270826361153,
          -2.0440842471230867,
          -2.2551698180141053,
          -1.6602790535748904,
          -2.0415586007167734,
          -1.66027263636667,
          -1.8848602360498052,
          -2.3379298080351694,
          -2.3022375847461345,
          -2.046245391810397,
          -2.23091282788784,
          -1.660266509399938,
          -1.6604023456172765,
          -2.784105671916237,
          -2.143335215016621,
          -2.3023534670129986,
          -2.255115480757219,
          3.4040057310237035,
          3.289295590025651,
          2.8514648984062347,
          -2.0445899478063496,
          -2.3027052105605414,
          -2.2033126368040303,
          -2.04408948644844,
          -2.273397120903574,
          -2.302236434864155,
          -2.222460869121094,
          -2.3560430240188523,
          -2.273259390122106,
          -2.30253338587676,
          -2.269431381981559,
          -2.379664757104646,
          -2.2558559806488483,
          -2.3025341227998517,
          -2.2201757357345246,
          -2.231440407727784,
          -2.098870945593739,
          -2.3262666173107887,
          3.2132230808863746,
          -2.04637661596498,
          -2.2732938302653354,
          -2.305614061403611,
          -2.1913872957342964,
          -2.19134219990638,
          -2.2578973434360865,
          -2.044198755270275,
          -2.0440863652886576,
          -1.6608988988759368,
          -2.19483257288516,
          -1.8847016058886434,
          -2.2409031614436663,
          -2.0414264559967665,
          -2.3025848201211243,
          -2.0440877776126873
         ],
         "z": [
          0.4068731908203557,
          0.4110839038658237,
          0.40685759053977405,
          0.4174885533257823,
          0.3299546859120908,
          0.3340874160155483,
          -0.054739580246998765,
          0.3289120707454015,
          0.2947156072666502,
          0.3046854945964282,
          0.3604629971716464,
          0.42440658206652776,
          0.3849975371655222,
          0.3346998869227289,
          0.4384378368307452,
          0.37718611796012763,
          0.40690080362550146,
          0.4285260015619107,
          0.4735997201224366,
          0.41948761057895445,
          0.41146970250752474,
          0.42710848877474367,
          0.3343439339924505,
          0.4313785155282349,
          0.4068955424258258,
          0.4174890764754725,
          0.4271097830042772,
          0.4271070406052204,
          0.37719332492766877,
          0.4110734813689021,
          0.41748895492556065,
          0.3771876673371595,
          0.4259314546409704,
          0.41106161785677825,
          0.47732288365442954,
          0.43824946841830625,
          0.3427429647483965,
          0.4264439066861872,
          0.42710369749544613,
          0.5190161853082754,
          -0.0907477526178836,
          4.974585760838474,
          0.4271029263166269,
          0.4145591128151673,
          0.29479655378668956,
          0.41748565027511414,
          0.4194708744764192,
          0.29479470727224266,
          0.4068826928612851,
          0.29479574291310306,
          0.3345329592391635,
          0.4157756135761196,
          0.427109305300761,
          0.4060880585470477,
          0.4108922724251935,
          0.2947958631572719,
          0.2946777925831659,
          0.3451039585121485,
          0.425765729102898,
          0.4270495919112478,
          0.4194529251718872,
          11.709308146000302,
          14.797942084206316,
          19.25181212581013,
          0.4064008918394636,
          0.4270215012726849,
          0.4339813963183909,
          0.41746639150816744,
          0.4313541996204175,
          0.42710550921989626,
          0.3771912931742716,
          0.3308971875096473,
          0.4313794101956852,
          0.42707166135157365,
          0.4087772083022603,
          0.4027042303206853,
          0.40075762532855613,
          0.42687957968282136,
          0.3190500474266637,
          0.41096836359069844,
          0.5423013908447525,
          0.36713042869664336,
          13.054716663244742,
          0.41573617306061694,
          0.43137257178039135,
          0.42602379612997254,
          0.4254847638795368,
          0.4254858419899206,
          0.4749250930099492,
          0.4174641546079129,
          0.4174826449338011,
          0.29340363034237354,
          0.425021216237743,
          0.3347179664920497,
          0.4469336959272442,
          0.4068961640992231,
          0.42672883392967237,
          0.41748857890481295
         ]
        },
        {
         "customdata": [
          [
           "TRC10"
          ]
         ],
         "hovertemplate": "<b>%{hovertext}</b><br><br>Class=%{marker.color}<br>PC 1=%{x}<br>PC 2=%{y}<br>PC 3=%{z}<br>Algorithm=%{customdata[0]}<extra></extra>",
         "hovertext": [
          "BitTorrent"
         ],
         "legendgroup": "2",
         "marker": {
          "color": [
           2
          ],
          "coloraxis": "coloraxis",
          "symbol": "x"
         },
         "mode": "markers",
         "name": "2",
         "scene": "scene",
         "showlegend": true,
         "type": "scatter3d",
         "x": [
          34.07344391470898
         ],
         "y": [
          1.6255933478733895
         ],
         "z": [
          -0.7931566724113602
         ]
        }
       ],
       "layout": {
        "coloraxis": {
         "colorbar": {
          "title": {
           "text": "Class"
          }
         },
         "colorscale": [
          [
           0,
           "#0d0887"
          ],
          [
           0.1111111111111111,
           "#46039f"
          ],
          [
           0.2222222222222222,
           "#7201a8"
          ],
          [
           0.3333333333333333,
           "#9c179e"
          ],
          [
           0.4444444444444444,
           "#bd3786"
          ],
          [
           0.5555555555555556,
           "#d8576b"
          ],
          [
           0.6666666666666666,
           "#ed7953"
          ],
          [
           0.7777777777777778,
           "#fb9f3a"
          ],
          [
           0.8888888888888888,
           "#fdca26"
          ],
          [
           1,
           "#f0f921"
          ]
         ]
        },
        "legend": {
         "title": {
          "text": "Class"
         },
         "tracegroupgap": 0,
         "x": 0,
         "y": 1
        },
        "margin": {
         "t": 60
        },
        "scene": {
         "domain": {
          "x": [
           0,
           1
          ],
          "y": [
           0,
           1
          ]
         },
         "xaxis": {
          "title": {
           "text": "PC 1"
          }
         },
         "yaxis": {
          "title": {
           "text": "PC 2"
          }
         },
         "zaxis": {
          "title": {
           "text": "PC 3"
          }
         }
        },
        "template": {
         "data": {
          "bar": [
           {
            "error_x": {
             "color": "#2a3f5f"
            },
            "error_y": {
             "color": "#2a3f5f"
            },
            "marker": {
             "line": {
              "color": "#E5ECF6",
              "width": 0.5
             },
             "pattern": {
              "fillmode": "overlay",
              "size": 10,
              "solidity": 0.2
             }
            },
            "type": "bar"
           }
          ],
          "barpolar": [
           {
            "marker": {
             "line": {
              "color": "#E5ECF6",
              "width": 0.5
             },
             "pattern": {
              "fillmode": "overlay",
              "size": 10,
              "solidity": 0.2
             }
            },
            "type": "barpolar"
           }
          ],
          "carpet": [
           {
            "aaxis": {
             "endlinecolor": "#2a3f5f",
             "gridcolor": "white",
             "linecolor": "white",
             "minorgridcolor": "white",
             "startlinecolor": "#2a3f5f"
            },
            "baxis": {
             "endlinecolor": "#2a3f5f",
             "gridcolor": "white",
             "linecolor": "white",
             "minorgridcolor": "white",
             "startlinecolor": "#2a3f5f"
            },
            "type": "carpet"
           }
          ],
          "choropleth": [
           {
            "colorbar": {
             "outlinewidth": 0,
             "ticks": ""
            },
            "type": "choropleth"
           }
          ],
          "contour": [
           {
            "colorbar": {
             "outlinewidth": 0,
             "ticks": ""
            },
            "colorscale": [
             [
              0,
              "#0d0887"
             ],
             [
              0.1111111111111111,
              "#46039f"
             ],
             [
              0.2222222222222222,
              "#7201a8"
             ],
             [
              0.3333333333333333,
              "#9c179e"
             ],
             [
              0.4444444444444444,
              "#bd3786"
             ],
             [
              0.5555555555555556,
              "#d8576b"
             ],
             [
              0.6666666666666666,
              "#ed7953"
             ],
             [
              0.7777777777777778,
              "#fb9f3a"
             ],
             [
              0.8888888888888888,
              "#fdca26"
             ],
             [
              1,
              "#f0f921"
             ]
            ],
            "type": "contour"
           }
          ],
          "contourcarpet": [
           {
            "colorbar": {
             "outlinewidth": 0,
             "ticks": ""
            },
            "type": "contourcarpet"
           }
          ],
          "heatmap": [
           {
            "colorbar": {
             "outlinewidth": 0,
             "ticks": ""
            },
            "colorscale": [
             [
              0,
              "#0d0887"
             ],
             [
              0.1111111111111111,
              "#46039f"
             ],
             [
              0.2222222222222222,
              "#7201a8"
             ],
             [
              0.3333333333333333,
              "#9c179e"
             ],
             [
              0.4444444444444444,
              "#bd3786"
             ],
             [
              0.5555555555555556,
              "#d8576b"
             ],
             [
              0.6666666666666666,
              "#ed7953"
             ],
             [
              0.7777777777777778,
              "#fb9f3a"
             ],
             [
              0.8888888888888888,
              "#fdca26"
             ],
             [
              1,
              "#f0f921"
             ]
            ],
            "type": "heatmap"
           }
          ],
          "heatmapgl": [
           {
            "colorbar": {
             "outlinewidth": 0,
             "ticks": ""
            },
            "colorscale": [
             [
              0,
              "#0d0887"
             ],
             [
              0.1111111111111111,
              "#46039f"
             ],
             [
              0.2222222222222222,
              "#7201a8"
             ],
             [
              0.3333333333333333,
              "#9c179e"
             ],
             [
              0.4444444444444444,
              "#bd3786"
             ],
             [
              0.5555555555555556,
              "#d8576b"
             ],
             [
              0.6666666666666666,
              "#ed7953"
             ],
             [
              0.7777777777777778,
              "#fb9f3a"
             ],
             [
              0.8888888888888888,
              "#fdca26"
             ],
             [
              1,
              "#f0f921"
             ]
            ],
            "type": "heatmapgl"
           }
          ],
          "histogram": [
           {
            "marker": {
             "pattern": {
              "fillmode": "overlay",
              "size": 10,
              "solidity": 0.2
             }
            },
            "type": "histogram"
           }
          ],
          "histogram2d": [
           {
            "colorbar": {
             "outlinewidth": 0,
             "ticks": ""
            },
            "colorscale": [
             [
              0,
              "#0d0887"
             ],
             [
              0.1111111111111111,
              "#46039f"
             ],
             [
              0.2222222222222222,
              "#7201a8"
             ],
             [
              0.3333333333333333,
              "#9c179e"
             ],
             [
              0.4444444444444444,
              "#bd3786"
             ],
             [
              0.5555555555555556,
              "#d8576b"
             ],
             [
              0.6666666666666666,
              "#ed7953"
             ],
             [
              0.7777777777777778,
              "#fb9f3a"
             ],
             [
              0.8888888888888888,
              "#fdca26"
             ],
             [
              1,
              "#f0f921"
             ]
            ],
            "type": "histogram2d"
           }
          ],
          "histogram2dcontour": [
           {
            "colorbar": {
             "outlinewidth": 0,
             "ticks": ""
            },
            "colorscale": [
             [
              0,
              "#0d0887"
             ],
             [
              0.1111111111111111,
              "#46039f"
             ],
             [
              0.2222222222222222,
              "#7201a8"
             ],
             [
              0.3333333333333333,
              "#9c179e"
             ],
             [
              0.4444444444444444,
              "#bd3786"
             ],
             [
              0.5555555555555556,
              "#d8576b"
             ],
             [
              0.6666666666666666,
              "#ed7953"
             ],
             [
              0.7777777777777778,
              "#fb9f3a"
             ],
             [
              0.8888888888888888,
              "#fdca26"
             ],
             [
              1,
              "#f0f921"
             ]
            ],
            "type": "histogram2dcontour"
           }
          ],
          "mesh3d": [
           {
            "colorbar": {
             "outlinewidth": 0,
             "ticks": ""
            },
            "type": "mesh3d"
           }
          ],
          "parcoords": [
           {
            "line": {
             "colorbar": {
              "outlinewidth": 0,
              "ticks": ""
             }
            },
            "type": "parcoords"
           }
          ],
          "pie": [
           {
            "automargin": true,
            "type": "pie"
           }
          ],
          "scatter": [
           {
            "fillpattern": {
             "fillmode": "overlay",
             "size": 10,
             "solidity": 0.2
            },
            "type": "scatter"
           }
          ],
          "scatter3d": [
           {
            "line": {
             "colorbar": {
              "outlinewidth": 0,
              "ticks": ""
             }
            },
            "marker": {
             "colorbar": {
              "outlinewidth": 0,
              "ticks": ""
             }
            },
            "type": "scatter3d"
           }
          ],
          "scattercarpet": [
           {
            "marker": {
             "colorbar": {
              "outlinewidth": 0,
              "ticks": ""
             }
            },
            "type": "scattercarpet"
           }
          ],
          "scattergeo": [
           {
            "marker": {
             "colorbar": {
              "outlinewidth": 0,
              "ticks": ""
             }
            },
            "type": "scattergeo"
           }
          ],
          "scattergl": [
           {
            "marker": {
             "colorbar": {
              "outlinewidth": 0,
              "ticks": ""
             }
            },
            "type": "scattergl"
           }
          ],
          "scattermapbox": [
           {
            "marker": {
             "colorbar": {
              "outlinewidth": 0,
              "ticks": ""
             }
            },
            "type": "scattermapbox"
           }
          ],
          "scatterpolar": [
           {
            "marker": {
             "colorbar": {
              "outlinewidth": 0,
              "ticks": ""
             }
            },
            "type": "scatterpolar"
           }
          ],
          "scatterpolargl": [
           {
            "marker": {
             "colorbar": {
              "outlinewidth": 0,
              "ticks": ""
             }
            },
            "type": "scatterpolargl"
           }
          ],
          "scatterternary": [
           {
            "marker": {
             "colorbar": {
              "outlinewidth": 0,
              "ticks": ""
             }
            },
            "type": "scatterternary"
           }
          ],
          "surface": [
           {
            "colorbar": {
             "outlinewidth": 0,
             "ticks": ""
            },
            "colorscale": [
             [
              0,
              "#0d0887"
             ],
             [
              0.1111111111111111,
              "#46039f"
             ],
             [
              0.2222222222222222,
              "#7201a8"
             ],
             [
              0.3333333333333333,
              "#9c179e"
             ],
             [
              0.4444444444444444,
              "#bd3786"
             ],
             [
              0.5555555555555556,
              "#d8576b"
             ],
             [
              0.6666666666666666,
              "#ed7953"
             ],
             [
              0.7777777777777778,
              "#fb9f3a"
             ],
             [
              0.8888888888888888,
              "#fdca26"
             ],
             [
              1,
              "#f0f921"
             ]
            ],
            "type": "surface"
           }
          ],
          "table": [
           {
            "cells": {
             "fill": {
              "color": "#EBF0F8"
             },
             "line": {
              "color": "white"
             }
            },
            "header": {
             "fill": {
              "color": "#C8D4E3"
             },
             "line": {
              "color": "white"
             }
            },
            "type": "table"
           }
          ]
         },
         "layout": {
          "annotationdefaults": {
           "arrowcolor": "#2a3f5f",
           "arrowhead": 0,
           "arrowwidth": 1
          },
          "autotypenumbers": "strict",
          "coloraxis": {
           "colorbar": {
            "outlinewidth": 0,
            "ticks": ""
           }
          },
          "colorscale": {
           "diverging": [
            [
             0,
             "#8e0152"
            ],
            [
             0.1,
             "#c51b7d"
            ],
            [
             0.2,
             "#de77ae"
            ],
            [
             0.3,
             "#f1b6da"
            ],
            [
             0.4,
             "#fde0ef"
            ],
            [
             0.5,
             "#f7f7f7"
            ],
            [
             0.6,
             "#e6f5d0"
            ],
            [
             0.7,
             "#b8e186"
            ],
            [
             0.8,
             "#7fbc41"
            ],
            [
             0.9,
             "#4d9221"
            ],
            [
             1,
             "#276419"
            ]
           ],
           "sequential": [
            [
             0,
             "#0d0887"
            ],
            [
             0.1111111111111111,
             "#46039f"
            ],
            [
             0.2222222222222222,
             "#7201a8"
            ],
            [
             0.3333333333333333,
             "#9c179e"
            ],
            [
             0.4444444444444444,
             "#bd3786"
            ],
            [
             0.5555555555555556,
             "#d8576b"
            ],
            [
             0.6666666666666666,
             "#ed7953"
            ],
            [
             0.7777777777777778,
             "#fb9f3a"
            ],
            [
             0.8888888888888888,
             "#fdca26"
            ],
            [
             1,
             "#f0f921"
            ]
           ],
           "sequentialminus": [
            [
             0,
             "#0d0887"
            ],
            [
             0.1111111111111111,
             "#46039f"
            ],
            [
             0.2222222222222222,
             "#7201a8"
            ],
            [
             0.3333333333333333,
             "#9c179e"
            ],
            [
             0.4444444444444444,
             "#bd3786"
            ],
            [
             0.5555555555555556,
             "#d8576b"
            ],
            [
             0.6666666666666666,
             "#ed7953"
            ],
            [
             0.7777777777777778,
             "#fb9f3a"
            ],
            [
             0.8888888888888888,
             "#fdca26"
            ],
            [
             1,
             "#f0f921"
            ]
           ]
          },
          "colorway": [
           "#636efa",
           "#EF553B",
           "#00cc96",
           "#ab63fa",
           "#FFA15A",
           "#19d3f3",
           "#FF6692",
           "#B6E880",
           "#FF97FF",
           "#FECB52"
          ],
          "font": {
           "color": "#2a3f5f"
          },
          "geo": {
           "bgcolor": "white",
           "lakecolor": "white",
           "landcolor": "#E5ECF6",
           "showlakes": true,
           "showland": true,
           "subunitcolor": "white"
          },
          "hoverlabel": {
           "align": "left"
          },
          "hovermode": "closest",
          "mapbox": {
           "style": "light"
          },
          "paper_bgcolor": "white",
          "plot_bgcolor": "#E5ECF6",
          "polar": {
           "angularaxis": {
            "gridcolor": "white",
            "linecolor": "white",
            "ticks": ""
           },
           "bgcolor": "#E5ECF6",
           "radialaxis": {
            "gridcolor": "white",
            "linecolor": "white",
            "ticks": ""
           }
          },
          "scene": {
           "xaxis": {
            "backgroundcolor": "#E5ECF6",
            "gridcolor": "white",
            "gridwidth": 2,
            "linecolor": "white",
            "showbackground": true,
            "ticks": "",
            "zerolinecolor": "white"
           },
           "yaxis": {
            "backgroundcolor": "#E5ECF6",
            "gridcolor": "white",
            "gridwidth": 2,
            "linecolor": "white",
            "showbackground": true,
            "ticks": "",
            "zerolinecolor": "white"
           },
           "zaxis": {
            "backgroundcolor": "#E5ECF6",
            "gridcolor": "white",
            "gridwidth": 2,
            "linecolor": "white",
            "showbackground": true,
            "ticks": "",
            "zerolinecolor": "white"
           }
          },
          "shapedefaults": {
           "line": {
            "color": "#2a3f5f"
           }
          },
          "ternary": {
           "aaxis": {
            "gridcolor": "white",
            "linecolor": "white",
            "ticks": ""
           },
           "baxis": {
            "gridcolor": "white",
            "linecolor": "white",
            "ticks": ""
           },
           "bgcolor": "#E5ECF6",
           "caxis": {
            "gridcolor": "white",
            "linecolor": "white",
            "ticks": ""
           }
          },
          "title": {
           "x": 0.05
          },
          "xaxis": {
           "automargin": true,
           "gridcolor": "white",
           "linecolor": "white",
           "ticks": "",
           "title": {
            "standoff": 15
           },
           "zerolinecolor": "white",
           "zerolinewidth": 2
          },
          "yaxis": {
           "automargin": true,
           "gridcolor": "white",
           "linecolor": "white",
           "ticks": "",
           "title": {
            "standoff": 15
           },
           "zerolinecolor": "white",
           "zerolinewidth": 2
          }
         }
        }
       }
      },
      "text/html": [
       "<div>                            <div id=\"5d1f3dc3-9fe5-45c5-9ff9-1bc9a0877549\" class=\"plotly-graph-div\" style=\"height:525px; width:100%;\"></div>            <script type=\"text/javascript\">                require([\"plotly\"], function(Plotly) {                    window.PLOTLYENV=window.PLOTLYENV || {};                                    if (document.getElementById(\"5d1f3dc3-9fe5-45c5-9ff9-1bc9a0877549\")) {                    Plotly.newPlot(                        \"5d1f3dc3-9fe5-45c5-9ff9-1bc9a0877549\",                        [{\"customdata\":[[\"Scrypt\"],[\"Scrypt\"],[\"X13\"],[\"X11\"],[\"SHA-256\"],[\"SHA-256\"],[\"Scrypt\"],[\"Scrypt\"],[\"Scrypt\"],[\"Scrypt\"],[\"Scrypt\"],[\"Scrypt\"],[\"Groestl\"],[\"Scrypt\"],[\"Scrypt\"],[\"X11\"],[\"X11\"],[\"Scrypt\"],[\"SHA-256\"],[\"Scrypt\"],[\"NeoScrypt\"],[\"Scrypt\"],[\"Scrypt\"],[\"Scrypt\"],[\"X11\"],[\"X11\"],[\"Multiple\"],[\"X11\"],[\"Scrypt\"],[\"Scrypt\"],[\"Scrypt\"],[\"X11\"],[\"Multiple\"],[\"Scrypt\"],[\"Shabal256\"],[\"SHA-256\"],[\"Groestl\"],[\"Scrypt\"],[\"Scrypt\"],[\"Scrypt\"],[\"X11\"],[\"Scrypt\"],[\"X11\"],[\"X11\"],[\"Scrypt\"],[\"SHA-256\"],[\"BLAKE256\"],[\"SHA-256\"],[\"X11\"],[\"SHA-256\"],[\"Scrypt\"],[\"Scrypt\"],[\"X11\"],[\"Scrypt\"],[\"SHA-256\"],[\"Scrypt\"],[\"X11\"],[\"SHA-256\"],[\"SHA-256\"],[\"X11\"],[\"Scrypt\"],[\"Scrypt\"],[\"Scrypt\"],[\"X11\"],[\"X11\"],[\"Scrypt\"],[\"SHA-256\"],[\"X11\"],[\"Scrypt\"],[\"Scrypt\"],[\"Scrypt\"],[\"Scrypt\"],[\"Scrypt\"],[\"X11\"],[\"DPoS\"],[\"X11\"],[\"X11\"],[\"Scrypt\"],[\"Scrypt\"],[\"X11\"],[\"SHA-256\"],[\"Scrypt\"],[\"X11\"],[\"Scrypt\"],[\"Scrypt\"],[\"X11\"],[\"Scrypt\"],[\"Scrypt\"],[\"Scrypt\"],[\"Scrypt\"],[\"QuBit\"],[\"Scrypt\"],[\"SHA-256\"],[\"X11\"],[\"Scrypt\"],[\"Scrypt\"],[\"Scrypt\"],[\"Scrypt\"],[\"Scrypt\"],[\"Scrypt\"],[\"X11\"],[\"X11\"],[\"X11\"],[\"X11\"],[\"Scrypt\"],[\"Scrypt\"],[\"Scrypt\"],[\"SHA-256\"],[\"X11\"],[\"Scrypt\"],[\"Scrypt\"],[\"SHA-256\"],[\"Scrypt\"],[\"X11\"],[\"Scrypt\"],[\"Scrypt\"],[\"Scrypt\"],[\"X11\"],[\"NeoScrypt\"],[\"Scrypt\"],[\"Lyra2REv2\"],[\"Scrypt\"],[\"SHA-256\"],[\"Scrypt\"],[\"Scrypt\"],[\"SHA-256\"],[\"X11\"],[\"DPoS\"],[\"Scrypt\"],[\"Scrypt\"],[\"Scrypt\"],[\"X11\"],[\"Scrypt\"],[\"Scrypt\"],[\"X11\"],[\"Ethash\"],[\"Scrypt\"],[\"Scrypt\"],[\"C11\"],[\"X11\"],[\"Scrypt\"],[\"Scrypt\"],[\"Scrypt\"],[\"Scrypt\"],[\"Scrypt\"],[\"Semux BFT consensus\"],[\"X16R\"],[\"Scrypt\"],[\"XEVAN\"],[\"Scrypt\"],[\"Scrypt\"],[\"Scrypt\"],[\"Scrypt\"],[\"Scrypt\"],[\"SHA-256\"],[\"X16R\"],[\"Scrypt\"],[\"Lyra2REv2\"],[\"Scrypt\"],[\"X11\"],[\"X11\"],[\"Scrypt\"],[\"Keccak\"],[\"X11\"],[\"Scrypt\"],[\"XEVAN\"],[\"XEVAN\"],[\"X11\"],[\"Equihash\"],[\"Scrypt\"],[\"Scrypt\"],[\"X11\"],[\"Scrypt\"],[\"X11\"],[\"X11\"],[\"DPoS\"],[\"Scrypt\"],[\"X11\"],[\"Scrypt\"],[\"Scrypt\"],[\"SHA-256\"],[\"Scrypt\"],[\"X11\"],[\"Scrypt\"],[\"SHA-256\"],[\"X11\"],[\"Scrypt\"],[\"Scrypt\"],[\"X11\"],[\"Scrypt\"],[\"X11\"],[\"SHA-256\"],[\"DPoS\"],[\"Scrypt\"],[\"Scrypt\"],[\"NeoScrypt\"],[\"DPoS\"],[\"DPoS\"],[\"SHA-256\"],[\"Leased POS\"],[\"SHA-256\"],[\"Scrypt\"],[\"Scrypt\"]],\"hovertemplate\":\"<b>%{hovertext}</b><br><br>Class=%{marker.color}<br>PC 1=%{x}<br>PC 2=%{y}<br>PC 3=%{z}<br>Algorithm=%{customdata[0]}<extra></extra>\",\"hovertext\":[\"42 Coin\",\"404Coin\",\"EliteCoin\",\"Dash\",\"BitcoinDark\",\"PayCoin\",\"Aurora Coin\",\"BlueCoin\",\"EnergyCoin\",\"BitBar\",\"CryptoBullion\",\"CasinoCoin\",\"Diamond\",\"FlutterCoin\",\"HoboNickels\",\"HyperStake\",\"IOCoin\",\"MintCoin\",\"MazaCoin\",\"Nautilus Coin\",\"Orbitcoin\",\"PotCoin\",\"PhoenixCoin\",\"Reddcoin\",\"SuperCoin\",\"SyncCoin\",\"TeslaCoin\",\"TorCoin\",\"UnitaryStatus Dollar\",\"UltraCoin\",\"VeriCoin\",\"X11 Coin\",\"Crypti\",\"ZCC Coin\",\"BurstCoin\",\"Neutron\",\"FairCoin\",\"RubyCoin\",\"Dnotes\",\"8BIT Coin\",\"Ucoin\",\"Vtorrent\",\"IslaCoin\",\"Squall Coin\",\"Diggits\",\"Emercoin\",\"Decred\",\"EDRCoin\",\"Hitcoin\",\"DubaiCoin\",\"BillaryCoin\",\"GPU Coin\",\"EuropeCoin\",\"ZeitCoin\",\"SwingCoin\",\"SafeExchangeCoin\",\"Ratecoin\",\"Revenu\",\"Clockcoin\",\"BitSend\",\"PutinCoin\",\"iBankCoin\",\"Frankywillcoin\",\"Lutetium Coin\",\"GoldBlocks\",\"CarterCoin\",\"BitTokens\",\"MustangCoin\",\"ZoneCoin\",\"RootCoin\",\"BitCurrency\",\"Swiscoin\",\"PesoBit\",\"Halloween Coin\",\"ARK\",\"InsaneCoin\",\"XenixCoin\",\"PLNCoin\",\"AquariusCoin\",\"Eternity\",\"Eurocoin\",\"BitcoinFast\",\"Stakenet\",\"BitConnect Coin\",\"MoneyCoin\",\"Enigma\",\"Russiacoin\",\"PandaCoin\",\"GameUnits\",\"GAKHcoin\",\"LiteCreed\",\"Klingon Empire Darsek\",\"Internet of People\",\"KushCoin\",\"Printerium\",\"Impeach\",\"Zilbercoin\",\"FirstCoin\",\"OpenChat\",\"RenosCoin\",\"VirtacoinPlus\",\"Impact\",\"HappyCoin\",\"Condensate\",\"Independent Money System\",\"ArgusCoin\",\"LomoCoin\",\"ProCurrency\",\"GoldReserve\",\"GrowthCoin\",\"Degas Coin\",\"Ultimate Secure Cash\",\"Linda\",\"Monoeci\",\"Draftcoin\",\"CoinonatX\",\"Ethereum Dark\",\"Regalcoin\",\"TrezarCoin\",\"TerraNovaCoin\",\"Rupee\",\"WomenCoin\",\"Theresa May Coin\",\"Xios\",\"BlackholeCoin\",\"Infinity Economics\",\"Magnet\",\"Lamden Tau\",\"Cash & Back Coin\",\"GermanCoin\",\"LiteCoin Ultra\",\"PhantomX\",\"Trollcoin\",\"Litecoin Plus\",\"Monkey Project\",\"1717 Masonic Commemorative Token\",\"My Big Coin\",\"Unified Society USDEX\",\"Stipend\",\"Pushi\",\"Velox\",\"Briacoin\",\"Ignition\",\"MedicCoin\",\"Abjcoin\",\"Semux\",\"Proton\",\"iDealCash\",\"Bitcoin Incognito\",\"HollyWoodCoin\",\"Swisscoin\",\"Xt3ch\",\"EmaratCoin\",\"Lynx\",\"BitcoinWSpectrum\",\"Trivechain\",\"Peony Coin\",\"Absolute Coin\",\"TPCash\",\"ARENON\",\"EUNO\",\"MMOCoin\",\"XDNA\",\"PAXEX\",\"ThunderStake\",\"Bettex coin\",\"BitMoney\",\"Junson Ming Chan Coin\",\"PirateCash\",\"Oduwa\",\"Credit\",\"Dash Platinum\",\"Nasdacoin\",\"Award\",\"Insane Coin\",\"ALAX\",\"LiteDoge\",\"TruckCoin\",\"OrangeCoin\",\"BitstarCoin\",\"NeosCoin\",\"HyperCoin\",\"PinkCoin\",\"AudioCoin\",\"IncaKoin\",\"Piggy Coin\",\"Genstake\",\"XiaoMiCoin\",\"CapriCoin\",\" ClubCoin\",\"Creditbit \",\"OKCash\",\"Lisk\",\"HiCoin\",\"WhiteCoin\",\"FriendshipCoin\",\"EOS\",\"Oxycoin\",\"TigerCash\",\"Waves\",\"ZEPHYR\",\"Gapcoin\",\"BitcoinPlus\"],\"legendgroup\":\"1\",\"marker\":{\"color\":[1,1,1,1,1,1,1,1,1,1,1,1,1,1,1,1,1,1,1,1,1,1,1,1,1,1,1,1,1,1,1,1,1,1,1,1,1,1,1,1,1,1,1,1,1,1,1,1,1,1,1,1,1,1,1,1,1,1,1,1,1,1,1,1,1,1,1,1,1,1,1,1,1,1,1,1,1,1,1,1,1,1,1,1,1,1,1,1,1,1,1,1,1,1,1,1,1,1,1,1,1,1,1,1,1,1,1,1,1,1,1,1,1,1,1,1,1,1,1,1,1,1,1,1,1,1,1,1,1,1,1,1,1,1,1,1,1,1,1,1,1,1,1,1,1,1,1,1,1,1,1,1,1,1,1,1,1,1,1,1,1,1,1,1,1,1,1,1,1,1,1,1,1,1,1,1,1,1,1,1,1,1,1,1,1,1,1,1,1,1,1,1,1,1,1,1,1,1,1,1,1,1,1],\"coloraxis\":\"coloraxis\",\"symbol\":\"circle\"},\"mode\":\"markers\",\"name\":\"1\",\"scene\":\"scene\",\"showlegend\":true,\"x\":[-0.339984332843522,-0.32331178623437357,2.3016795334284086,-0.3893824469596312,-0.3208455458190001,-0.27386386163943854,-0.3396436936447751,-0.33221697490500934,-0.338480026175839,-0.33998026610761145,-0.33996453747603445,0.6905118101496364,-0.36568386549822485,-0.2961589222992347,-0.3380418491171189,-0.3222126486286319,-0.3892770815843121,-0.03277129689452126,-0.2841279039768457,-0.2927535646228101,-0.3462121571598995,-0.3342828189530703,-0.33838503906210216,0.018366252714671266,-0.34211086635967874,-0.38964889376338163,-0.24274651923519522,-0.389560471241095,-0.3152002542410073,-0.3386608514219671,-0.2945676078765775,-0.3895249313152865,-0.24321463709393865,-0.3310811957309099,0.08618916264357741,-0.32005675151513313,-0.36510509535823377,-0.2927338296838238,-0.2873842134545466,-0.33996639091203523,-0.34255594939536543,-0.3397005962852164,-0.38963041187742414,-0.31629560888711133,-0.29113432812134826,-0.31339689278801247,-0.06574281183736211,-0.32081644279104027,-0.06688212901142582,-0.3208801865608897,-0.33957638087274844,-0.29100316896903544,-0.3867975557585055,0.8611844663754964,-0.32068010156998433,-0.04072385418316024,-0.3874720699911933,-0.319422719538587,-0.3170892737567395,-0.3883647194487697,-0.315856933671107,-0.3396144983379672,-0.3380525315772586,-0.33003877213915234,-0.3891039580082498,-0.338818212069273,-0.32086111639516507,-0.3896195940037663,-0.33980379539110944,-0.339960620644088,-0.29099297353307496,-0.2521338052232635,-0.33957455235238926,-0.3757723321216478,3.7049240712061375,-0.3892118709197979,-0.3895744765982959,-0.3395020246969084,-0.33965643722643907,-0.3891490753022145,-0.32072371025518526,-0.3395027667594962,-0.35559288899937896,-0.33965024864522453,-0.3352350580034822,-0.38960348618786295,-0.3388603700963099,0.3509271071681141,-0.33984965669597134,-0.339920279174088,-0.35446126316379967,-0.3361443233595267,-0.3208375163274081,-0.3895133806071282,-0.339697943625389,-0.33982496881060653,-0.2926402278595871,-0.27916919864726336,-0.3206663128786696,-0.2923812289382142,-0.38877860311247536,-0.38751622716107004,-0.3886764287458226,-0.3846146288632992,-0.33976822300769394,-0.33976740482620754,-0.33288410177596345,0.25918888793164185,-0.3891552491769071,-0.27527018366453215,-0.3389783636490221,-0.2725533134244458,0.1252860017943785,-0.389427824105398,-0.29271451242306945,-0.3394031781937726,-0.3399031979676194,-0.389368599124478,-0.3412080688221132,-0.33985877527318614,-0.31054581092063194,0.4297324509678299,-0.319182739533719,-0.33980907956341566,-0.3396794097238652,-0.10023698105916078,-0.3881604261395545,3.7097833051651987,-0.3371379969030824,0.07475935507653582,-0.33881729772643676,-0.3887420041344801,-0.32637502224893883,-0.3399253425838433,-0.3425278614591652,-0.27399295699274456,-0.29337080869824567,-0.33546776036409154,-0.36428408946790053,-0.3894450629432952,-0.29187389402260144,-0.3399527143023091,-0.33993441252806633,-0.28625164994265384,-0.3396507317757063,3.9076014330334767,-0.3204674602580673,-0.286484315017614,-0.21293240337599376,-0.292408534879778,-0.14294052173753843,-0.29266072055845926,-0.33912439939434974,2.229930778253123,-0.27268121987210375,-0.3667217909351579,-0.1733046483491226,-0.3573922289791697,-0.3328241581804767,-0.3421049866141647,-0.38891806605570406,-0.28990436418116905,-0.34834649079130764,-0.34196623553578237,-0.1993334013596565,-0.23920808531137264,0.6106436113880382,-0.13235831053727326,-0.2671362849516462,-0.3396547178378159,0.5674662595971982,-0.3425822094764668,-0.3391372688573312,-0.3864808894570136,-0.3891454566656581,3.722032675444955,0.09556642061805323,-0.3866837134345528,-0.33852227189829764,-0.3393479087528812,-0.2738965008750101,-0.3398666028211193,-0.3807679118404749,-0.25350769721333183,-0.10037606840282642,-0.3765132464200974,-0.33914448780508916,-0.33220436117531604,-0.38571188072716533,-0.3375826109264003,-0.3482464438377649,-0.3193596559725972,3.7053161514769988,-0.09982025046658874,-0.3347756066465686,-0.34583773497437825,3.7151896897294603,3.7164345444138944,-0.2547811471466011,-0.4422312926883017,2.458376645243931,-0.3380282880450093,-0.29305746742256134],\"y\":[1.0414314837911056,1.0415411254345432,1.65377338630995,1.2243706088057933,0.8419015428873977,0.6378042147821269,1.0414295493365215,1.0416579523437453,1.0414753440512583,1.0414312485666897,1.0414313533319433,0.5074540503995529,0.8725372087527755,0.39424999023570234,1.0414032015711168,1.0208707399263874,1.2243736808852796,0.8449148533987564,0.8412757168292813,0.83732324563286,0.4910842127076306,1.041300506106303,1.0414087637034257,1.0518797119624756,1.020290578690869,1.2243784077874227,0.0625149730411101,1.2243739100675495,1.0410218571867238,1.041399306693555,0.39638818322664304,1.2243781307165018,0.06257208952667317,1.0409834162549803,0.9329663258339262,0.8418919893599837,0.8725571831439138,0.8373352708326128,0.8371374209247774,1.0414320069437122,1.0202634486256843,1.0414256035420186,1.2243789473611137,0.7860531990708018,0.8373111414706341,0.8414266360705814,0.8560241862063084,0.841902391428151,1.215000995184445,0.8419086708773479,1.041413656891405,0.8372293025441694,1.2241898052413047,0.8009219374620191,0.8418936289284493,0.5129202050077882,1.2243888030789598,0.8418009841186617,0.8416551137783174,1.2243174869090365,1.0407196502034133,1.0414108943354417,1.0414170431359573,1.0201776310592734,1.2243589143144997,1.0414017951306207,0.8419017965561619,1.2243771398177161,1.0414218869718816,1.0414321751841964,0.8373860280043818,0.4295489715125466,1.0414434315620353,1.223721522609827,1.925445653415585,1.224369920985302,1.2243778514228805,1.0414182733266846,1.0414113227329542,1.224350522341039,0.841906510481712,1.0414221720793617,0.8439375130808993,1.0414214102891255,1.041109515456942,1.2243761941615827,1.0413623527786358,0.8330929083023287,1.0414262110303456,1.0414310049753113,0.650341209008825,1.0411896191511472,0.8419024846501744,1.2243757402056819,1.0414256808841416,1.0414206091559248,0.837299079103518,0.32058616733255163,1.04128707718507,0.8373211895105253,1.2243330179372878,1.2243627478150854,1.2243359969783052,1.224171364064431,1.0414227740283077,1.0414175698408832,1.0409308499290528,0.6002811294692902,1.2243644953601909,0.836429145881438,1.0413865109098102,0.6377096814895692,1.0196145430171482,1.2243781262664477,0.8373235167524818,1.0414142826289499,1.0414308772893965,1.224367474302564,0.49094972141831456,1.0414240109182373,0.6205753490049777,1.0461824025366533,0.8418948275960215,1.0414217329042172,1.0414299093503983,0.6365065402177418,1.2243199051182596,1.9253219621265014,1.0413658660627931,1.0181413657616447,1.0413593627074873,1.224369467601706,1.041191396667039,1.0414303731614467,1.0202635599186045,-0.09418531296301717,0.3482342993463504,1.0413989958878225,0.8589463121994436,1.2243666601923864,0.8372725947273207,1.041430282750888,1.0414294010627736,0.8371704424473703,1.0414199809000226,1.9192504509008683,0.6798722284742803,1.0393667982083594,0.9944235049618776,0.8373263563361867,1.0399585363537762,0.8373062657743826,1.041397113705781,0.3806801907911319,0.6377765913639992,0.8839709164305173,0.8288722457549317,0.824663175613086,1.0409325976710315,1.020251829298055,1.224364334262473,0.8372337786242059,0.8990056657016529,1.0202240304742658,1.0327946399422718,1.2286269383530084,1.058507347329538,1.0264062169648052,-0.09688980299356702,1.0414262335429505,1.0149571922118161,1.0202628952705577,1.0413967384780272,1.2241735626547563,1.2243718573886657,1.9253252844989595,1.0293627962952374,1.2244648626039976,1.0413325820425667,1.041411645266182,0.637797248101508,1.041434916409419,1.2242835206470355,1.036522495480209,0.8482107630366092,1.224053745869209,1.0414453559436292,1.0413752595677757,1.224346006303502,1.0413882852681438,0.6588209905583603,0.8418861310852508,1.925432375027796,0.8358771782226785,1.0413710563346268,0.4910552193019507,1.9258334187499717,1.9258697142836483,0.6376617931180831,3.3958696373926576,0.8489869530238594,1.0413116022858104,0.8373251270562151],\"z\":[-0.5981332335707623,-0.5984804660198123,-0.6356338423308889,-0.5026170408831866,-0.35425613809364176,-0.03277006791471629,-0.5981397068528024,-0.5983210948967488,-0.5981696167367239,-0.5981332792924934,-0.5981336070644174,-0.551453369813919,-0.3988647708664439,-0.41367154130313866,-0.5981675807038291,-0.18162055645864653,-0.5026195892501939,-0.28294011877827124,-0.35489181011166465,-0.2766504841133125,-0.2740532737276217,-0.5982269121501319,-0.5981615965053303,-0.6068003009512853,-0.18113929815828472,-0.5026129126890498,0.08732573763722186,-0.5026139985662016,-0.5985642108631258,-0.5981547151444504,-0.43034875142238166,-0.5026153319017359,0.08732653138308907,-0.5982432833240852,-0.7271334355866065,-0.3542703729226315,-0.39887923013432636,-0.2766526648776784,-0.2767294099334341,-0.5981336675187418,-0.18112642774927992,-0.5981379903971077,-0.5026133597972304,-0.32298800948263456,-0.27668082227016333,-0.35433332588370425,-0.41566781630449934,-0.35425684197948515,-0.5076241252972926,-0.35425651101022076,-0.5981386784774951,-0.276671249879382,-0.5026414471494214,-0.29413846186782916,-0.3542582444607943,-0.5377528745693343,-0.5026576653401671,-0.35426941793577765,-0.354294030682283,-0.5026293377023024,-0.598506215802969,-0.5981375109116047,-0.5981694279684071,-0.18136210386895557,-0.5026208285342714,-0.5981519620350656,-0.3542558667852097,-0.502613305593742,-0.5981353891419715,-0.5981338070784445,-0.2766947692250932,-0.46398911499049655,-0.5981431445262705,-0.5027906090264112,-0.10978917338951949,-0.5026203241831206,-0.5026143069637781,-0.5981408411300744,-0.5981367422344988,-0.5026186845121038,-0.35425929537168305,-0.598141406442214,-0.23645445226768033,-0.5981383658529199,-0.5981795970764605,-0.5026134846143266,-0.598145257198492,-0.288797028362766,-0.5981351221926632,-0.5981344336859172,-0.3124621173820982,-0.598173467281716,-0.35425643757645614,-0.5026152055121573,-0.5981380545543397,-0.598134778778917,-0.2766491382473821,-0.3870483007254953,-0.5984951776840566,-0.2766575684130021,-0.502623433491478,-0.5026529125013575,-0.5026259046807419,-0.502682030762739,-0.5981362271632261,-0.5981354691445725,-0.5981996782379069,-0.03776768329454461,-0.5026206408213313,-0.27686447756958893,-0.5981465093859856,-0.032782015683031934,-0.604122185630033,-0.5026172586451303,-0.2766512995661295,-0.5981422093374296,-0.5981347537208972,-0.5026168493992971,-0.2741325869098579,-0.5981346138812765,-0.03530011980401946,-0.6141175657496418,-0.35428814276779125,-0.5981352613389787,-0.598139051513556,-0.036023189969507305,-0.5026337523327034,-0.1098672182505478,-0.5981799659362342,-0.60290014813647,-0.5981456672576743,-0.5026295827507776,-0.5983676349902274,-0.5981342391875083,-0.18112700180258548,0.1595414003466322,-0.261651915374245,-0.598218046084077,-0.5152540150787029,-0.5026152106084076,-0.27666040837236605,-0.598133682456645,-0.5981339145403056,-0.2767568021148925,-0.5981381436048693,-0.120048370298186,-0.028071029175080153,-0.5988879381718643,-0.40257683260552735,-0.27665779513818095,-0.6018250636662467,-0.27664980070777,-0.598145188277493,-0.5120162306191645,-0.03278943154982243,-0.3495717383409298,-0.2777640269005474,-0.3567874611803558,-0.598201128033726,-0.18113364988176464,-0.5026253245170951,-0.27669372513391055,-0.41580280917791484,-0.1811322680466247,-0.5996399495423932,-0.2607139322906583,-0.45446540802797614,-0.18621237354001235,0.1701181416684916,-0.5981389947317232,-0.6122057755880679,-0.18112582420740841,-0.5981448770166571,-0.5026453159056772,-0.5026219304782931,-0.11011084075996437,-0.6049826107521988,-0.5026846286467054,-0.5981475386760412,-0.5981429139613208,-0.03276838360916572,-0.5981360809935408,-0.5027750674618742,-0.5991193014666402,-0.35957072564771303,-0.5028253300370179,-0.5981519668446253,-0.5982792873611681,-0.5026862348350244,-0.5981744765777307,-0.12213238266514873,-0.3542833374591034,-0.10979497998056016,-0.28026472725544144,-0.5982276273701961,-0.27405639181983066,-0.11005061783339906,-0.11008072588919016,-0.033127636944472745,8.26269321251927,-0.04440867400393252,-0.5981542220932672,-0.2766447320936982],\"type\":\"scatter3d\"},{\"customdata\":[[\"SHA-256\"],[\"Scrypt\"],[\"SHA-512\"],[\"Scrypt\"],[\"X15\"],[\"X11\"],[\"Scrypt\"],[\"SHA-256\"],[\"Scrypt\"],[\"Scrypt\"],[\"Quark\"],[\"Groestl\"],[\"Scrypt\"],[\"Scrypt\"],[\"Scrypt\"],[\"X11\"],[\"SHA-256\"],[\"Scrypt\"],[\"Scrypt\"],[\"Scrypt\"],[\"Scrypt\"],[\"PoS\"],[\"Scrypt\"],[\"Scrypt\"],[\"Scrypt\"],[\"Scrypt\"],[\"Scrypt\"],[\"SHA-256\"],[\"Scrypt\"],[\"Scrypt\"],[\"Scrypt\"],[\"SHA3\"],[\"Scrypt\"],[\"Scrypt\"],[\"X13\"],[\"Scrypt\"],[\"SHA-256\"],[\"Scrypt\"],[\"X13\"],[\"Scrypt\"],[\"Scrypt\"],[\"Scrypt\"],[\"SHA-256\"],[\"SHA-256\"],[\"PHI1612\"],[\"SHA-256\"],[\"SHA-256\"],[\"SHA-256\"],[\"X11\"],[\"Scrypt\"],[\"Lyra2REv2\"],[\"Scrypt\"],[\"SHA-256\"],[\"X13\"],[\"Counterparty\"],[\"Scrypt\"],[\"Scrypt\"],[\"Scrypt\"],[\"X13\"],[\"Scrypt\"],[\"Scrypt\"],[\"X13\"],[\"Scrypt\"],[\"QuBit\"],[\"Scrypt\"],[\"Scrypt\"],[\"Scrypt\"],[\"SHA-256\"],[\"Scrypt\"],[\"SHA3\"],[\"X11\"],[\"SHA-256\"],[\"QUAIT\"],[\"X11\"],[\"Scrypt\"],[\"Scrypt\"],[\"X13\"],[\"X15\"],[\"X11\"],[\"SHA-256\"],[\"Scrypt\"],[\"Scrypt\"],[\"SHA-256\"],[\"NIST5\"],[\"X11\"],[\"Scrypt\"],[\"PoS\"],[\"Scrypt\"],[\"X11\"],[\"NIST5\"],[\"Scrypt\"],[\"POS 3.0\"],[\"X13\"],[\"X11\"],[\"Equihash\"],[\"SHA-256\"],[\"Scrypt\"],[\"SHA-256\"],[\"Scrypt\"],[\"SHA-256D\"],[\"PoS\"],[\"PoS\"],[\"X13\"],[\"X14\"],[\"PoS\"],[\"SHA-256D\"],[\"Scrypt\"],[\"X11\"],[\"X13\"],[\"PoS\"],[\"X11\"],[\"PoS\"],[\"Quark\"],[\"Scrypt\"],[\"X11\"],[\"Scrypt\"],[\"X13\"],[\"X11\"],[\"Scrypt\"],[\"Blake2S\"],[\"Scrypt\"],[\"PoS\"],[\"NIST5\"],[\"PoS\"],[\"Scrypt\"],[\"SHA-256\"],[\"PoS\"],[\"X15\"],[\"Scrypt\"],[\"POS 3.0\"],[\"536\"],[\"NIST5\"],[\"X11\"],[\"NIST5\"],[\"Skein\"],[\"Scrypt\"],[\"X13\"],[\"Scrypt\"],[\"X11\"],[\"X11\"],[\"X13\"],[\"Keccak\"],[\"SkunkHash v2 Raptor\"],[\"X11\"],[\"Skein\"],[\"SHA-256\"],[\"Scrypt\"],[\"PoS\"],[\"Scrypt\"],[\"Scrypt\"],[\"Scrypt\"],[\"Scrypt\"],[\"Scrypt\"],[\"SHA-512\"],[\"Ouroboros\"],[\"X11\"],[\"NIST5\"],[\"PHI1612\"],[\"Quark\"],[\"Scrypt\"],[\"POS 2.0\"],[\"X11\"],[\"NIST5\"],[\"X13\"],[\"NIST5\"],[\"Quark\"],[\"X11\"],[\"Scrypt\"],[\"BLAKE256\"],[\"X11\"],[\"Quark\"],[\"Scrypt\"],[\"X11\"],[\"SHA-256\"],[\"C11\"],[\"POS 3.0\"],[\"Scrypt\"],[\"Lyra2REv2\"],[\"X13\"],[\"Scrypt\"],[\"Scrypt\"],[\"X11\"],[\"XEVAN\"],[\"VBFT\"],[\"Scrypt\"],[\"NIST5\"],[\"Green Protocol\"],[\"PoS\"],[\"X11\"],[\"Quark\"],[\"PoS\"],[\"NIST5\"],[\"SHA-256D\"],[\"X15\"],[\"Quark\"],[\"DPoS\"],[\"X16R\"],[\"X11\"],[\"Quark\"],[\"Quark\"],[\"Quark\"],[\"Scrypt\"],[\"XEVAN\"],[\"PoS\"],[\"SHA-256\"],[\"X11\"],[\"SHA-512\"],[\"X16R\"],[\"SHA-256\"],[\"Quark\"],[\"Scrypt\"],[\"Quark\"],[\"Quark\"],[\"QuBit\"],[\"XEVAN\"],[\"SHA-256D\"],[\"SHA-256\"],[\"X13\"],[\"SHA-256\"],[\"Scrypt\"],[\"Scrypt\"],[\"SHA-256\"],[\"Scrypt\"],[\"Groestl\"],[\"PoS\"],[\"Scrypt\"],[\"Scrypt\"],[\"X13\"],[\"PoS\"],[\"PoS\"]],\"hovertemplate\":\"<b>%{hovertext}</b><br><br>Class=%{marker.color}<br>PC 1=%{x}<br>PC 2=%{y}<br>PC 3=%{z}<br>Algorithm=%{customdata[0]}<extra></extra>\",\"hovertext\":[\"Bitcoin\",\"Litecoin\",\"Bitshares\",\"ProsperCoin\",\"KoboCoin\",\"Spreadcoin\",\"Argentum\",\"ZetaCoin\",\"SexCoin\",\"Quatloo\",\"QuarkCoin\",\"Riecoin\",\"Digitalcoin \",\"Catcoin\",\"CannaCoin\",\"CryptCoin\",\"DevCoin\",\"EarthCoin\",\"E-Gulden\",\"Einsteinium\",\"Emerald\",\"Exclusive Coin\",\"Franko\",\"GrandCoin\",\"GlobalCoin\",\"GoldCoin\",\"Infinite Coin\",\"IXcoin\",\"KrugerCoin\",\"LuckyCoin\",\"Litebar \",\"MaxCoin\",\"MegaCoin\",\"MinCoin\",\"NavCoin\",\"NobleCoin\",\"Namecoin\",\"NyanCoin\",\"OpalCoin\",\"RonPaulCoin\",\"StableCoin\",\"SmartCoin\",\"SysCoin\",\"TigerCoin\",\"TittieCoin\",\"TerraCoin\",\"UnbreakableCoin\",\"Unobtanium\",\"UroCoin\",\"ViaCoin\",\"Vertcoin\",\"WorldCoin\",\"JouleCoin\",\"StealthCoin\",\"StorjCoin\",\"MonaCoin\",\"Gulden\",\"PesetaCoin\",\"Kore\",\"Wild Beast Coin\",\"Flo\",\"Sativa Coin\",\"ArtByte\",\"CypherPunkCoin\",\"OmniCron\",\"GreenCoin\",\"MasterCoin\",\"SoonCoin\",\"1Credit\",\"Nexus\",\"MarsCoin \",\"Anarchists Prime\",\"Droidz\",\"BowsCoin\",\"Song Coin\",\"BitZeny\",\"Paycon\",\"EverGreenCoin\",\"MindCoin\",\"I0coin\",\"Revolution VR\",\"Gamecredits\",\"CarpeDiemCoin\",\"PWR Coin\",\"Adzcoin\",\"YoCoin\",\"Nebuchadnezzar\",\"Francs\",\"BolivarCoin\",\"VIP Tokens\",\"Omni\",\"Let it Ride\",\"MudraCoin\",\"PizzaCoin\",\"Komodo\",\"ZayedCoin\",\"DopeCoin\",\"DollarCoin\",\"Shilling\",\"BuzzCoin\",\"Opair\",\"CoffeeCoin\",\"RoyalCoin\",\"GanjaCoin V2\",\"TeamUP\",\"LanaCoin\",\"KiloCoin\",\"ArtexCoin\",\"EmberCoin\",\"FreeCoin\",\"Kurrent\",\"Creatio\",\"Allsafe\",\"OsmiumCoin\",\"PacCoin\",\"BeaverCoin\",\"FindCoin\",\"VaultCoin\",\"Canada eCoin\",\"TajCoin\",\"EB3coin\",\"Atmos\",\"Coinonat\",\"MacronCoin\",\"BenjiRolls\",\"ILCoin\",\"Phreak\",\"HTML5 Coin\",\"EquiTrader\",\"QTUM\",\"Espers\",\"Denarius\",\"DigitalPrice\",\"Virta Unique Coin\",\"Bitcoin Planet\",\"Unify\",\"BritCoin\",\"SocialCoin\",\"ArcticCoin\",\"DAS\",\"DeepOnion\",\"SmartCash\",\"Signatum\",\"Onix\",\"Cream\",\"Bitcoin Cash\",\"Sojourn Coin\",\"Stakecoin\",\"NewYorkCoin\",\"FrazCoin\",\"Kronecoin\",\"AdCoin\",\"Linx\",\"Obsidian\",\"Cardano\",\"Elements\",\"NamoCoin\",\"LUXCoin\",\"Bitcloud 2.0\",\"eBoost\",\"KekCoin\",\"Pura\",\"Electra\",\"Bitcoin Diamond\",\"Bulwark\",\"Kalkulus\",\"AC3\",\"PopularCoin\",\"Photon\",\"Sucre\",\"Digiwage\",\"IrishCoin\",\"Pioneer Coin\",\"UnitedBitcoin\",\"Interzone\",\"TokenPay\",\"ShareChain\",\"KREDS\",\"Tokyo Coin\",\"BitFlip\",\"LottoCoin\",\"Crypto Improvement Fund\",\"Ellerium\",\"Ontology\",\"Poseidon\",\"Bitspace\",\"Bitcoin Green\",\"Deviant Coin\",\"FuturoCoin\",\"Carebit\",\"Zealium\",\"Jumpcoin\",\"TheVig\",\"Dekado\",\"Poseidon Quark\",\"Muse\",\"Motion\",\"Axe\",\"Dystem\",\"Giant\",\"Vitae\",\"HexCoin\",\"Urals Coin\",\"Ketan\",\"Project Pai\",\"Azart\",\"Kcash\",\"Xchange\",\"Bitcoin SV\",\"HerbCoin\",\"Block-Logic\",\"Galilel\",\"Crypto Sports\",\"SLICE\",\"Beetle Coin\",\"Titan Coin\",\"BLAST\",\"Bitcoin Rhodium\",\"GlobalToken\",\"SolarCoin\",\"Crypto Escudo\",\"Crown Coin\",\"SmileyCoin\",\"Groestlcoin\",\"Radium\",\"Bata\",\"Pakcoin\",\"Triangles Coin\",\"Particl\",\"Nxt\"],\"legendgroup\":\"0\",\"marker\":{\"color\":[0,0,0,0,0,0,0,0,0,0,0,0,0,0,0,0,0,0,0,0,0,0,0,0,0,0,0,0,0,0,0,0,0,0,0,0,0,0,0,0,0,0,0,0,0,0,0,0,0,0,0,0,0,0,0,0,0,0,0,0,0,0,0,0,0,0,0,0,0,0,0,0,0,0,0,0,0,0,0,0,0,0,0,0,0,0,0,0,0,0,0,0,0,0,0,0,0,0,0,0,0,0,0,0,0,0,0,0,0,0,0,0,0,0,0,0,0,0,0,0,0,0,0,0,0,0,0,0,0,0,0,0,0,0,0,0,0,0,0,0,0,0,0,0,0,0,0,0,0,0,0,0,0,0,0,0,0,0,0,0,0,0,0,0,0,0,0,0,0,0,0,0,0,0,0,0,0,0,0,0,0,0,0,0,0,0,0,0,0,0,0,0,0,0,0,0,0,0,0,0,0,0,0,0,0,0,0,0,0,0,0,0,0,0,0,0,0,0,0,0,0,0,0,0,0,0,0,0,0,0],\"coloraxis\":\"coloraxis\",\"symbol\":\"diamond\"},\"mode\":\"markers\",\"name\":\"0\",\"scene\":\"scene\",\"showlegend\":true,\"x\":[-0.1516984817485032,-0.16966706901923487,-0.21414134924142683,-0.17081407278484576,-0.24937364054787625,-0.22041996650156104,-0.17043033444413277,-0.1487814864278744,-0.1676838691682479,-0.17023420760599225,-0.23326320154353525,-0.19560297530614626,-0.17028306139879826,-0.170796328000176,-0.17088284406015194,-0.22050936532036677,0.22639969283083272,0.07801273685354057,-0.17062897641473873,-0.16623132854096553,-0.17056822193242568,-0.3501310262285477,-0.17093988370344046,-0.15014811943900097,-0.16973419533441264,-0.17001180971012342,1.5791272070926237,-0.15165982764707966,-0.1672993525113515,-0.1706554351453086,-0.1710104840965778,-0.4243625600762036,-0.17026924125078852,-0.17089166932850786,-0.2841049130276761,-0.03569920170466531,-0.1517374854657341,-0.16455138977626657,-0.284727485244243,-0.17087108692350156,-0.16896402659030418,-0.17035748630743716,-0.13888084975543669,-0.15120090021119145,-0.3059941494461231,-0.15148828523308092,-0.1514712208026892,-0.15206236882088398,-0.22068338410526372,-0.17058740158409022,-0.1877554251731985,-0.16768857017864378,-0.15126823804828746,-0.2845082207209106,-0.3474941759712572,-0.16945422172199243,-0.15404212392230773,-0.16817219614205375,-0.2848029032896445,-0.17101269344287495,-0.1680371598550116,-0.28475506294459924,-0.15425154386222786,-0.1863614488312919,-0.17088569298598252,-0.04373601439947843,-0.17102159346396856,-0.15176527992700364,0.48162655117540226,-0.4329336435370062,-0.22007016284958686,-0.15150495007874518,-0.4102444644832338,-0.22035524764783354,-0.16914401778080054,-0.1683357264200702,-0.28427637863603905,-0.2518168545993293,-0.22039067109377852,-0.1516609506829361,-0.1669767761898389,-0.16958398491685833,0.2671000869427298,-0.2374566533898341,-0.21955081194121842,-0.16983147618530064,-0.3498140939637879,-0.17081135725298727,-0.2203538829941521,-0.3588860397016968,-0.17102165199757158,-0.33552840038524606,-0.23651460819318534,-0.22050394562399964,-0.24076253778674944,-0.15192120584399196,-0.16818643208554357,-0.1518798093458533,-0.17068481695668228,0.038036587534066815,-0.3487705075909629,-0.34809879069260036,-0.23794625423574722,-0.4212331808641436,-0.34784731047680884,-0.27668602836633455,-0.09769283433380892,-0.20707858788023067,0.8480731706373569,-0.34923455334050174,-0.2183305654096492,-0.3498140939637879,-0.3599858398502022,-0.17100337659725945,0.49527786633579907,-0.1709716437049761,-0.2377139603004082,-0.21323259238633968,-0.16910367263644263,-0.41415554721618747,-0.14187357705449602,-0.3480595302288158,-0.19112777637734735,-0.3424558710039391,-0.17053372154978938,-0.11822328367312632,-0.3498483977885147,0.883313810664391,-0.17035564155350982,-0.33430596932009304,0.5771682559765717,-0.3604226681879844,-0.21955919480385666,-0.3589239078718665,-0.4189600242483213,-0.17067515024407315,-0.28443995249334986,-0.17043833118900273,-0.2199541556673443,-0.22053200137794882,-0.2845107776741014,-0.11918480864765588,-0.34440464937419296,-0.2113974801617176,-0.41846462083431374,-0.1516976454546465,-0.09653937009584902,-0.3497145612366204,1.5770657909318564,-0.17077305690704297,-0.17022430157671103,-0.16992507815647703,-0.16991200108924026,-0.2722429863764281,0.6554181267751572,-0.17488928656996094,-0.34517938681288707,-0.3885328107299582,-0.40534478438189286,-0.16910188069597454,-0.3548032538486231,-0.2160733788806603,0.1994273942095645,-0.2811794882316138,-0.31326784280384823,-0.3598716718727018,-0.2158145988314928,-0.08710495791087516,1.1092162383340463,-0.22050598319661108,-0.3590358168873184,-0.17002355659203777,-0.2204313418778158,-0.15167703106971173,-0.1952992242008289,-0.3358104902153586,0.022146647209256194,-0.17330364446296131,-0.2295041045157926,-0.1705976558633285,0.13668448541860648,-0.21456820079636327,-0.2861331909552603,-0.31426788579452064,-0.17083483016460238,-0.3600213525829379,-0.34971630055147845,-0.3493087545970268,-0.21959999224178728,-0.40401203635824573,-0.3494975419771366,-0.19118730072718643,-0.3420470290524717,-0.20424194668213422,-0.35557643855325005,1.0092255705909199,-0.19855202019165294,-0.2204881313123237,-0.35998526888113613,-0.4070301222483959,-0.35870397181667985,-0.17085942601721676,-0.1159431695312887,-0.34859667526249233,-0.11149875464664391,-0.22045947550821463,-0.16258275839117736,-0.1979793167133428,-0.15169768304314132,-0.40632428818275634,-0.16975094927724987,-0.4067807099697923,-0.3601023218753397,-0.1855718418706447,-0.2805851032158697,-0.29673511162366645,-0.15097333992737638,-0.1159327788456634,-0.14984048398388022,0.5255788264165819,-0.15440222238722226,-0.15148765529775435,0.5453041880350957,-0.1951636858029249,-0.35008989677089664,-0.17093632801060918,-0.1688906148519475,-0.2849101829913427,-0.35002572660163384,-0.34651012072470433],\"y\":[-1.3094357684476958,-1.1099318590190987,1.4424975214766418,-1.1099207195318888,1.8421283386670293,-0.9269713766793516,-1.1099399600959823,-1.3094560146436713,-1.109991506094426,-1.1099597171844289,-0.46478386648053205,-1.2788299263882992,-1.1099244611861745,-1.1099202021571,-1.1099171625178466,-0.9269725679281094,-1.3132575889302236,-1.1122042478320733,-1.109915322780269,-1.1099843908786087,-1.1099213355607709,1.5666827000781605,-1.1099174780903736,-1.1103086095161694,-1.1099239090644655,-1.1099335924846483,-1.122997011038918,-1.3094346414316194,-1.109991207506963,-1.1099153865713496,-1.1099125408375563,1.9643226558228102,-1.1099196948614887,-1.1099151978059751,1.8006963456064853,-1.116581160451095,-1.3094369056573216,-1.1099617398091046,1.8006781936156262,-1.1099223818613284,-1.1100288309303321,-1.109928778165975,-1.3096755856377142,-1.3094396681451084,1.5790301019073463,-1.3094445005438788,-1.3094708937578077,-1.3094316943341948,-0.926964903972121,-1.109915525908859,-1.3266828553231862,-1.110002555709389,-1.3094402077049558,1.8006845865890315,1.5700995927498629,-1.1099405987460784,-1.110605702794545,-1.109946574410085,1.8006675028773196,-1.109913509632684,-1.1099381181707444,1.8006703130343127,-1.1101306058042566,-1.5009715562169323,-1.109910332774646,-1.113277228472914,-1.1099123477922923,-1.3094377160449255,-1.155986937413579,2.1079188491158436,-0.9269703771171778,-1.3094533084115834,1.8067058130261275,-0.926970197359201,-1.1100059426146616,-1.1100105119327235,1.8006559637109512,1.842286171401039,-0.9269676919240131,-1.309434674175349,-1.109942583724113,-1.109929436582266,-1.3125140981401895,1.506288008132573,-0.9269913249122268,-1.1099963438600247,1.5666777876680527,-1.1099199327052722,-0.9269729881762296,1.502683870623814,-1.10991234735474,1.50624045197636,1.5964685097524451,-0.9269773634686257,-1.4186865224059064,-1.3094342913048989,-1.1099707764726543,-1.309433722842707,-1.1099233197541212,1.8704548742741134,1.5666700017599267,1.5667136468535747,1.5965665291048832,1.8686114037463557,1.5665362820425632,1.8701200787085062,-1.1148504173756026,-0.92692206220141,1.833105126820137,1.5666734554696915,-0.9270576486618194,1.5666777876680527,1.4824814033885056,-1.1099132990470193,-0.9768551580059222,-1.1099128307691744,1.596564792654726,-0.9274553167625157,-1.1099267548069138,1.8538226471024026,-1.11189266243613,1.5666650506409077,-0.6486650978220163,1.5666234197505322,-1.1099228208682357,-1.3102140185120952,1.5666697109768841,1.8117125296920733,-1.1099434435279816,1.506229034901064,1.8772285995863713,1.5026956801136333,-0.9270028917485749,1.5026615369816403,1.8920748331504038,-1.1099154496200176,1.8006653475066046,-1.1099479774176668,-0.9269861013474247,-0.9269738648012462,1.8006711387090377,-1.2538617969829322,1.5750200740837421,-0.9274725765558375,1.8920892773514189,-1.3094357440643403,-1.1151706121465115,1.5666512514160953,-1.0589439006025014,-1.1099188160034488,-1.1099481059379603,-1.1099507040694956,-1.1099503227887413,1.4432867615816014,1.4572055689197672,-0.9269034834769307,1.502298014837595,1.7836825768179514,1.6865018519933608,-1.109926702560305,1.5636309537481865,-0.9270781706001839,1.4977964515636097,1.800633033798103,1.298584140664615,1.4824811938637021,-0.9272121557683585,-1.1110034557246227,-1.3296616962228012,-0.9269737430898771,1.4824347992844238,-1.1099280999010415,-0.9269738312989582,-1.3094345528409759,-1.2923990255107203,1.506238242277161,-1.1113563244565443,-1.3269804666044842,1.596248320276658,-1.1099278549604257,-1.113966019384801,-0.9271404326676351,1.4327255622614006,1.5576138739940126,-1.1099213247432325,1.5026790749941379,1.5281111264655405,1.5666444012730338,-0.9270040812567164,1.6865407101841035,1.5666445581156436,-0.648647548425185,1.8734552505047344,1.638154338093911,1.4821606072235582,1.713997553779316,-1.2673528046626898,-0.9269740717740867,1.48247717412772,1.6865905986987637,1.4824586277334229,-1.1099228240116625,-0.718688195504541,1.5665788295060337,-1.3097348946226401,-0.9269760668782645,1.4013507120556898,-1.2673912499043607,-1.309435745160287,1.686576610247208,-1.1099597801182632,1.6865880449349075,1.4824791606588015,-1.5010192992240718,1.4325759581587993,1.8713088931007669,-1.3094450549009369,-0.35067158493481004,-1.3094856205944163,-1.1590221187887793,-1.110134999053964,-1.3094444821772055,-1.1244089665915649,-1.2788319789480225,1.5666775304044995,-1.1099129616374168,-1.109978570212158,1.8006727818811552,1.5666796602796607,1.748568498992191],\"z\":[0.21459065621224988,-0.029305792790985146,0.23006558637600683,-0.029284684093824596,-0.6182469369949867,0.06623411248050372,-0.029289438083745296,0.2145357711894064,-0.02933628172954792,-0.029290391472502265,0.05351453579609902,0.16996792571739658,-0.029294667057383112,-0.02928511326919218,-0.029283848304549293,0.06623606411730762,0.20765467482045052,-0.03388371967310342,-0.029289160834690776,-0.0293661706515533,-0.02928947214580992,-0.055538614230272086,-0.02928266921943576,-0.029637157809063636,-0.029305643215305613,-0.029298692403198608,-0.062072468908241404,0.21458972132416448,-0.029343958124144802,-0.029288626185352946,-0.029282002471804666,-0.5596112913327379,-0.02929565047738956,-0.029283965440604506,-0.6061692264206419,-0.030975560398832144,0.21459159955619128,-0.029402884384169943,-0.6061541688888146,-0.029283305149848875,-0.029305319841731618,-0.029292547592362765,0.21437192804570712,0.21458136028479516,-0.22401347677679903,0.21458778331137576,0.21459137128912584,0.21459727259341327,0.06623837786818812,-0.029289955800501893,0.21205090992982564,-0.029334544505520165,0.21458277709467888,-0.6061594720206454,-0.10710379377307237,-0.029308717169916464,-0.029515668399174085,-0.029333274062897492,-0.6061510814496072,-0.029281814486761128,-0.02933721237841746,-0.6061524490792637,-0.029582194807568272,0.25640181109751414,-0.029284807860196698,-0.03130758968508802,-0.02928181069111356,0.21459227179304013,-0.035380923556337374,-0.2819723926166344,0.06622702078913187,0.21458942447810916,-0.708433233050889,0.066232652471815,-0.029305152568299575,-0.029320515909848317,-0.6061598152769772,-0.6182219252603812,0.0662329828156492,0.21458974848590998,-0.029357594741673675,-0.029307802263118243,0.20673623079097234,-0.5849703478642715,0.06621982912583162,-0.029292935805457287,-0.05554417392356778,-0.02928485505320712,0.06623304059241338,-0.5820239813508414,-0.029281809594422826,-0.1230247600656986,-0.2846758198609277,0.06623667000722656,0.5154625468060743,0.2145948571261852,-0.02932939081907713,0.2145939509057805,-0.029286862741572446,-0.7157690963835289,-0.05556372890139352,-0.055583554629205105,-0.2846619871580378,-0.6796286348451691,-0.05556215844020423,-0.7094726025078654,-0.030002590021022162,0.0659619730264336,-0.6334625966127759,-0.055555032247422365,0.0662054767828824,-0.05554417392356778,-0.19375949689893876,-0.029282030739670353,0.059450291650561336,-0.029282730249656466,-0.2846663394375471,0.06616345454543693,-0.02931773459163493,-0.8076227105641297,-0.02956572373232365,-0.055577103930285664,-0.013147887521346612,-0.055682132925722036,-0.029289935938983783,0.21404201796922454,-0.05554229143596932,-0.6362036270529311,-0.029290402353796534,-0.123047324562207,-0.6953277558926636,-0.5819952389760346,0.06622171637820014,-0.5820199070254217,-0.73812985481653,-0.029288225495569017,-0.6061579647101751,-0.02928808657766212,0.06622705764064474,0.06623670634637883,-0.6061574205481035,0.15208045143910362,-0.00909994823972946,0.06612959867340241,-0.738141836643657,0.21459063598567035,-0.02997784694338339,-0.05554220151425306,-0.07156111794480342,-0.029285781385386542,-0.029292315564179695,-0.02929786807746641,-0.02929818435941882,0.2311013805935048,-0.1808354706905755,0.06532030856128922,-0.5822386279657396,-0.5448763966937152,-0.5152663377513151,-0.02931777793150742,-0.1157895149206912,0.06616372881520699,-0.5923783797343739,-0.6062178716247818,-0.2605104910355298,-0.1937617317580383,0.06617852626648163,-0.030785076044299503,0.13832564088722718,0.06623617182401187,-0.19377141959416708,-0.02929927641300537,0.06623470344994199,0.21459004960135547,0.053597192716907965,-0.12301883233396683,-0.03290102775967753,0.21180834518955755,-0.2847822069882176,-0.029287918004522587,-0.034786140266476015,0.0661431168068017,-0.5822013182373013,0.03481160563978281,-0.029284182055831193,-0.5820007339342603,-0.05211066789464211,-0.05554923691773925,0.0662227031050471,-0.5152985715954388,-0.05554551315832851,-0.013149316997607135,-0.708671496321838,-0.29674249597254027,-0.19379928890974396,-0.09883638174920333,0.21929243159826184,0.06623586639616678,-0.19375887901922692,-0.5152460901696152,-0.19378155122971336,-0.029283470816754417,-0.013363851387520142,-0.05555361492231971,0.21383726589680327,0.06623559445299196,0.8213392643151624,0.21928678418113556,0.21459063689478555,-0.5152580185751832,-0.029299973928032085,-0.5152506606211517,-0.19375685127353287,0.256393241816126,-0.5822891804167514,-0.7092515308833277,0.21457764503766738,-0.037298526087396894,0.21456119506238394,-0.03580173597769111,-0.02957855049671492,0.21458776807575985,-0.04134285508306192,0.16995951197342318,-0.055538661453596025,-0.029283411733345557,-0.029314254521971585,-0.6061497375272616,-0.05554025199163099,0.12357952617278517],\"type\":\"scatter3d\"},{\"customdata\":[[\"Ethash\"],[\"CryptoNight-V7\"],[\"Ethash\"],[\"Equihash\"],[\"Multiple\"],[\"Multiple\"],[\"Scrypt\"],[\"Multiple\"],[\"NeoScrypt\"],[\"HybridScryptHash256\"],[\"CryptoNight\"],[\"CryptoNight\"],[\"Stanford Folding\"],[\"Multiple\"],[\"M7 POW\"],[\"Lyra2RE\"],[\"Ethash\"],[\"Blake2b\"],[\"1GB AES Pattern Search\"],[\"Dagger\"],[\"X11GOST\"],[\"CryptoNight\"],[\"Multiple\"],[\"Lyra2Z\"],[\"Ethash\"],[\"Equihash\"],[\"CryptoNight\"],[\"CryptoNight\"],[\"Lyra2RE\"],[\"CryptoNight-V7\"],[\"Equihash\"],[\"Lyra2RE\"],[\"Dagger-Hashimoto\"],[\"CryptoNight-V7\"],[\"Argon2d\"],[\"Blake2b\"],[\"Cloverhash\"],[\"CryptoNight\"],[\"CryptoNight\"],[\"Time Travel\"],[\"Scrypt\"],[\"VeChainThor Authority\"],[\"CryptoNight\"],[\"Equihash\"],[\"NeoScrypt\"],[\"Equihash\"],[\"Dagger\"],[\"NeoScrypt\"],[\"Ethash\"],[\"NeoScrypt\"],[\"Multiple\"],[\"CryptoNight\"],[\"CryptoNight\"],[\"Ethash\"],[\"CryptoNight-V7\"],[\"NeoScrypt\"],[\"NeoScrypt\"],[\"CryptoNight\"],[\"SkunkHash\"],[\"CryptoNight\"],[\"Dagger\"],[\"Proof-of-BibleHash\"],[\"SHA-256 + Hive\"],[\"Proof-of-Authority\"],[\"Ethash\"],[\"CryptoNight\"],[\"IMesh\"],[\"Equihash\"],[\"Lyra2Z\"],[\"CryptoNight\"],[\"Lyra2RE\"],[\"Tribus\"],[\"Lyra2Z\"],[\"CryptoNight\"],[\"CryptoNight Heavy\"],[\"CryptoNight\"],[\"Jump Consistent Hash\"],[\"CryptoNight\"],[\"HMQ1725\"],[\"CryptoNight-V7\"],[\"Cryptonight-GPU\"],[\"CryptoNight Heavy\"],[\"ECC 256K1\"],[\"Equihash\"],[\"Lyra2Z\"],[\"CryptoNight\"],[\"Blake\"],[\"Blake\"],[\"Exosis\"],[\"Equihash\"],[\"Equihash\"],[\"NeoScrypt\"],[\"Blake\"],[\"Multiple\"],[\"Equihash+Scrypt\"],[\"Ethash\"],[\"CryptoNight\"],[\"Equihash\"]],\"hovertemplate\":\"<b>%{hovertext}</b><br><br>Class=%{marker.color}<br>PC 1=%{x}<br>PC 2=%{y}<br>PC 3=%{z}<br>Algorithm=%{customdata[0]}<extra></extra>\",\"hovertext\":[\"Ethereum\",\"Monero\",\"Ethereum Classic\",\"ZCash\",\"DigiByte\",\"MyriadCoin\",\"MoonCoin\",\"Verge\",\"FeatherCoin\",\"MediterraneanCoin\",\"ByteCoin\",\"DigitalNote \",\"Folding Coin\",\"Unitus\",\"Cryptonite\",\"Crypto\",\"Expanse\",\"Siacoin\",\"HOdlcoin\",\"SoilCoin\",\"SibCoin\",\"Karbo\",\"Circuits of Value\",\"ZCoin\",\"Elementrem\",\"ZClassic\",\"Cannabis Industry Coin\",\"Bikercoins\",\"HexxCoin\",\"Citadel\",\"Zero\",\"Zoin\",\"DubaiCoin\",\"Quantum Resistant Ledger\",\"Dynamic\",\"Nano\",\"ChanCoin\",\"Dinastycoin\",\"LeviarCoin\",\"Bitcore\",\"gCn Coin\",\"Vechain\",\"Sumokoin\",\"BitcoinZ\",\"VIVO Coin\",\"Bitcoin Gold\",\"Pirl\",\"Innova\",\"Ellaism\",\"GoByte\",\"SHIELD\",\"UltraNote\",\"BitCoal\",\"DaxxCoin\",\"Lethean\",\"SparksPay\",\"GunCoin\",\"TurtleCoin\",\"MUNcoin\",\"Niobio Cash\",\"Travelflex\",\"BiblePay\",\"LitecoinCash\",\"Poa Network\",\"Callisto Network\",\"BitTube\",\"Aidos Kuneen\",\"Bitrolium\",\"Alpenschillling\",\"Monero Classic\",\"Infinex\",\"KEYCO\",\"GINcoin\",\"PlatinCoin\",\"Loki\",\"Newton Coin\",\"MassGrid\",\"PluraCoin\",\"PlusOneCoin\",\"Webchain\",\"Ryo\",\"Qwertycoin\",\"Acute Angle Cloud\",\"CrypticCoin\",\"Actinium\",\"FREDEnergy\",\"Universal Molecule\",\"Lithium\",\"Exosis\",\"Beam\",\"Bithereum\",\"UFO Coin\",\"BlakeCoin\",\"JoinCoin\",\"Vollar\",\"Reality Clash\",\"Beldex\",\"Horizen\"],\"legendgroup\":\"3\",\"marker\":{\"color\":[3,3,3,3,3,3,3,3,3,3,3,3,3,3,3,3,3,3,3,3,3,3,3,3,3,3,3,3,3,3,3,3,3,3,3,3,3,3,3,3,3,3,3,3,3,3,3,3,3,3,3,3,3,3,3,3,3,3,3,3,3,3,3,3,3,3,3,3,3,3,3,3,3,3,3,3,3,3,3,3,3,3,3,3,3,3,3,3,3,3,3,3,3,3,3,3,3,3],\"coloraxis\":\"coloraxis\",\"symbol\":\"square\"},\"mode\":\"markers\",\"name\":\"3\",\"scene\":\"scene\",\"showlegend\":true,\"x\":[-0.15067532328074393,-0.14778421525745045,-0.14911618158714635,-0.1457740999418722,0.1660005527926757,-0.08757916511786164,2.5531084930638555,0.18975970133361283,-0.1723931227851762,-0.14432900650856922,3.861134986896215,0.45785281607424994,-0.13669997140235224,-0.12160851898506875,-0.10293830758959541,-0.15895328434987005,-0.15174341529621113,0.3658429022183634,-0.1592263738597432,-0.15423957679334968,-0.15552077541092227,0.3026527364852276,-0.1016676127706759,-0.14773635555189277,-0.15148540539487512,-0.14579573021082157,0.3026471079099248,0.30277790775807933,-0.15949411496165258,-0.1465479802769591,-0.1458081165581657,-0.15921231196262142,-0.15957136104491748,-0.14640570830852973,-0.15378341889329597,-0.03470457490101198,-0.16287621870306887,0.338793161444151,0.30304236959576725,-0.15808401947889972,3.240959769700541,4.405596084331185,0.30322612607490496,0.06666870257898957,-0.1770850317714185,-0.14565406973312667,-0.1529977894794765,-0.1769303314528936,-0.1498493583963661,-0.17703061082937976,-0.1118337116987596,1.141185441687698,0.30262985869685255,-0.07468311578569595,-0.1355102394830738,-0.17708259481416477,-0.17011573696799245,8.04618217985329,-0.16477891558906932,0.30650697614626593,-0.1525007562573576,-0.22051570717481003,-0.3949391539398425,-0.3697327711988227,-0.1028530749323977,0.31055880662481417,-0.1442242696637026,-0.14464449553713946,-0.1455182400780827,0.3028124950080433,-0.15933924285664813,-0.13573883461506675,-0.14782079432142764,0.3067436807506225,0.5934542127719875,2.1125843597283955,-0.1494553350925786,0.3164267297208177,-0.14250287388683075,-0.13538931963932269,-0.16190646852460325,3.117735618079186,-0.34707248908486515,-0.040328431647458376,-0.147218106509478,0.3826293573144198,-0.14644889703062755,-0.14684123879985897,-0.14681346903040624,-0.14371275078473478,-0.14548677648717007,-0.10219844730965032,-0.09726957309565847,-0.12234385268261136,-0.10980858491961826,-0.1515185859295989,0.3244016655758308,-0.14577515753849354],\"y\":[-2.041384540530979,-2.2305634088905766,-2.041487688293696,-2.0440877467769325,-1.8911532062088212,-1.8851013125978533,-1.30222409350811,-1.8873149636336903,-1.6603526912608082,-2.2481314778455315,-2.32901402685407,-2.3047795036025973,-2.0821558159533997,-1.884678184750348,-2.2879994871399703,-2.222477574612881,-2.0414276461290917,-2.1754889050599426,-2.2177107965805902,-2.2551166429818994,-2.2502550389125444,-2.302235148582797,-1.884945960512883,-2.2732646415879194,-2.041426704028875,-2.044088377438619,-2.3022430968570835,-2.3022421138043425,-2.222453864075686,-2.2306582801799966,-2.0440859079749645,-2.222453431868591,-2.1723012203305636,-2.2305975199260795,-2.169707235162915,-2.1874082457149098,-2.2504661826235366,-2.3025896485943123,-2.3022549249277433,-2.1775506621622647,-1.1519609456788547,2.728093259861682,-2.3022742564119203,-2.0527394885430037,-1.660270826361153,-2.0440842471230867,-2.2551698180141053,-1.6602790535748904,-2.0415586007167734,-1.66027263636667,-1.8848602360498052,-2.3379298080351694,-2.3022375847461345,-2.046245391810397,-2.23091282788784,-1.660266509399938,-1.6604023456172765,-2.784105671916237,-2.143335215016621,-2.3023534670129986,-2.255115480757219,3.4040057310237035,3.289295590025651,2.8514648984062347,-2.0445899478063496,-2.3027052105605414,-2.2033126368040303,-2.04408948644844,-2.273397120903574,-2.302236434864155,-2.222460869121094,-2.3560430240188523,-2.273259390122106,-2.30253338587676,-2.269431381981559,-2.379664757104646,-2.2558559806488483,-2.3025341227998517,-2.2201757357345246,-2.231440407727784,-2.098870945593739,-2.3262666173107887,3.2132230808863746,-2.04637661596498,-2.2732938302653354,-2.305614061403611,-2.1913872957342964,-2.19134219990638,-2.2578973434360865,-2.044198755270275,-2.0440863652886576,-1.6608988988759368,-2.19483257288516,-1.8847016058886434,-2.2409031614436663,-2.0414264559967665,-2.3025848201211243,-2.0440877776126873],\"z\":[0.4068731908203557,0.4110839038658237,0.40685759053977405,0.4174885533257823,0.3299546859120908,0.3340874160155483,-0.054739580246998765,0.3289120707454015,0.2947156072666502,0.3046854945964282,0.3604629971716464,0.42440658206652776,0.3849975371655222,0.3346998869227289,0.4384378368307452,0.37718611796012763,0.40690080362550146,0.4285260015619107,0.4735997201224366,0.41948761057895445,0.41146970250752474,0.42710848877474367,0.3343439339924505,0.4313785155282349,0.4068955424258258,0.4174890764754725,0.4271097830042772,0.4271070406052204,0.37719332492766877,0.4110734813689021,0.41748895492556065,0.3771876673371595,0.4259314546409704,0.41106161785677825,0.47732288365442954,0.43824946841830625,0.3427429647483965,0.4264439066861872,0.42710369749544613,0.5190161853082754,-0.0907477526178836,4.974585760838474,0.4271029263166269,0.4145591128151673,0.29479655378668956,0.41748565027511414,0.4194708744764192,0.29479470727224266,0.4068826928612851,0.29479574291310306,0.3345329592391635,0.4157756135761196,0.427109305300761,0.4060880585470477,0.4108922724251935,0.2947958631572719,0.2946777925831659,0.3451039585121485,0.425765729102898,0.4270495919112478,0.4194529251718872,11.709308146000302,14.797942084206316,19.25181212581013,0.4064008918394636,0.4270215012726849,0.4339813963183909,0.41746639150816744,0.4313541996204175,0.42710550921989626,0.3771912931742716,0.3308971875096473,0.4313794101956852,0.42707166135157365,0.4087772083022603,0.4027042303206853,0.40075762532855613,0.42687957968282136,0.3190500474266637,0.41096836359069844,0.5423013908447525,0.36713042869664336,13.054716663244742,0.41573617306061694,0.43137257178039135,0.42602379612997254,0.4254847638795368,0.4254858419899206,0.4749250930099492,0.4174641546079129,0.4174826449338011,0.29340363034237354,0.425021216237743,0.3347179664920497,0.4469336959272442,0.4068961640992231,0.42672883392967237,0.41748857890481295],\"type\":\"scatter3d\"},{\"customdata\":[[\"TRC10\"]],\"hovertemplate\":\"<b>%{hovertext}</b><br><br>Class=%{marker.color}<br>PC 1=%{x}<br>PC 2=%{y}<br>PC 3=%{z}<br>Algorithm=%{customdata[0]}<extra></extra>\",\"hovertext\":[\"BitTorrent\"],\"legendgroup\":\"2\",\"marker\":{\"color\":[2],\"coloraxis\":\"coloraxis\",\"symbol\":\"x\"},\"mode\":\"markers\",\"name\":\"2\",\"scene\":\"scene\",\"showlegend\":true,\"x\":[34.07344391470898],\"y\":[1.6255933478733895],\"z\":[-0.7931566724113602],\"type\":\"scatter3d\"}],                        {\"template\":{\"data\":{\"histogram2dcontour\":[{\"type\":\"histogram2dcontour\",\"colorbar\":{\"outlinewidth\":0,\"ticks\":\"\"},\"colorscale\":[[0.0,\"#0d0887\"],[0.1111111111111111,\"#46039f\"],[0.2222222222222222,\"#7201a8\"],[0.3333333333333333,\"#9c179e\"],[0.4444444444444444,\"#bd3786\"],[0.5555555555555556,\"#d8576b\"],[0.6666666666666666,\"#ed7953\"],[0.7777777777777778,\"#fb9f3a\"],[0.8888888888888888,\"#fdca26\"],[1.0,\"#f0f921\"]]}],\"choropleth\":[{\"type\":\"choropleth\",\"colorbar\":{\"outlinewidth\":0,\"ticks\":\"\"}}],\"histogram2d\":[{\"type\":\"histogram2d\",\"colorbar\":{\"outlinewidth\":0,\"ticks\":\"\"},\"colorscale\":[[0.0,\"#0d0887\"],[0.1111111111111111,\"#46039f\"],[0.2222222222222222,\"#7201a8\"],[0.3333333333333333,\"#9c179e\"],[0.4444444444444444,\"#bd3786\"],[0.5555555555555556,\"#d8576b\"],[0.6666666666666666,\"#ed7953\"],[0.7777777777777778,\"#fb9f3a\"],[0.8888888888888888,\"#fdca26\"],[1.0,\"#f0f921\"]]}],\"heatmap\":[{\"type\":\"heatmap\",\"colorbar\":{\"outlinewidth\":0,\"ticks\":\"\"},\"colorscale\":[[0.0,\"#0d0887\"],[0.1111111111111111,\"#46039f\"],[0.2222222222222222,\"#7201a8\"],[0.3333333333333333,\"#9c179e\"],[0.4444444444444444,\"#bd3786\"],[0.5555555555555556,\"#d8576b\"],[0.6666666666666666,\"#ed7953\"],[0.7777777777777778,\"#fb9f3a\"],[0.8888888888888888,\"#fdca26\"],[1.0,\"#f0f921\"]]}],\"heatmapgl\":[{\"type\":\"heatmapgl\",\"colorbar\":{\"outlinewidth\":0,\"ticks\":\"\"},\"colorscale\":[[0.0,\"#0d0887\"],[0.1111111111111111,\"#46039f\"],[0.2222222222222222,\"#7201a8\"],[0.3333333333333333,\"#9c179e\"],[0.4444444444444444,\"#bd3786\"],[0.5555555555555556,\"#d8576b\"],[0.6666666666666666,\"#ed7953\"],[0.7777777777777778,\"#fb9f3a\"],[0.8888888888888888,\"#fdca26\"],[1.0,\"#f0f921\"]]}],\"contourcarpet\":[{\"type\":\"contourcarpet\",\"colorbar\":{\"outlinewidth\":0,\"ticks\":\"\"}}],\"contour\":[{\"type\":\"contour\",\"colorbar\":{\"outlinewidth\":0,\"ticks\":\"\"},\"colorscale\":[[0.0,\"#0d0887\"],[0.1111111111111111,\"#46039f\"],[0.2222222222222222,\"#7201a8\"],[0.3333333333333333,\"#9c179e\"],[0.4444444444444444,\"#bd3786\"],[0.5555555555555556,\"#d8576b\"],[0.6666666666666666,\"#ed7953\"],[0.7777777777777778,\"#fb9f3a\"],[0.8888888888888888,\"#fdca26\"],[1.0,\"#f0f921\"]]}],\"surface\":[{\"type\":\"surface\",\"colorbar\":{\"outlinewidth\":0,\"ticks\":\"\"},\"colorscale\":[[0.0,\"#0d0887\"],[0.1111111111111111,\"#46039f\"],[0.2222222222222222,\"#7201a8\"],[0.3333333333333333,\"#9c179e\"],[0.4444444444444444,\"#bd3786\"],[0.5555555555555556,\"#d8576b\"],[0.6666666666666666,\"#ed7953\"],[0.7777777777777778,\"#fb9f3a\"],[0.8888888888888888,\"#fdca26\"],[1.0,\"#f0f921\"]]}],\"mesh3d\":[{\"type\":\"mesh3d\",\"colorbar\":{\"outlinewidth\":0,\"ticks\":\"\"}}],\"scatter\":[{\"fillpattern\":{\"fillmode\":\"overlay\",\"size\":10,\"solidity\":0.2},\"type\":\"scatter\"}],\"parcoords\":[{\"type\":\"parcoords\",\"line\":{\"colorbar\":{\"outlinewidth\":0,\"ticks\":\"\"}}}],\"scatterpolargl\":[{\"type\":\"scatterpolargl\",\"marker\":{\"colorbar\":{\"outlinewidth\":0,\"ticks\":\"\"}}}],\"bar\":[{\"error_x\":{\"color\":\"#2a3f5f\"},\"error_y\":{\"color\":\"#2a3f5f\"},\"marker\":{\"line\":{\"color\":\"#E5ECF6\",\"width\":0.5},\"pattern\":{\"fillmode\":\"overlay\",\"size\":10,\"solidity\":0.2}},\"type\":\"bar\"}],\"scattergeo\":[{\"type\":\"scattergeo\",\"marker\":{\"colorbar\":{\"outlinewidth\":0,\"ticks\":\"\"}}}],\"scatterpolar\":[{\"type\":\"scatterpolar\",\"marker\":{\"colorbar\":{\"outlinewidth\":0,\"ticks\":\"\"}}}],\"histogram\":[{\"marker\":{\"pattern\":{\"fillmode\":\"overlay\",\"size\":10,\"solidity\":0.2}},\"type\":\"histogram\"}],\"scattergl\":[{\"type\":\"scattergl\",\"marker\":{\"colorbar\":{\"outlinewidth\":0,\"ticks\":\"\"}}}],\"scatter3d\":[{\"type\":\"scatter3d\",\"line\":{\"colorbar\":{\"outlinewidth\":0,\"ticks\":\"\"}},\"marker\":{\"colorbar\":{\"outlinewidth\":0,\"ticks\":\"\"}}}],\"scattermapbox\":[{\"type\":\"scattermapbox\",\"marker\":{\"colorbar\":{\"outlinewidth\":0,\"ticks\":\"\"}}}],\"scatterternary\":[{\"type\":\"scatterternary\",\"marker\":{\"colorbar\":{\"outlinewidth\":0,\"ticks\":\"\"}}}],\"scattercarpet\":[{\"type\":\"scattercarpet\",\"marker\":{\"colorbar\":{\"outlinewidth\":0,\"ticks\":\"\"}}}],\"carpet\":[{\"aaxis\":{\"endlinecolor\":\"#2a3f5f\",\"gridcolor\":\"white\",\"linecolor\":\"white\",\"minorgridcolor\":\"white\",\"startlinecolor\":\"#2a3f5f\"},\"baxis\":{\"endlinecolor\":\"#2a3f5f\",\"gridcolor\":\"white\",\"linecolor\":\"white\",\"minorgridcolor\":\"white\",\"startlinecolor\":\"#2a3f5f\"},\"type\":\"carpet\"}],\"table\":[{\"cells\":{\"fill\":{\"color\":\"#EBF0F8\"},\"line\":{\"color\":\"white\"}},\"header\":{\"fill\":{\"color\":\"#C8D4E3\"},\"line\":{\"color\":\"white\"}},\"type\":\"table\"}],\"barpolar\":[{\"marker\":{\"line\":{\"color\":\"#E5ECF6\",\"width\":0.5},\"pattern\":{\"fillmode\":\"overlay\",\"size\":10,\"solidity\":0.2}},\"type\":\"barpolar\"}],\"pie\":[{\"automargin\":true,\"type\":\"pie\"}]},\"layout\":{\"autotypenumbers\":\"strict\",\"colorway\":[\"#636efa\",\"#EF553B\",\"#00cc96\",\"#ab63fa\",\"#FFA15A\",\"#19d3f3\",\"#FF6692\",\"#B6E880\",\"#FF97FF\",\"#FECB52\"],\"font\":{\"color\":\"#2a3f5f\"},\"hovermode\":\"closest\",\"hoverlabel\":{\"align\":\"left\"},\"paper_bgcolor\":\"white\",\"plot_bgcolor\":\"#E5ECF6\",\"polar\":{\"bgcolor\":\"#E5ECF6\",\"angularaxis\":{\"gridcolor\":\"white\",\"linecolor\":\"white\",\"ticks\":\"\"},\"radialaxis\":{\"gridcolor\":\"white\",\"linecolor\":\"white\",\"ticks\":\"\"}},\"ternary\":{\"bgcolor\":\"#E5ECF6\",\"aaxis\":{\"gridcolor\":\"white\",\"linecolor\":\"white\",\"ticks\":\"\"},\"baxis\":{\"gridcolor\":\"white\",\"linecolor\":\"white\",\"ticks\":\"\"},\"caxis\":{\"gridcolor\":\"white\",\"linecolor\":\"white\",\"ticks\":\"\"}},\"coloraxis\":{\"colorbar\":{\"outlinewidth\":0,\"ticks\":\"\"}},\"colorscale\":{\"sequential\":[[0.0,\"#0d0887\"],[0.1111111111111111,\"#46039f\"],[0.2222222222222222,\"#7201a8\"],[0.3333333333333333,\"#9c179e\"],[0.4444444444444444,\"#bd3786\"],[0.5555555555555556,\"#d8576b\"],[0.6666666666666666,\"#ed7953\"],[0.7777777777777778,\"#fb9f3a\"],[0.8888888888888888,\"#fdca26\"],[1.0,\"#f0f921\"]],\"sequentialminus\":[[0.0,\"#0d0887\"],[0.1111111111111111,\"#46039f\"],[0.2222222222222222,\"#7201a8\"],[0.3333333333333333,\"#9c179e\"],[0.4444444444444444,\"#bd3786\"],[0.5555555555555556,\"#d8576b\"],[0.6666666666666666,\"#ed7953\"],[0.7777777777777778,\"#fb9f3a\"],[0.8888888888888888,\"#fdca26\"],[1.0,\"#f0f921\"]],\"diverging\":[[0,\"#8e0152\"],[0.1,\"#c51b7d\"],[0.2,\"#de77ae\"],[0.3,\"#f1b6da\"],[0.4,\"#fde0ef\"],[0.5,\"#f7f7f7\"],[0.6,\"#e6f5d0\"],[0.7,\"#b8e186\"],[0.8,\"#7fbc41\"],[0.9,\"#4d9221\"],[1,\"#276419\"]]},\"xaxis\":{\"gridcolor\":\"white\",\"linecolor\":\"white\",\"ticks\":\"\",\"title\":{\"standoff\":15},\"zerolinecolor\":\"white\",\"automargin\":true,\"zerolinewidth\":2},\"yaxis\":{\"gridcolor\":\"white\",\"linecolor\":\"white\",\"ticks\":\"\",\"title\":{\"standoff\":15},\"zerolinecolor\":\"white\",\"automargin\":true,\"zerolinewidth\":2},\"scene\":{\"xaxis\":{\"backgroundcolor\":\"#E5ECF6\",\"gridcolor\":\"white\",\"linecolor\":\"white\",\"showbackground\":true,\"ticks\":\"\",\"zerolinecolor\":\"white\",\"gridwidth\":2},\"yaxis\":{\"backgroundcolor\":\"#E5ECF6\",\"gridcolor\":\"white\",\"linecolor\":\"white\",\"showbackground\":true,\"ticks\":\"\",\"zerolinecolor\":\"white\",\"gridwidth\":2},\"zaxis\":{\"backgroundcolor\":\"#E5ECF6\",\"gridcolor\":\"white\",\"linecolor\":\"white\",\"showbackground\":true,\"ticks\":\"\",\"zerolinecolor\":\"white\",\"gridwidth\":2}},\"shapedefaults\":{\"line\":{\"color\":\"#2a3f5f\"}},\"annotationdefaults\":{\"arrowcolor\":\"#2a3f5f\",\"arrowhead\":0,\"arrowwidth\":1},\"geo\":{\"bgcolor\":\"white\",\"landcolor\":\"#E5ECF6\",\"subunitcolor\":\"white\",\"showland\":true,\"showlakes\":true,\"lakecolor\":\"white\"},\"title\":{\"x\":0.05},\"mapbox\":{\"style\":\"light\"}}},\"scene\":{\"domain\":{\"x\":[0.0,1.0],\"y\":[0.0,1.0]},\"xaxis\":{\"title\":{\"text\":\"PC 1\"}},\"yaxis\":{\"title\":{\"text\":\"PC 2\"}},\"zaxis\":{\"title\":{\"text\":\"PC 3\"}}},\"coloraxis\":{\"colorbar\":{\"title\":{\"text\":\"Class\"}},\"colorscale\":[[0.0,\"#0d0887\"],[0.1111111111111111,\"#46039f\"],[0.2222222222222222,\"#7201a8\"],[0.3333333333333333,\"#9c179e\"],[0.4444444444444444,\"#bd3786\"],[0.5555555555555556,\"#d8576b\"],[0.6666666666666666,\"#ed7953\"],[0.7777777777777778,\"#fb9f3a\"],[0.8888888888888888,\"#fdca26\"],[1.0,\"#f0f921\"]]},\"legend\":{\"title\":{\"text\":\"Class\"},\"tracegroupgap\":0,\"x\":0,\"y\":1},\"margin\":{\"t\":60}},                        {\"responsive\": true}                    ).then(function(){\n",
       "                            \n",
       "var gd = document.getElementById('5d1f3dc3-9fe5-45c5-9ff9-1bc9a0877549');\n",
       "var x = new MutationObserver(function (mutations, observer) {{\n",
       "        var display = window.getComputedStyle(gd).display;\n",
       "        if (!display || display === 'none') {{\n",
       "            console.log([gd, 'removed!']);\n",
       "            Plotly.purge(gd);\n",
       "            observer.disconnect();\n",
       "        }}\n",
       "}});\n",
       "\n",
       "// Listen for the removal of the full notebook cells\n",
       "var notebookContainer = gd.closest('#notebook-container');\n",
       "if (notebookContainer) {{\n",
       "    x.observe(notebookContainer, {childList: true});\n",
       "}}\n",
       "\n",
       "// Listen for the clearing of the current output cell\n",
       "var outputEl = gd.closest('.output');\n",
       "if (outputEl) {{\n",
       "    x.observe(outputEl, {childList: true});\n",
       "}}\n",
       "\n",
       "                        })                };                });            </script>        </div>"
      ]
     },
     "metadata": {},
     "output_type": "display_data"
    }
   ],
   "source": [
    "# Creating a 3D-Scatter with the PCA data and the clusters\n",
    "fig = px.scatter_3d(\n",
    "    clustered_df,\n",
    "    x = \"PC 1\",\n",
    "    y = \"PC 2\",\n",
    "    z = \"PC 3\",\n",
    "    color = \"Class\",\n",
    "    symbol = \"Class\",\n",
    "    hover_name = clustered_df.CoinName,\n",
    "    hover_data = ['Algorithm']\n",
    ")\n",
    "fig.update_layout(legend=dict(x=0, y=1))\n",
    "fig.show()\n"
   ]
  },
  {
   "cell_type": "code",
   "execution_count": 227,
   "metadata": {},
   "outputs": [
    {
     "data": {},
     "metadata": {},
     "output_type": "display_data"
    },
    {
     "data": {
      "application/vnd.holoviews_exec.v0+json": "",
      "text/html": [
       "<div id='1053'>\n",
       "  <div class=\"bk-root\" id=\"a7ae50c8-f313-40d8-841c-bb3e67463b75\" data-root-id=\"1053\"></div>\n",
       "</div>\n",
       "<script type=\"application/javascript\">(function(root) {\n",
       "  function embed_document(root) {\n",
       "    var docs_json = {\"ecb1247a-743f-4fb6-8d1c-042393779ea5\":{\"defs\":[{\"extends\":null,\"module\":null,\"name\":\"ReactiveHTML1\",\"overrides\":[],\"properties\":[]},{\"extends\":null,\"module\":null,\"name\":\"FlexBox1\",\"overrides\":[],\"properties\":[{\"default\":\"flex-start\",\"kind\":null,\"name\":\"align_content\"},{\"default\":\"flex-start\",\"kind\":null,\"name\":\"align_items\"},{\"default\":\"row\",\"kind\":null,\"name\":\"flex_direction\"},{\"default\":\"wrap\",\"kind\":null,\"name\":\"flex_wrap\"},{\"default\":\"flex-start\",\"kind\":null,\"name\":\"justify_content\"}]},{\"extends\":null,\"module\":null,\"name\":\"GridStack1\",\"overrides\":[],\"properties\":[{\"default\":\"warn\",\"kind\":null,\"name\":\"mode\"},{\"default\":null,\"kind\":null,\"name\":\"ncols\"},{\"default\":null,\"kind\":null,\"name\":\"nrows\"},{\"default\":true,\"kind\":null,\"name\":\"allow_resize\"},{\"default\":true,\"kind\":null,\"name\":\"allow_drag\"},{\"default\":[],\"kind\":null,\"name\":\"state\"}]},{\"extends\":null,\"module\":null,\"name\":\"click1\",\"overrides\":[],\"properties\":[{\"default\":\"\",\"kind\":null,\"name\":\"terminal_output\"},{\"default\":\"\",\"kind\":null,\"name\":\"debug_name\"},{\"default\":0,\"kind\":null,\"name\":\"clears\"}]},{\"extends\":null,\"module\":null,\"name\":\"NotificationAreaBase1\",\"overrides\":[],\"properties\":[{\"default\":\"bottom-right\",\"kind\":null,\"name\":\"position\"},{\"default\":0,\"kind\":null,\"name\":\"_clear\"}]},{\"extends\":null,\"module\":null,\"name\":\"NotificationArea1\",\"overrides\":[],\"properties\":[{\"default\":[],\"kind\":null,\"name\":\"notifications\"},{\"default\":\"bottom-right\",\"kind\":null,\"name\":\"position\"},{\"default\":0,\"kind\":null,\"name\":\"_clear\"},{\"default\":[{\"background\":\"#ffc107\",\"icon\":{\"className\":\"fas fa-exclamation-triangle\",\"color\":\"white\",\"tagName\":\"i\"},\"type\":\"warning\"},{\"background\":\"#007bff\",\"icon\":{\"className\":\"fas fa-info-circle\",\"color\":\"white\",\"tagName\":\"i\"},\"type\":\"info\"}],\"kind\":null,\"name\":\"types\"}]},{\"extends\":null,\"module\":null,\"name\":\"Notification\",\"overrides\":[],\"properties\":[{\"default\":null,\"kind\":null,\"name\":\"background\"},{\"default\":3000,\"kind\":null,\"name\":\"duration\"},{\"default\":null,\"kind\":null,\"name\":\"icon\"},{\"default\":\"\",\"kind\":null,\"name\":\"message\"},{\"default\":null,\"kind\":null,\"name\":\"notification_type\"},{\"default\":false,\"kind\":null,\"name\":\"_destroyed\"}]},{\"extends\":null,\"module\":null,\"name\":\"TemplateActions1\",\"overrides\":[],\"properties\":[{\"default\":0,\"kind\":null,\"name\":\"open_modal\"},{\"default\":0,\"kind\":null,\"name\":\"close_modal\"}]},{\"extends\":null,\"module\":null,\"name\":\"MaterialTemplateActions1\",\"overrides\":[],\"properties\":[{\"default\":0,\"kind\":null,\"name\":\"open_modal\"},{\"default\":0,\"kind\":null,\"name\":\"close_modal\"}]}],\"roots\":{\"references\":[{\"attributes\":{},\"id\":\"1073\",\"type\":\"StringEditor\"},{\"attributes\":{},\"id\":\"1056\",\"type\":\"Selection\"},{\"attributes\":{\"editor\":{\"id\":\"1068\"},\"field\":\"ProofType\",\"formatter\":{\"id\":\"1067\"},\"title\":\"ProofType\"},\"id\":\"1069\",\"type\":\"TableColumn\"},{\"attributes\":{},\"id\":\"1072\",\"type\":\"StringFormatter\"},{\"attributes\":{},\"id\":\"1058\",\"type\":\"StringEditor\"},{\"attributes\":{\"editor\":{\"id\":\"1058\"},\"field\":\"CoinName\",\"formatter\":{\"id\":\"1057\"},\"title\":\"CoinName\"},\"id\":\"1059\",\"type\":\"TableColumn\"},{\"attributes\":{},\"id\":\"1083\",\"type\":\"IntEditor\"},{\"attributes\":{\"editor\":{\"id\":\"1083\"},\"field\":\"Class\",\"formatter\":{\"id\":\"1082\"},\"title\":\"Class\"},\"id\":\"1084\",\"type\":\"TableColumn\"},{\"attributes\":{},\"id\":\"1062\",\"type\":\"StringFormatter\"},{\"attributes\":{\"children\":[{\"id\":\"1054\"},{\"id\":\"1087\"},{\"id\":\"1092\"}],\"margin\":[0,0,0,0],\"name\":\"Row00982\",\"tags\":[\"embedded\"]},\"id\":\"1053\",\"type\":\"Row\"},{\"attributes\":{\"source\":{\"id\":\"1055\"}},\"id\":\"1089\",\"type\":\"CDSView\"},{\"attributes\":{\"editor\":{\"id\":\"1078\"},\"field\":\"TotalCoinsMined\",\"formatter\":{\"id\":\"1077\"},\"title\":\"TotalCoinsMined\"},\"id\":\"1079\",\"type\":\"TableColumn\"},{\"attributes\":{},\"id\":\"1063\",\"type\":\"StringEditor\"},{\"attributes\":{},\"id\":\"1090\",\"type\":\"UnionRenderers\"},{\"attributes\":{\"editor\":{\"id\":\"1073\"},\"field\":\"TotalCoinSupply\",\"formatter\":{\"id\":\"1072\"},\"title\":\"TotalCoinSupply\"},\"id\":\"1074\",\"type\":\"TableColumn\"},{\"attributes\":{\"columns\":[{\"id\":\"1059\"},{\"id\":\"1064\"},{\"id\":\"1069\"},{\"id\":\"1074\"},{\"id\":\"1079\"},{\"id\":\"1084\"}],\"height\":300,\"reorderable\":false,\"source\":{\"id\":\"1055\"},\"view\":{\"id\":\"1089\"},\"width\":700},\"id\":\"1087\",\"type\":\"DataTable\"},{\"attributes\":{\"format\":\"0,0.0[00000]\"},\"id\":\"1077\",\"type\":\"NumberFormatter\"},{\"attributes\":{\"margin\":[5,5,5,5],\"name\":\"HSpacer00987\",\"sizing_mode\":\"stretch_width\"},\"id\":\"1092\",\"type\":\"Spacer\"},{\"attributes\":{},\"id\":\"1068\",\"type\":\"StringEditor\"},{\"attributes\":{\"editor\":{\"id\":\"1063\"},\"field\":\"Algorithm\",\"formatter\":{\"id\":\"1062\"},\"title\":\"Algorithm\"},\"id\":\"1064\",\"type\":\"TableColumn\"},{\"attributes\":{\"data\":{\"Algorithm\":[\"Scrypt\",\"Scrypt\",\"X13\",\"SHA-256\",\"Ethash\",\"Scrypt\",\"X11\",\"CryptoNight-V7\",\"Ethash\",\"Equihash\",\"SHA-512\",\"Multiple\",\"SHA-256\",\"SHA-256\",\"Scrypt\",\"X15\",\"X11\",\"Scrypt\",\"Scrypt\",\"Scrypt\",\"Multiple\",\"Scrypt\",\"SHA-256\",\"Scrypt\",\"Scrypt\",\"Scrypt\",\"Quark\",\"Groestl\",\"Scrypt\",\"Scrypt\",\"Scrypt\",\"Scrypt\",\"Scrypt\",\"X11\",\"Scrypt\",\"Groestl\",\"Multiple\",\"SHA-256\",\"Scrypt\",\"Scrypt\",\"Scrypt\",\"Scrypt\",\"PoS\",\"Scrypt\",\"Scrypt\",\"NeoScrypt\",\"Scrypt\",\"Scrypt\",\"Scrypt\",\"Scrypt\",\"X11\",\"Scrypt\",\"X11\",\"SHA-256\",\"Scrypt\",\"Scrypt\",\"Scrypt\",\"SHA3\",\"Scrypt\",\"HybridScryptHash256\",\"Scrypt\",\"Scrypt\",\"SHA-256\",\"Scrypt\",\"X13\",\"Scrypt\",\"SHA-256\",\"Scrypt\",\"X13\",\"NeoScrypt\",\"Scrypt\",\"Scrypt\",\"Scrypt\",\"Scrypt\",\"Scrypt\",\"Scrypt\",\"X11\",\"X11\",\"SHA-256\",\"Multiple\",\"SHA-256\",\"PHI1612\",\"X11\",\"SHA-256\",\"SHA-256\",\"SHA-256\",\"X11\",\"Scrypt\",\"Scrypt\",\"Scrypt\",\"Scrypt\",\"Lyra2REv2\",\"Scrypt\",\"X11\",\"Multiple\",\"SHA-256\",\"X13\",\"Scrypt\",\"CryptoNight\",\"CryptoNight\",\"Shabal256\",\"Counterparty\",\"Scrypt\",\"SHA-256\",\"Groestl\",\"Scrypt\",\"Scrypt\",\"Scrypt\",\"X13\",\"Scrypt\",\"Scrypt\",\"Scrypt\",\"Scrypt\",\"X13\",\"Scrypt\",\"Stanford Folding\",\"X11\",\"Multiple\",\"QuBit\",\"Scrypt\",\"Scrypt\",\"Scrypt\",\"M7 POW\",\"Scrypt\",\"SHA-256\",\"Scrypt\",\"X11\",\"SHA3\",\"X11\",\"Lyra2RE\",\"SHA-256\",\"QUAIT\",\"X11\",\"X11\",\"Scrypt\",\"Scrypt\",\"Scrypt\",\"Ethash\",\"X13\",\"Blake2b\",\"SHA-256\",\"X15\",\"X11\",\"SHA-256\",\"BLAKE256\",\"Scrypt\",\"1GB AES Pattern Search\",\"SHA-256\",\"X11\",\"Scrypt\",\"SHA-256\",\"SHA-256\",\"NIST5\",\"Scrypt\",\"Scrypt\",\"X11\",\"Dagger\",\"Scrypt\",\"X11GOST\",\"X11\",\"Scrypt\",\"SHA-256\",\"Scrypt\",\"PoS\",\"Scrypt\",\"X11\",\"X11\",\"SHA-256\",\"SHA-256\",\"NIST5\",\"X11\",\"Scrypt\",\"POS 3.0\",\"Scrypt\",\"Scrypt\",\"Scrypt\",\"X13\",\"X11\",\"X11\",\"Equihash\",\"X11\",\"Scrypt\",\"CryptoNight\",\"SHA-256\",\"SHA-256\",\"X11\",\"Scrypt\",\"Multiple\",\"Scrypt\",\"Scrypt\",\"Scrypt\",\"SHA-256\",\"Scrypt\",\"Scrypt\",\"SHA-256D\",\"PoS\",\"Scrypt\",\"X11\",\"Lyra2Z\",\"PoS\",\"X13\",\"X14\",\"PoS\",\"SHA-256D\",\"Ethash\",\"Equihash\",\"DPoS\",\"X11\",\"Scrypt\",\"X11\",\"X13\",\"X11\",\"PoS\",\"Scrypt\",\"Scrypt\",\"X11\",\"PoS\",\"X11\",\"SHA-256\",\"Scrypt\",\"X11\",\"Scrypt\",\"Scrypt\",\"X11\",\"CryptoNight\",\"Scrypt\",\"Scrypt\",\"Scrypt\",\"Scrypt\",\"Quark\",\"QuBit\",\"Scrypt\",\"CryptoNight\",\"Lyra2RE\",\"Scrypt\",\"SHA-256\",\"X11\",\"Scrypt\",\"X11\",\"Scrypt\",\"CryptoNight-V7\",\"Scrypt\",\"Scrypt\",\"Scrypt\",\"X13\",\"X11\",\"Equihash\",\"Scrypt\",\"Scrypt\",\"Lyra2RE\",\"Scrypt\",\"Dagger-Hashimoto\",\"X11\",\"Blake2S\",\"X11\",\"Scrypt\",\"PoS\",\"X11\",\"NIST5\",\"PoS\",\"X11\",\"Scrypt\",\"Scrypt\",\"Scrypt\",\"SHA-256\",\"X11\",\"Scrypt\",\"Scrypt\",\"SHA-256\",\"PoS\",\"Scrypt\",\"X15\",\"SHA-256\",\"Scrypt\",\"POS 3.0\",\"CryptoNight-V7\",\"536\",\"Argon2d\",\"Blake2b\",\"Cloverhash\",\"CryptoNight\",\"NIST5\",\"X11\",\"NIST5\",\"Skein\",\"Scrypt\",\"X13\",\"Scrypt\",\"X11\",\"X11\",\"Scrypt\",\"CryptoNight\",\"X13\",\"Time Travel\",\"Scrypt\",\"Keccak\",\"SkunkHash v2 Raptor\",\"X11\",\"Skein\",\"SHA-256\",\"X11\",\"Scrypt\",\"VeChainThor Authority\",\"Scrypt\",\"PoS\",\"Scrypt\",\"Scrypt\",\"Scrypt\",\"Scrypt\",\"Scrypt\",\"Scrypt\",\"Scrypt\",\"CryptoNight\",\"SHA-512\",\"Ouroboros\",\"X11\",\"Equihash\",\"NeoScrypt\",\"X11\",\"Scrypt\",\"NeoScrypt\",\"Lyra2REv2\",\"Equihash\",\"Scrypt\",\"SHA-256\",\"NIST5\",\"PHI1612\",\"Dagger\",\"Scrypt\",\"Quark\",\"Scrypt\",\"POS 2.0\",\"Scrypt\",\"SHA-256\",\"X11\",\"NeoScrypt\",\"Ethash\",\"NeoScrypt\",\"X11\",\"DPoS\",\"NIST5\",\"X13\",\"Multiple\",\"Scrypt\",\"CryptoNight\",\"CryptoNight\",\"Ethash\",\"NIST5\",\"Quark\",\"X11\",\"CryptoNight-V7\",\"Scrypt\",\"Scrypt\",\"Scrypt\",\"X11\",\"BLAKE256\",\"X11\",\"NeoScrypt\",\"Quark\",\"NeoScrypt\",\"Scrypt\",\"Scrypt\",\"Scrypt\",\"X11\",\"X11\",\"SHA-256\",\"C11\",\"POS 3.0\",\"Ethash\",\"Scrypt\",\"CryptoNight\",\"SkunkHash\",\"Scrypt\",\"CryptoNight\",\"Scrypt\",\"Dagger\",\"Lyra2REv2\",\"X13\",\"Proof-of-BibleHash\",\"SHA-256 + Hive\",\"Scrypt\",\"Scrypt\",\"X11\",\"C11\",\"Proof-of-Authority\",\"X11\",\"XEVAN\",\"Scrypt\",\"VBFT\",\"Ethash\",\"CryptoNight\",\"Scrypt\",\"IMesh\",\"NIST5\",\"Scrypt\",\"Scrypt\",\"Equihash\",\"Scrypt\",\"Lyra2Z\",\"Green Protocol\",\"PoS\",\"Scrypt\",\"Semux BFT consensus\",\"X11\",\"Quark\",\"PoS\",\"CryptoNight\",\"X16R\",\"Scrypt\",\"NIST5\",\"Lyra2RE\",\"XEVAN\",\"Tribus\",\"Scrypt\",\"Lyra2Z\",\"CryptoNight\",\"CryptoNight Heavy\",\"CryptoNight\",\"Scrypt\",\"Scrypt\",\"Jump Consistent Hash\",\"SHA-256D\",\"CryptoNight\",\"Scrypt\",\"X15\",\"Scrypt\",\"Quark\",\"SHA-256\",\"DPoS\",\"X16R\",\"HMQ1725\",\"X11\",\"X16R\",\"Quark\",\"Quark\",\"Scrypt\",\"Lyra2REv2\",\"Quark\",\"Scrypt\",\"Scrypt\",\"CryptoNight-V7\",\"Cryptonight-GPU\",\"XEVAN\",\"CryptoNight Heavy\",\"X11\",\"X11\",\"Scrypt\",\"PoS\",\"SHA-256\",\"Keccak\",\"X11\",\"X11\",\"Scrypt\",\"SHA-512\",\"X16R\",\"ECC 256K1\",\"Equihash\",\"XEVAN\",\"Lyra2Z\",\"SHA-256\",\"XEVAN\",\"X11\",\"CryptoNight\",\"Quark\",\"Blake\",\"Blake\",\"Equihash\",\"Exosis\",\"Scrypt\",\"Scrypt\",\"Equihash\",\"Quark\",\"Equihash\",\"Quark\",\"Scrypt\",\"QuBit\",\"X11\",\"Scrypt\",\"XEVAN\",\"SHA-256D\",\"X11\",\"SHA-256\",\"X13\",\"SHA-256\",\"X11\",\"DPoS\",\"Scrypt\",\"Scrypt\",\"X11\",\"NeoScrypt\",\"Scrypt\",\"Blake\",\"Scrypt\",\"SHA-256\",\"Scrypt\",\"X11\",\"Scrypt\",\"Scrypt\",\"SHA-256\",\"X11\",\"SHA-256\",\"Scrypt\",\"Scrypt\",\"Scrypt\",\"Groestl\",\"X11\",\"Scrypt\",\"PoS\",\"Scrypt\",\"Scrypt\",\"X11\",\"SHA-256\",\"DPoS\",\"Scrypt\",\"Scrypt\",\"NeoScrypt\",\"Multiple\",\"X13\",\"Equihash+Scrypt\",\"DPoS\",\"Ethash\",\"DPoS\",\"SHA-256\",\"Leased POS\",\"PoS\",\"TRC10\",\"PoS\",\"SHA-256\",\"Scrypt\",\"CryptoNight\",\"Equihash\",\"Scrypt\"],\"Class\":{\"__ndarray__\":\"AQAAAAEAAAABAAAAAAAAAAMAAAAAAAAAAQAAAAMAAAADAAAAAwAAAAAAAAADAAAAAQAAAAEAAAAAAAAAAAAAAAAAAAAAAAAAAQAAAAEAAAADAAAAAwAAAAAAAAAAAAAAAAAAAAEAAAAAAAAAAAAAAAAAAAABAAAAAAAAAAEAAAAAAAAAAAAAAAEAAAABAAAAAwAAAAAAAAAAAAAAAAAAAAAAAAAAAAAAAAAAAAEAAAAAAAAAAwAAAAAAAAAAAAAAAAAAAAEAAAABAAAAAAAAAAEAAAAAAAAAAAAAAAAAAAAAAAAAAAAAAAAAAAADAAAAAQAAAAAAAAABAAAAAQAAAAAAAAAAAAAAAAAAAAAAAAAAAAAAAQAAAAEAAAABAAAAAQAAAAAAAAAAAAAAAAAAAAEAAAABAAAAAAAAAAEAAAAAAAAAAAAAAAEAAAAAAAAAAAAAAAAAAAAAAAAAAQAAAAEAAAAAAAAAAQAAAAAAAAAAAAAAAQAAAAEAAAAAAAAAAAAAAAEAAAADAAAAAwAAAAEAAAAAAAAAAAAAAAEAAAABAAAAAAAAAAEAAAAAAAAAAAAAAAAAAAABAAAAAAAAAAEAAAAAAAAAAAAAAAMAAAABAAAAAwAAAAAAAAAAAAAAAQAAAAAAAAADAAAAAAAAAAAAAAAAAAAAAQAAAAAAAAAAAAAAAwAAAAAAAAAAAAAAAAAAAAEAAAAAAAAAAAAAAAEAAAADAAAAAAAAAAMAAAABAAAAAAAAAAAAAAAAAAAAAQAAAAAAAAADAAAAAQAAAAEAAAAAAAAAAQAAAAAAAAAAAAAAAQAAAAEAAAAAAAAAAwAAAAAAAAADAAAAAQAAAAEAAAABAAAAAQAAAAAAAAAAAAAAAAAAAAEAAAABAAAAAQAAAAAAAAABAAAAAAAAAAAAAAABAAAAAQAAAAEAAAAAAAAAAAAAAAEAAAAAAAAAAQAAAAEAAAADAAAAAQAAAAAAAAABAAAAAQAAAAMAAAABAAAAAAAAAAEAAAAAAAAAAQAAAAAAAAAAAAAAAAAAAAEAAAABAAAAAwAAAAAAAAAAAAAAAAAAAAAAAAAAAAAAAwAAAAMAAAABAAAAAQAAAAAAAAAAAAAAAAAAAAEAAAAAAAAAAQAAAAEAAAAAAAAAAAAAAAEAAAABAAAAAQAAAAEAAAABAAAAAQAAAAEAAAADAAAAAQAAAAEAAAABAAAAAQAAAAAAAAABAAAAAAAAAAMAAAADAAAAAQAAAAEAAAABAAAAAQAAAAAAAAABAAAAAwAAAAEAAAABAAAAAAAAAAAAAAAAAAAAAwAAAAEAAAAAAAAAAwAAAAEAAAADAAAAAQAAAAAAAAABAAAAAAAAAAAAAAABAAAAAAAAAAAAAAABAAAAAQAAAAEAAAABAAAAAQAAAAEAAAAAAAAAAQAAAAAAAAAAAAAAAQAAAAAAAAABAAAAAAAAAAAAAAADAAAAAAAAAAMAAAADAAAAAwAAAAMAAAAAAAAAAAAAAAAAAAAAAAAAAAAAAAAAAAAAAAAAAAAAAAAAAAABAAAAAwAAAAAAAAADAAAAAwAAAAAAAAAAAAAAAAAAAAAAAAAAAAAAAQAAAAEAAAADAAAAAAAAAAAAAAAAAAAAAAAAAAAAAAAAAAAAAAAAAAEAAAABAAAAAwAAAAAAAAAAAAAAAQAAAAMAAAABAAAAAAAAAAEAAAADAAAAAQAAAAMAAAABAAAAAQAAAAAAAAAAAAAAAwAAAAEAAAAAAAAAAAAAAAAAAAABAAAAAQAAAAAAAAADAAAAAwAAAAMAAAABAAAAAQAAAAAAAAAAAAAAAwAAAAEAAAADAAAAAwAAAAMAAAAAAAAAAAAAAAAAAAADAAAAAQAAAAEAAAAAAAAAAQAAAAAAAAAAAAAAAwAAAAAAAAADAAAAAAAAAAEAAAABAAAAAQAAAAAAAAAAAAAAAAAAAAAAAAABAAAAAQAAAAMAAAADAAAAAQAAAAMAAAAAAAAAAwAAAAAAAAAAAAAAAwAAAAMAAAAAAAAAAAAAAAAAAAABAAAAAwAAAAEAAAAAAAAAAQAAAAAAAAADAAAAAwAAAAAAAAADAAAAAAAAAAEAAAABAAAAAwAAAAEAAAADAAAAAAAAAAAAAAABAAAAAQAAAAAAAAAAAAAAAAAAAAMAAAABAAAAAQAAAAAAAAADAAAAAQAAAAMAAAABAAAAAwAAAAMAAAADAAAAAwAAAAEAAAABAAAAAwAAAAAAAAADAAAAAQAAAAAAAAABAAAAAAAAAAEAAAAAAAAAAAAAAAMAAAAAAAAAAQAAAAAAAAAAAAAAAQAAAAEAAAAAAAAAAAAAAAEAAAADAAAAAwAAAAAAAAADAAAAAQAAAAEAAAABAAAAAAAAAAAAAAABAAAAAQAAAAAAAAABAAAAAAAAAAAAAAADAAAAAwAAAAEAAAADAAAAAAAAAAEAAAABAAAAAwAAAAAAAAADAAAAAwAAAAEAAAADAAAAAAAAAAEAAAADAAAAAAAAAAMAAAAAAAAAAQAAAAAAAAABAAAAAQAAAAAAAAAAAAAAAQAAAAAAAAAAAAAAAAAAAAEAAAABAAAAAQAAAAAAAAABAAAAAwAAAAEAAAADAAAAAQAAAAEAAAABAAAAAQAAAAAAAAABAAAAAQAAAAEAAAAAAAAAAQAAAAAAAAABAAAAAAAAAAEAAAABAAAAAAAAAAAAAAAAAAAAAQAAAAEAAAABAAAAAQAAAAEAAAABAAAAAwAAAAAAAAADAAAAAQAAAAMAAAABAAAAAQAAAAEAAAAAAAAAAgAAAAAAAAABAAAAAQAAAAMAAAADAAAAAQAAAA==\",\"dtype\":\"int32\",\"order\":\"little\",\"shape\":[532]},\"CoinName\":[\"42 Coin\",\"404Coin\",\"EliteCoin\",\"Bitcoin\",\"Ethereum\",\"Litecoin\",\"Dash\",\"Monero\",\"Ethereum Classic\",\"ZCash\",\"Bitshares\",\"DigiByte\",\"BitcoinDark\",\"PayCoin\",\"ProsperCoin\",\"KoboCoin\",\"Spreadcoin\",\"Argentum\",\"Aurora Coin\",\"BlueCoin\",\"MyriadCoin\",\"MoonCoin\",\"ZetaCoin\",\"SexCoin\",\"Quatloo\",\"EnergyCoin\",\"QuarkCoin\",\"Riecoin\",\"Digitalcoin \",\"BitBar\",\"Catcoin\",\"CryptoBullion\",\"CannaCoin\",\"CryptCoin\",\"CasinoCoin\",\"Diamond\",\"Verge\",\"DevCoin\",\"EarthCoin\",\"E-Gulden\",\"Einsteinium\",\"Emerald\",\"Exclusive Coin\",\"FlutterCoin\",\"Franko\",\"FeatherCoin\",\"GrandCoin\",\"GlobalCoin\",\"GoldCoin\",\"HoboNickels\",\"HyperStake\",\"Infinite Coin\",\"IOCoin\",\"IXcoin\",\"KrugerCoin\",\"LuckyCoin\",\"Litebar \",\"MaxCoin\",\"MegaCoin\",\"MediterraneanCoin\",\"MintCoin\",\"MinCoin\",\"MazaCoin\",\"Nautilus Coin\",\"NavCoin\",\"NobleCoin\",\"Namecoin\",\"NyanCoin\",\"OpalCoin\",\"Orbitcoin\",\"PotCoin\",\"PhoenixCoin\",\"Reddcoin\",\"RonPaulCoin\",\"StableCoin\",\"SmartCoin\",\"SuperCoin\",\"SyncCoin\",\"SysCoin\",\"TeslaCoin\",\"TigerCoin\",\"TittieCoin\",\"TorCoin\",\"TerraCoin\",\"UnbreakableCoin\",\"Unobtanium\",\"UroCoin\",\"UnitaryStatus Dollar\",\"UltraCoin\",\"ViaCoin\",\"VeriCoin\",\"Vertcoin\",\"WorldCoin\",\"X11 Coin\",\"Crypti\",\"JouleCoin\",\"StealthCoin\",\"ZCC Coin\",\"ByteCoin\",\"DigitalNote \",\"BurstCoin\",\"StorjCoin\",\"MonaCoin\",\"Neutron\",\"FairCoin\",\"Gulden\",\"RubyCoin\",\"PesetaCoin\",\"Kore\",\"Wild Beast Coin\",\"Dnotes\",\"Flo\",\"8BIT Coin\",\"Sativa Coin\",\"ArtByte\",\"Folding Coin\",\"Ucoin\",\"Unitus\",\"CypherPunkCoin\",\"OmniCron\",\"Vtorrent\",\"GreenCoin\",\"Cryptonite\",\"MasterCoin\",\"SoonCoin\",\"1Credit\",\"IslaCoin\",\"Nexus\",\"MarsCoin \",\"Crypto\",\"Anarchists Prime\",\"Droidz\",\"BowsCoin\",\"Squall Coin\",\"Song Coin\",\"BitZeny\",\"Diggits\",\"Expanse\",\"Paycon\",\"Siacoin\",\"Emercoin\",\"EverGreenCoin\",\"MindCoin\",\"I0coin\",\"Decred\",\"Revolution VR\",\"HOdlcoin\",\"EDRCoin\",\"Hitcoin\",\"Gamecredits\",\"DubaiCoin\",\"CarpeDiemCoin\",\"PWR Coin\",\"BillaryCoin\",\"GPU Coin\",\"Adzcoin\",\"SoilCoin\",\"YoCoin\",\"SibCoin\",\"EuropeCoin\",\"ZeitCoin\",\"SwingCoin\",\"SafeExchangeCoin\",\"Nebuchadnezzar\",\"Francs\",\"BolivarCoin\",\"Ratecoin\",\"Revenu\",\"Clockcoin\",\"VIP Tokens\",\"BitSend\",\"Omni\",\"Let it Ride\",\"PutinCoin\",\"iBankCoin\",\"Frankywillcoin\",\"MudraCoin\",\"PizzaCoin\",\"Lutetium Coin\",\"Komodo\",\"GoldBlocks\",\"CarterCoin\",\"Karbo\",\"BitTokens\",\"ZayedCoin\",\"MustangCoin\",\"ZoneCoin\",\"Circuits of Value\",\"RootCoin\",\"DopeCoin\",\"BitCurrency\",\"DollarCoin\",\"Swiscoin\",\"Shilling\",\"BuzzCoin\",\"Opair\",\"PesoBit\",\"Halloween Coin\",\"ZCoin\",\"CoffeeCoin\",\"RoyalCoin\",\"GanjaCoin V2\",\"TeamUP\",\"LanaCoin\",\"Elementrem\",\"ZClassic\",\"ARK\",\"InsaneCoin\",\"KiloCoin\",\"ArtexCoin\",\"EmberCoin\",\"XenixCoin\",\"FreeCoin\",\"PLNCoin\",\"AquariusCoin\",\"Kurrent\",\"Creatio\",\"Eternity\",\"Eurocoin\",\"BitcoinFast\",\"Stakenet\",\"BitConnect Coin\",\"MoneyCoin\",\"Enigma\",\"Cannabis Industry Coin\",\"Russiacoin\",\"PandaCoin\",\"GameUnits\",\"GAKHcoin\",\"Allsafe\",\"LiteCreed\",\"OsmiumCoin\",\"Bikercoins\",\"HexxCoin\",\"Klingon Empire Darsek\",\"Internet of People\",\"KushCoin\",\"Printerium\",\"PacCoin\",\"Impeach\",\"Citadel\",\"Zilbercoin\",\"FirstCoin\",\"BeaverCoin\",\"FindCoin\",\"VaultCoin\",\"Zero\",\"OpenChat\",\"Canada eCoin\",\"Zoin\",\"RenosCoin\",\"DubaiCoin\",\"VirtacoinPlus\",\"TajCoin\",\"Impact\",\"EB3coin\",\"Atmos\",\"HappyCoin\",\"Coinonat\",\"MacronCoin\",\"Condensate\",\"Independent Money System\",\"ArgusCoin\",\"LomoCoin\",\"ProCurrency\",\"GoldReserve\",\"BenjiRolls\",\"GrowthCoin\",\"ILCoin\",\"Phreak\",\"Degas Coin\",\"HTML5 Coin\",\"Ultimate Secure Cash\",\"EquiTrader\",\"QTUM\",\"Quantum Resistant Ledger\",\"Espers\",\"Dynamic\",\"Nano\",\"ChanCoin\",\"Dinastycoin\",\"Denarius\",\"DigitalPrice\",\"Virta Unique Coin\",\"Bitcoin Planet\",\"Unify\",\"BritCoin\",\"SocialCoin\",\"ArcticCoin\",\"DAS\",\"Linda\",\"LeviarCoin\",\"DeepOnion\",\"Bitcore\",\"gCn Coin\",\"SmartCash\",\"Signatum\",\"Onix\",\"Cream\",\"Bitcoin Cash\",\"Monoeci\",\"Draftcoin\",\"Vechain\",\"Sojourn Coin\",\"Stakecoin\",\"NewYorkCoin\",\"FrazCoin\",\"Kronecoin\",\"AdCoin\",\"Linx\",\"CoinonatX\",\"Ethereum Dark\",\"Sumokoin\",\"Obsidian\",\"Cardano\",\"Regalcoin\",\"BitcoinZ\",\"TrezarCoin\",\"Elements\",\"TerraNovaCoin\",\"VIVO Coin\",\"Rupee\",\"Bitcoin Gold\",\"WomenCoin\",\"Theresa May Coin\",\"NamoCoin\",\"LUXCoin\",\"Pirl\",\"Xios\",\"Bitcloud 2.0\",\"eBoost\",\"KekCoin\",\"BlackholeCoin\",\"Infinity Economics\",\"Pura\",\"Innova\",\"Ellaism\",\"GoByte\",\"Magnet\",\"Lamden Tau\",\"Electra\",\"Bitcoin Diamond\",\"SHIELD\",\"Cash & Back Coin\",\"UltraNote\",\"BitCoal\",\"DaxxCoin\",\"Bulwark\",\"Kalkulus\",\"AC3\",\"Lethean\",\"GermanCoin\",\"LiteCoin Ultra\",\"PopularCoin\",\"PhantomX\",\"Photon\",\"Sucre\",\"SparksPay\",\"Digiwage\",\"GunCoin\",\"IrishCoin\",\"Trollcoin\",\"Litecoin Plus\",\"Monkey Project\",\"Pioneer Coin\",\"UnitedBitcoin\",\"Interzone\",\"TokenPay\",\"1717 Masonic Commemorative Token\",\"My Big Coin\",\"TurtleCoin\",\"MUNcoin\",\"Unified Society USDEX\",\"Niobio Cash\",\"ShareChain\",\"Travelflex\",\"KREDS\",\"Tokyo Coin\",\"BiblePay\",\"LitecoinCash\",\"BitFlip\",\"LottoCoin\",\"Crypto Improvement Fund\",\"Stipend\",\"Poa Network\",\"Pushi\",\"Ellerium\",\"Velox\",\"Ontology\",\"Callisto Network\",\"BitTube\",\"Poseidon\",\"Aidos Kuneen\",\"Bitspace\",\"Briacoin\",\"Ignition\",\"Bitrolium\",\"MedicCoin\",\"Alpenschillling\",\"Bitcoin Green\",\"Deviant Coin\",\"Abjcoin\",\"Semux\",\"FuturoCoin\",\"Carebit\",\"Zealium\",\"Monero Classic\",\"Proton\",\"iDealCash\",\"Jumpcoin\",\"Infinex\",\"Bitcoin Incognito\",\"KEYCO\",\"HollyWoodCoin\",\"GINcoin\",\"PlatinCoin\",\"Loki\",\"Newton Coin\",\"Swisscoin\",\"Xt3ch\",\"MassGrid\",\"TheVig\",\"PluraCoin\",\"EmaratCoin\",\"Dekado\",\"Lynx\",\"Poseidon Quark\",\"BitcoinWSpectrum\",\"Muse\",\"Motion\",\"PlusOneCoin\",\"Axe\",\"Trivechain\",\"Dystem\",\"Giant\",\"Peony Coin\",\"Absolute Coin\",\"Vitae\",\"HexCoin\",\"TPCash\",\"Webchain\",\"Ryo\",\"Urals Coin\",\"Qwertycoin\",\"ARENON\",\"EUNO\",\"MMOCoin\",\"Ketan\",\"Project Pai\",\"XDNA\",\"PAXEX\",\"Azart\",\"ThunderStake\",\"Kcash\",\"Xchange\",\"Acute Angle Cloud\",\"CrypticCoin\",\"Bettex coin\",\"Actinium\",\"Bitcoin SV\",\"BitMoney\",\"Junson Ming Chan Coin\",\"FREDEnergy\",\"HerbCoin\",\"Universal Molecule\",\"Lithium\",\"PirateCash\",\"Exosis\",\"Block-Logic\",\"Oduwa\",\"Beam\",\"Galilel\",\"Bithereum\",\"Crypto Sports\",\"Credit\",\"SLICE\",\"Dash Platinum\",\"Nasdacoin\",\"Beetle Coin\",\"Titan Coin\",\"Award\",\"BLAST\",\"Bitcoin Rhodium\",\"GlobalToken\",\"Insane Coin\",\"ALAX\",\"LiteDoge\",\"SolarCoin\",\"TruckCoin\",\"UFO Coin\",\"OrangeCoin\",\"BlakeCoin\",\"BitstarCoin\",\"NeosCoin\",\"HyperCoin\",\"PinkCoin\",\"Crypto Escudo\",\"AudioCoin\",\"IncaKoin\",\"Piggy Coin\",\"Crown Coin\",\"Genstake\",\"SmileyCoin\",\"XiaoMiCoin\",\"Groestlcoin\",\"CapriCoin\",\" ClubCoin\",\"Radium\",\"Bata\",\"Pakcoin\",\"Creditbit \",\"OKCash\",\"Lisk\",\"HiCoin\",\"WhiteCoin\",\"FriendshipCoin\",\"JoinCoin\",\"Triangles Coin\",\"Vollar\",\"EOS\",\"Reality Clash\",\"Oxycoin\",\"TigerCash\",\"Waves\",\"Particl\",\"BitTorrent\",\"Nxt\",\"ZEPHYR\",\"Gapcoin\",\"Beldex\",\"Horizen\",\"BitcoinPlus\"],\"ProofType\":[\"PoW/PoS\",\"PoW/PoS\",\"PoW/PoS\",\"PoW\",\"PoW\",\"PoW\",\"PoW/PoS\",\"PoW\",\"PoW\",\"PoW\",\"PoS\",\"PoW\",\"PoW/PoS\",\"PoS\",\"PoW\",\"PoW/PoS\",\"PoW\",\"PoW\",\"PoW/PoS\",\"PoW/PoS\",\"PoW\",\"PoW\",\"PoW\",\"PoW\",\"PoW\",\"PoW/PoS\",\"PoW\",\"PoW\",\"PoW\",\"PoW/PoS\",\"PoW\",\"PoW/PoS\",\"PoW\",\"PoW\",\"PoC\",\"PoW/PoS\",\"PoW\",\"PoW\",\"PoW\",\"PoW\",\"PoW\",\"PoW\",\"PoS\",\"PoS/PoW/PoT\",\"PoW\",\"PoW\",\"PoW\",\"PoW\",\"PoW\",\"PoW/PoS\",\"PoS\",\"PoW\",\"PoW/PoS\",\"PoW\",\"PoW\",\"PoW\",\"PoW\",\"PoW/PoS\",\"PoW\",\"PoW\",\"PoS\",\"PoW\",\"PoW/PoS\",\"PoS\",\"PoW/PoS\",\"PoW\",\"PoW\",\"PoW\",\"PoW/PoS\",\"PoW/PoS\",\"PoW/PoS\",\"PoW/PoS\",\"PoW/PoS\",\"PoW\",\"PoW\",\"PoW\",\"PoS\",\"PoW/PoS\",\"PoW\",\"PoS\",\"PoW\",\"PoS\",\"PoW/PoS\",\"PoW\",\"PoW\",\"PoW\",\"PoW\",\"PoW/PoS\",\"PoW/PoS\",\"PoW\",\"PoST\",\"PoW\",\"PoW\",\"PoW/PoS\",\"PoS\",\"PoW\",\"PoW/PoS\",\"PoW/PoS\",\"PoW\",\"PoW\",\"PoC\",\"PoS\",\"PoW\",\"PoW/PoS\",\"PoW/PoS\",\"PoW\",\"PoS\",\"PoW\",\"PoW/PoS\",\"PoW\",\"PoS\",\"PoW\",\"PoW/PoS\",\"PoW/PoS\",\"PoW\",\"PoW\",\"PoS\",\"PoW\",\"PoW\",\"PoW\",\"PoW/PoS\",\"PoW\",\"PoW\",\"PoW\",\"PoW\",\"PoW\",\"PoW/PoS\",\"PoW/nPoS\",\"PoW\",\"PoW\",\"PoW\",\"PoW/PoS\",\"PoW\",\"PoS/PoW\",\"PoW\",\"PoW\",\"PoS\",\"PoW\",\"PoW/PoS\",\"PoW\",\"PoW/PoS\",\"PoW/PoS\",\"PoW\",\"PoW\",\"PoW/PoS\",\"PoW\",\"PoW\",\"PoW/PoS\",\"PoW/PoS\",\"PoW\",\"PoW/PoS\",\"PoW\",\"PoW/PoS\",\"PoW/PoS\",\"PoS\",\"PoW\",\"PoW\",\"PoW\",\"PoW\",\"PoW/PoS\",\"PoS\",\"PoW/PoS\",\"PoC\",\"PoS\",\"PoW\",\"PoW\",\"PoW/PoS\",\"PoW/PoS\",\"PoW/PoS\",\"PoW/PoS\",\"PoW/PoS\",\"PoW\",\"PoS\",\"PoW/PoS\",\"PoW/PoS\",\"PoW/PoS\",\"PoS\",\"PoW\",\"PoS\",\"dPoW/PoW\",\"PoW/PoS\",\"PoW/PoS\",\"PoW\",\"PoW/PoS\",\"PoW\",\"PoW/PoS\",\"PoW/PoS\",\"PoW\",\"PoW/PoS\",\"PoW\",\"PoS\",\"PoW\",\"PoW/PoW\",\"PoW\",\"PoW/PoS\",\"PoS\",\"PoW/PoS\",\"PoW/PoS\",\"PoW\",\"PoS\",\"PoS\",\"PoW/PoS\",\"PoS\",\"PoW/PoS\",\"PoW\",\"PoW\",\"DPoS\",\"PoW/PoS\",\"PoW\",\"PoW\",\"PoW/PoS\",\"PoW/PoS\",\"PoS\",\"PoW/PoS\",\"PoW/PoS\",\"PoW\",\"PoS\",\"PoW/PoS\",\"PoW/PoS\",\"PoW/PoS\",\"TPoS\",\"PoW/PoS\",\"PoW/PoS\",\"PoW/PoS\",\"PoW\",\"PoW/PoS\",\"PoS\",\"PoW/PoS\",\"PoW/PoS\",\"PoS\",\"PoW/PoS\",\"PoW\",\"PoW\",\"PoW\",\"PoW/PoS\",\"PoW/PoS\",\"PoW/PoS\",\"PoW/PoS\",\"PoW\",\"PoW/PoS\",\"PoW\",\"PoS\",\"PoW/PoS \",\"PoW\",\"PoS\",\"PoW\",\"PoW\",\"PoW/PoS\",\"PoW\",\"PoW\",\"PoS\",\"PoW\",\"PoW/PoS\",\"PoW/PoS\",\"PoW/PoS\",\"PoW\",\"PoS\",\"PoW/PoS\",\"PoW\",\"PoS\",\"PoW/PoS\",\"PoW/PoS\",\"PoW/PoS\",\"PoW/PoS\",\"PoS\",\"PoW/PoS\",\"PoW\",\"PoS\",\"PoW\",\"PoS\",\"PoW/PoS\",\"PoW/PoS\",\"PoS\",\"PoW\",\"PoS\",\"PoW\",\"PoW/PoS\",\"PoW\",\"PoW\",\"PoW\",\"PoW\",\"PoW/PoS\",\"PoW\",\"PoW/PoS\",\"PoW/PoS\",\"PoW\",\"PoW/PoS\",\"PoW\",\"PoW\",\"PoW\",\"PoW/PoS\",\"PoW\",\"PoW/PoS\",\"PoW\",\"PoW\",\"PoW\",\"PoS\",\"PoW\",\"PoW/PoS\",\"PoW\",\"PoW/PoS\",\"PoS\",\"Proof of Authority\",\"PoW\",\"PoS\",\"PoW\",\"PoW\",\"PoW\",\"PoW\",\"PoW\",\"PoW/PoS\",\"PoW/PoS\",\"PoW\",\"PoS\",\"PoS\",\"PoW/PoS\",\"PoW\",\"PoW/PoS\",\"PoW\",\"PoW/PoS\",\"PoW\",\"PoS\",\"PoW\",\"PoW/PoS\",\"PoW/PoS\",\"PoW/PoS\",\"PoW/PoS\",\"PoW\",\"PoW/PoS\",\"PoW/PoS\",\"PoW\",\"PoS\",\"PoW/PoS\",\"PoS\",\"PoW\",\"PoW\",\"PoW\",\"PoW\",\"PoW/PoS\",\"DPoS\",\"PoW/PoS\",\"PoW/PoS\",\"PoW\",\"PoW/PoS\",\"PoW\",\"PoW\",\"PoW\",\"PoS\",\"PoS\",\"PoW\",\"PoW\",\"PoW/PoS\",\"PoW/PoS\",\"PoW\",\"PoW/PoS\",\"PoW\",\"PoW\",\"PoW\",\"PoS\",\"PoW\",\"PoW\",\"PoW/PoS\",\"PoW/PoS\",\"PoS\",\"PoW\",\"PoW\",\"PoW\",\"PoS\",\"PoS\",\"PoW and PoS\",\"PoW\",\"PoW\",\"PoW/PoS\",\"PoW\",\"PoW\",\"PoW\",\"PoW\",\"PoS\",\"POBh\",\"PoW + Hive\",\"PoW\",\"PoW\",\"PoW\",\"PoW/PoS\",\"PoA\",\"PoW/PoS\",\"PoW/PoS\",\"PoS\",\"PoS\",\"PoW\",\"PoW\",\"PoW\",\"PoW\",\"PoW/PoS\",\"PoW/PoS\",\"PoW/PoS\",\"PoW\",\"PoS\",\"PoW\",\"PoS\",\"PoS\",\"PoW/PoS\",\"DPoS\",\"PoW\",\"PoW/PoS\",\"PoS\",\"PoW\",\"PoS\",\"PoW/PoS\",\"PoW\",\"PoW\",\"PoS/PoW\",\"PoW\",\"PoS\",\"PoW\",\"PoW\",\"PoW\",\"PoW\",\"PoW/PoS\",\"PoS\",\"PoW\",\"PoW/PoS\",\"PoW\",\"PoW/PoS\",\"PoS\",\"HPoW\",\"PoS\",\"PoS\",\"PoS\",\"PoW\",\"PoW\",\"PoW\",\"PoW/PoS\",\"PoS\",\"PoW/PoS\",\"PoS\",\"PoW/PoS\",\"PoS\",\"PoW\",\"PoW/PoS\",\"PoW\",\"PoW\",\"PoW\",\"PoW\",\"PoS\",\"PoW/PoS\",\"PoS\",\"PoS\",\"PoW\",\"PoW/PoS\",\"PoS\",\"PoW\",\"PoW/PoS\",\"Zero-Knowledge Proof\",\"PoW\",\"DPOS\",\"PoW\",\"PoS\",\"PoW\",\"PoW\",\"Pos\",\"PoS\",\"PoW\",\"PoW/PoS\",\"PoW\",\"PoW\",\"PoS\",\"PoW\",\"PoW\",\"PoW/PoS\",\"PoW\",\"PoW/PoS\",\"PoW\",\"PoS\",\"PoW/PoS\",\"PoW\",\"PoS\",\"PoW/PoS\",\"PoW/PoS\",\"PoW/PoS\",\"PoW/PoS\",\"PoW\",\"PoW\",\"PoW\",\"PoW/PoS\",\"DPoS\",\"PoW/PoS\",\"PoW\",\"PoW/PoS\",\"PoW\",\"PoW/PoS\",\"PoW\",\"PoW/PoS\",\"PoS\",\"PoW/PoS\",\"PoW/PoS\",\"PoW\",\"PoW/PoS\",\"PoW/PoS\",\"PoW/PoS\",\"PoW\",\"PoW/PoS\",\"PoW\",\"PoW/PoS\",\"PoW\",\"PoW/PoS\",\"PoW/PoS\",\"PoS\",\"PoW\",\"PoW\",\"Proof of Trust\",\"PoW/PoS\",\"DPoS\",\"PoS\",\"PoW/PoS\",\"PoW/PoS\",\"PoW\",\"PoW/PoS\",\"PoW\",\"DPoS\",\"PoW\",\"DPoS\",\"PoS\",\"LPoS\",\"PoS\",\"DPoS\",\"PoS/LPoS\",\"DPoS\",\"PoW/PoS\",\"PoW\",\"PoW\",\"PoS\"],\"TotalCoinSupply\":[\"42\",\"532000000\",\"314159265359\",\"21000000\",\"0\",\"84000000\",\"22000000\",\"0\",\"210000000\",\"21000000\",\"3600570502\",\"21000000000\",\"22000000\",\"12500000\",\"21000000\",\"350000000\",\"20000000\",\"64000000\",\"16768584\",\"0\",\"2000000000\",\"384000000000\",\"169795588\",\"250000000\",\"100000000\",\"0\",\"247000000\",\"84000000\",\"48166000\",\"500000\",\"21000000 \",\"1000000\",\"13140000\",\"18000000\",\"40000000000\",\"4380000\",\"16555000000\",\"21000000000\",\"13500000000\",\"21000000 \",\"299792458\",\"32000000\",\"0\",\"0\",\"11235813\",\"336000000\",\"1420609614\",\"70000000\",\"72245700\",\"120000000\",\"0\",\"90600000000\",\"22000000\",\"21000000\",\"265420800\",\"20000000\",\"1350000\",\"100000000\",\"42000000\",\"200000000\",\"0\",\"10000000\",\"2419200000\",\"16180000\",\"0\",\"15000000000\",\"21000000\",\"337000000\",\"0\",\"3770000\",\"420000000\",\"98000000\",\"0\",\"21000000\",\"250000000\",\"51200000\",\"0\",\"1000\",\"888000000\",\"100000000\",\"47011968\",\"2300000000\",\"10000000\",\"42000000\",\"80000000\",\"250000\",\"0\",\"1600000000\",\"100000000\",\"23000000\",\"0\",\"84000000\",\"265420800\",\"5500000\",\"0\",\"45000000\",\"0\",\"1000000000\",\"184467440735\",\"10000000000\",\"2158812800\",\"500000000\",\"105120000\",\"68000000\",\"0\",\"1680000000\",\"0\",\"166386000\",\"12000000\",\"2628000\",\"500000000\",\"160000000\",\"0\",\"10000000\",\"1000000000\",\"1000000000\",\"20000000\",\"0\",\"0\",\"3371337\",\"20000000\",\"10000000000\",\"1840000000\",\"619478\",\"21000000\",\"92000000000\",\"0\",\"78000000\",\"33000000\",\"65789100\",\"53760000\",\"5060000\",\"21000000\",\"0\",\"210240000\",\"250000000\",\"100000000\",\"16906397\",\"50000000\",\"0\",\"1000000000\",\"26298000\",\"16000000\",\"21000000\",\"21000000\",\"210000000\",\"81962100\",\"22000000\",\"26550000000\",\"84000000\",\"10500000\",\"21626280000 \",\"0\",\"42000000\",\"221052632\",\"84000000\",\"30000000\",\"168351300\",\"24000000\",\"384000000\",\" 99000000000\",\"40000000\",\"2147483647\",\"20000000\",\"20000000\",\"25000000\",\"75000000\",\"222725000\",\"525000000\",\"90000000\",\"139000000\",\"616448\",\"33500000\",\"2000000000\",\"44333333\",\"100000000\",\"200000000\",\"25000000\",\"657000000\",\"200000000\",\"50000000\",\"90000000\",\"10000000\",\"21000000\",\"9736000\",\"3000000\",\"21000000\",\"1200000000\",\"0\",\"200000000\",\"0\",\"10638298\",\"3100000000\",\"30000000\",\"20000000000\",\"74000000\",\"0\",\"1500000000\",\"21400000\",\"39999898\",\"2500124\",\"100000000\",\"301000000\",\"7506000000\",\"26205539\",\"21000000\",\"125000000\",\"30000000\",\"10000000000\",\"500000000\",\"850000000\",\"3853326.77707314\",\"50000000\",\"38540000 \",\"42000000\",\"228000000\",\"20000000\",\"60000000\",\"20000000\",\"33000000\",\"76500000\",\"28000000\",\"650659833\",\"5000000\",\"21000000\",\"144000000\",\"32514916898\",\"13000000\",\"3315789\",\"15000000\",\"78835200\",\"2714286\",\"25000000\",\"9999999\",\"500000000\",\"21000000\",\"9354000\",\"20000000\",\"100000000000\",\"21933333\",\"185000000\",\"55000000\",\"110000000\",\"3360000\",\"14524851.4827\",\"1000000000\",\"17000000\",\"1000000000\",\"100000000 \",\"21000000\",\"34426423\",\"2232901\",\"100000000\",\"36900000\",\"110000000\",\"4000000000\",\"110290030\",\"100000000\",\"48252000\",\"400000000\",\"500000000\",\"21212121\",\"28600000\",\"1000000000\",\"75000000000\",\"40000000\",\"35520400\",\"2000000000\",\"2500000000\",\"30000000\",\"105000000\",\"90000000000\",\"200084200\",\"72000000\",\"100000000\",\"105000000\",\"50000000000\",\"0\",\"340282367\",\"30000000\",\"2000000000\",\"10000000\",\"100000000\",\"120000000\",\"100000000\",\"19276800\",\"30000000\",\" 75000000\",\"60000000\",\"18900000\",\"50000000000\",\"54000000\",\"18898187.6216583\",\"21000000\",\"200000000000\",\"5000000000\",\"137500000\",\"1100000000\",\"100000000\",\"21000000\",\"9507271\",\"17405891.19707116\",\"86712634466\",\"10500000000\",\"61599965\",\"0\",\"20000000\",\"84000000\",\"100000000\",\"100000000\",\"48252000\",\"4200000\",\"88888888\",\"91388946\",\"45000000000\",\"27000000\",\"21000000000\",\"400000000\",\"1800000000\",\"15733333\",\"27000000\",\"24000000\",\"21000000\",\"25000000000\",\"100000000\",\"1200000000\",\"60000000\",\"156306732.71\",\"21000000\",\"200000000\",\"100000000\",\"21000000\",\"14788275.991\",\"9000000000\",\"350000000\",\"45000000\",\"280000000\",\"31800000\",\"144000000\",\"500000000\",\"30000000000\",\"210000000\",\"660000000\",\"210000000\",\"85000000000\",\"12500000\",\"10000000000\",\"27716121\",\"20000000\",\"550000000\",\"999481516\",\"50000000000\",\"150000000\",\"4999999999\",\"50000000\",\" 90000000000\",\"19800000\",\"21000000\",\"120000000\",\"500000000\",\"64000000\",\"900000000\",\"4000000\",\"21000000\",\"23000000\",\"20166000\",\"23000000\",\"25000000\",\"1618033\",\"30000000\",\"1000000000000\",\"16600000\",\"232000000\",\"336000000\",\"10000000000\",\"100000000\",\"1100000000\",\"800000000\",\"5200000000\",\"840000000\",\"40000000\",\"18406979840\",\"500000000\",\"19340594\",\"252460800\",\"25000000\",\"60000000\",\"124000000\",\"1000000000\",\"6500000000\",\"1000000000\",\"21000000\",\"25000000\",\"50000000\",\"3000000\",\"5000000\",\"70000000\",\"500000000\",\"300000000\",\"21000000\",\"88000000\",\"30000000\",\"100000000\",\"100000000\",\"200000000\",\"80000000\",\"18400000\",\"45000000\",\"5121951220\",\"21000000\",\"26280000\",\"21000000\",\"18000000\",\"26000000\",\"10500000\",\"600000518\",\"150000000\",\"184000000000\",\"10200000000\",\"44000000\",\"168000000\",\"100000000\",\"1000000000\",\"84000000\",\"90000000\",\"92000000000\",\"650000000 \",\"100262205\",\"18081806 \",\"22075700\",\"21000000\",\"21000000\",\"82546564\",\"21000000\",\"5151000\",\"16880000000\",\"52500000\",\"100000000\",\"22105263\",\"1000000000\",\"1750000000\",\"88188888\",\"210000000\",\"184470000000\",\"55000000\",\"50000000\",\"260000000\",\"210000000\",\"2100000000\",\"366000000\",\"100000000\",\"25000000\",\"18000000000\",\"1000000000\",\"100000000\",\"1000000000\",\"7600000000\",\"50000000\",\"84000000\",\"21000000\",\"70000000000\",\"0\",\"8080000000\",\"54000000\",\"105120001.44\",\"25228800\",\"105000000\",\"21000000\",\"120000000\",\"21000000\",\"262800000\",\"19035999\",\"30886000\",\"13370000\",\"74800000000\",\"100000000\",\"19700000\",\"84000000\",\"500000000\",\"5000000000\",\"420000000\",\"64000000\",\"2100000\",\"168000000\",\"30000000\",\"1000000000\",\"35000000000\",\"98100000000\",\"0\",\"4000000000\",\"200000000\",\"7000000000\",\"54256119\",\"21000000\",\"0\",\"500000000\",\"1000000000\",\"10500000000\",\"190000000\",\"1000000000\",\"42000000\",\"15000000\",\"50000000000\",\"400000000\",\"105000000\",\"208000000\",\"160000000\",\"9000000\",\"5000000\",\"182000000\",\"16504333\",\"105000000\",\"159918400\",\"10008835635\",\"300000000\",\"60168145\",\"2800000\",\"120000\",\"2100000000\",\"0\",\"24487944\",\"0\",\"1000000000\",\"100000000\",\"8634140\",\"990000000000\",\"1000000000\",\"2000000000\",\"250000000\",\"1400222610\",\"21000000\",\"1000000\"],\"TotalCoinsMined\":{\"__ndarray__\":\"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\",\"dtype\":\"float64\",\"order\":\"little\",\"shape\":[532]}},\"selected\":{\"id\":\"1056\"},\"selection_policy\":{\"id\":\"1090\"}},\"id\":\"1055\",\"type\":\"ColumnDataSource\"},{\"attributes\":{},\"id\":\"1057\",\"type\":\"StringFormatter\"},{\"attributes\":{},\"id\":\"1082\",\"type\":\"NumberFormatter\"},{\"attributes\":{},\"id\":\"1067\",\"type\":\"StringFormatter\"},{\"attributes\":{},\"id\":\"1078\",\"type\":\"NumberEditor\"},{\"attributes\":{\"margin\":[5,5,5,5],\"name\":\"HSpacer00986\",\"sizing_mode\":\"stretch_width\"},\"id\":\"1054\",\"type\":\"Spacer\"}],\"root_ids\":[\"1053\"]},\"title\":\"Bokeh Application\",\"version\":\"2.4.3\"}};\n",
       "    var render_items = [{\"docid\":\"ecb1247a-743f-4fb6-8d1c-042393779ea5\",\"root_ids\":[\"1053\"],\"roots\":{\"1053\":\"a7ae50c8-f313-40d8-841c-bb3e67463b75\"}}];\n",
       "    root.Bokeh.embed.embed_items_notebook(docs_json, render_items);\n",
       "  }\n",
       "  if (root.Bokeh !== undefined && root.Bokeh.Panel !== undefined) {\n",
       "    embed_document(root);\n",
       "  } else {\n",
       "    var attempts = 0;\n",
       "    var timer = setInterval(function(root) {\n",
       "      if (root.Bokeh !== undefined && root.Bokeh.Panel !== undefined) {\n",
       "        clearInterval(timer);\n",
       "        embed_document(root);\n",
       "      } else if (document.readyState == \"complete\") {\n",
       "        attempts++;\n",
       "        if (attempts > 200) {\n",
       "          clearInterval(timer);\n",
       "          console.log(\"Bokeh: ERROR: Unable to run BokehJS code because BokehJS library is missing\");\n",
       "        }\n",
       "      }\n",
       "    }, 25, root)\n",
       "  }\n",
       "})(window);</script>"
      ],
      "text/plain": [
       ":Table   [CoinName,Algorithm,ProofType,TotalCoinSupply,TotalCoinsMined,Class]"
      ]
     },
     "execution_count": 227,
     "metadata": {
      "application/vnd.holoviews_exec.v0+json": {
       "id": "1053"
      }
     },
     "output_type": "execute_result"
    }
   ],
   "source": [
    "# Create a table with tradable cryptocurrencies.\n",
    "table = clustered_df.hvplot.table(columns = ['CoinName', 'Algorithm', 'ProofType', 'TotalCoinSupply', 'TotalCoinsMined', 'Class'])\n",
    "table"
   ]
  },
  {
   "cell_type": "code",
   "execution_count": 238,
   "metadata": {},
   "outputs": [
    {
     "name": "stdout",
     "output_type": "stream",
     "text": [
      "There are 532 tradeable cryptocurrencies\n"
     ]
    }
   ],
   "source": [
    "# Print the total number of tradable cryptocurrencies.\n",
    "print(f\"There are {clustered_df['CoinName'].count()} tradeable cryptocurrencies\")"
   ]
  },
  {
   "cell_type": "code",
   "execution_count": 257,
   "metadata": {},
   "outputs": [
    {
     "name": "stdout",
     "output_type": "stream",
     "text": [
      "[[4.20000000e-11 0.00000000e+00]\n",
      " [5.32000000e-04 1.06585544e-03]\n",
      " [3.14159265e-01 2.95755135e-02]\n",
      " ...\n",
      " [1.40022261e-03 9.90135079e-04]\n",
      " [2.10000000e-05 7.37028150e-06]\n",
      " [1.00000000e-06 1.29582282e-07]]\n"
     ]
    }
   ],
   "source": [
    "# Scaling data to create the scatter plot with tradable cryptocurrencies.\n",
    "scaler = MinMaxScaler().fit_transform(clustered_df[['TotalCoinSupply','TotalCoinsMined']])\n",
    "print(scaler)"
   ]
  },
  {
   "cell_type": "code",
   "execution_count": 260,
   "metadata": {},
   "outputs": [
    {
     "data": {
      "text/html": [
       "<div>\n",
       "<style scoped>\n",
       "    .dataframe tbody tr th:only-of-type {\n",
       "        vertical-align: middle;\n",
       "    }\n",
       "\n",
       "    .dataframe tbody tr th {\n",
       "        vertical-align: top;\n",
       "    }\n",
       "\n",
       "    .dataframe thead th {\n",
       "        text-align: right;\n",
       "    }\n",
       "</style>\n",
       "<table border=\"1\" class=\"dataframe\">\n",
       "  <thead>\n",
       "    <tr style=\"text-align: right;\">\n",
       "      <th></th>\n",
       "      <th>TotalCoinSupply</th>\n",
       "      <th>TotalCoinsMined</th>\n",
       "      <th>CoinName</th>\n",
       "      <th>Class</th>\n",
       "    </tr>\n",
       "  </thead>\n",
       "  <tbody>\n",
       "    <tr>\n",
       "      <th>42</th>\n",
       "      <td>4.200000e-11</td>\n",
       "      <td>0.000000</td>\n",
       "      <td>42 Coin</td>\n",
       "      <td>1</td>\n",
       "    </tr>\n",
       "    <tr>\n",
       "      <th>404</th>\n",
       "      <td>5.320000e-04</td>\n",
       "      <td>0.001066</td>\n",
       "      <td>404Coin</td>\n",
       "      <td>1</td>\n",
       "    </tr>\n",
       "    <tr>\n",
       "      <th>1337</th>\n",
       "      <td>3.141593e-01</td>\n",
       "      <td>0.029576</td>\n",
       "      <td>EliteCoin</td>\n",
       "      <td>1</td>\n",
       "    </tr>\n",
       "    <tr>\n",
       "      <th>BTC</th>\n",
       "      <td>2.100000e-05</td>\n",
       "      <td>0.000018</td>\n",
       "      <td>Bitcoin</td>\n",
       "      <td>0</td>\n",
       "    </tr>\n",
       "    <tr>\n",
       "      <th>ETH</th>\n",
       "      <td>0.000000e+00</td>\n",
       "      <td>0.000109</td>\n",
       "      <td>Ethereum</td>\n",
       "      <td>3</td>\n",
       "    </tr>\n",
       "    <tr>\n",
       "      <th>LTC</th>\n",
       "      <td>8.400000e-05</td>\n",
       "      <td>0.000064</td>\n",
       "      <td>Litecoin</td>\n",
       "      <td>0</td>\n",
       "    </tr>\n",
       "    <tr>\n",
       "      <th>DASH</th>\n",
       "      <td>2.200000e-05</td>\n",
       "      <td>0.000009</td>\n",
       "      <td>Dash</td>\n",
       "      <td>1</td>\n",
       "    </tr>\n",
       "    <tr>\n",
       "      <th>XMR</th>\n",
       "      <td>0.000000e+00</td>\n",
       "      <td>0.000017</td>\n",
       "      <td>Monero</td>\n",
       "      <td>3</td>\n",
       "    </tr>\n",
       "    <tr>\n",
       "      <th>ETC</th>\n",
       "      <td>2.100000e-04</td>\n",
       "      <td>0.000115</td>\n",
       "      <td>Ethereum Classic</td>\n",
       "      <td>3</td>\n",
       "    </tr>\n",
       "    <tr>\n",
       "      <th>ZEC</th>\n",
       "      <td>2.100000e-05</td>\n",
       "      <td>0.000007</td>\n",
       "      <td>ZCash</td>\n",
       "      <td>3</td>\n",
       "    </tr>\n",
       "  </tbody>\n",
       "</table>\n",
       "</div>"
      ],
      "text/plain": [
       "      TotalCoinSupply  TotalCoinsMined          CoinName  Class\n",
       "42       4.200000e-11         0.000000           42 Coin      1\n",
       "404      5.320000e-04         0.001066           404Coin      1\n",
       "1337     3.141593e-01         0.029576         EliteCoin      1\n",
       "BTC      2.100000e-05         0.000018           Bitcoin      0\n",
       "ETH      0.000000e+00         0.000109          Ethereum      3\n",
       "LTC      8.400000e-05         0.000064          Litecoin      0\n",
       "DASH     2.200000e-05         0.000009              Dash      1\n",
       "XMR      0.000000e+00         0.000017            Monero      3\n",
       "ETC      2.100000e-04         0.000115  Ethereum Classic      3\n",
       "ZEC      2.100000e-05         0.000007             ZCash      3"
      ]
     },
     "execution_count": 260,
     "metadata": {},
     "output_type": "execute_result"
    }
   ],
   "source": [
    "# Create a new DataFrame that has the scaled data with the clustered_df DataFrame index.\n",
    "plot_df = pd.DataFrame(scaler, index = clustered_df.index, columns = ['TotalCoinSupply', 'TotalCoinsMined'])\n",
    "\n",
    "# Add the \"CoinName\" column from the clustered_df DataFrame to the new DataFrame.\n",
    "plot_df['CoinName'] = crypto_names\n",
    "\n",
    "# Add the \"Class\" column from the clustered_df DataFrame to the new DataFrame. \n",
    "plot_df['Class']=km.labels_\n",
    "\n",
    "plot_df.head(10)"
   ]
  },
  {
   "cell_type": "code",
   "execution_count": 265,
   "metadata": {},
   "outputs": [
    {
     "data": {},
     "metadata": {},
     "output_type": "display_data"
    },
    {
     "data": {
      "application/vnd.holoviews_exec.v0+json": "",
      "text/html": [
       "<div id='2030'>\n",
       "  <div class=\"bk-root\" id=\"ddad111e-ff71-4bd8-a7d9-5c775a917102\" data-root-id=\"2030\"></div>\n",
       "</div>\n",
       "<script type=\"application/javascript\">(function(root) {\n",
       "  function embed_document(root) {\n",
       "    var docs_json = {\"62ad8b46-54b2-4a4b-9027-352adc776963\":{\"defs\":[{\"extends\":null,\"module\":null,\"name\":\"ReactiveHTML1\",\"overrides\":[],\"properties\":[]},{\"extends\":null,\"module\":null,\"name\":\"FlexBox1\",\"overrides\":[],\"properties\":[{\"default\":\"flex-start\",\"kind\":null,\"name\":\"align_content\"},{\"default\":\"flex-start\",\"kind\":null,\"name\":\"align_items\"},{\"default\":\"row\",\"kind\":null,\"name\":\"flex_direction\"},{\"default\":\"wrap\",\"kind\":null,\"name\":\"flex_wrap\"},{\"default\":\"flex-start\",\"kind\":null,\"name\":\"justify_content\"}]},{\"extends\":null,\"module\":null,\"name\":\"GridStack1\",\"overrides\":[],\"properties\":[{\"default\":\"warn\",\"kind\":null,\"name\":\"mode\"},{\"default\":null,\"kind\":null,\"name\":\"ncols\"},{\"default\":null,\"kind\":null,\"name\":\"nrows\"},{\"default\":true,\"kind\":null,\"name\":\"allow_resize\"},{\"default\":true,\"kind\":null,\"name\":\"allow_drag\"},{\"default\":[],\"kind\":null,\"name\":\"state\"}]},{\"extends\":null,\"module\":null,\"name\":\"click1\",\"overrides\":[],\"properties\":[{\"default\":\"\",\"kind\":null,\"name\":\"terminal_output\"},{\"default\":\"\",\"kind\":null,\"name\":\"debug_name\"},{\"default\":0,\"kind\":null,\"name\":\"clears\"}]},{\"extends\":null,\"module\":null,\"name\":\"NotificationAreaBase1\",\"overrides\":[],\"properties\":[{\"default\":\"bottom-right\",\"kind\":null,\"name\":\"position\"},{\"default\":0,\"kind\":null,\"name\":\"_clear\"}]},{\"extends\":null,\"module\":null,\"name\":\"NotificationArea1\",\"overrides\":[],\"properties\":[{\"default\":[],\"kind\":null,\"name\":\"notifications\"},{\"default\":\"bottom-right\",\"kind\":null,\"name\":\"position\"},{\"default\":0,\"kind\":null,\"name\":\"_clear\"},{\"default\":[{\"background\":\"#ffc107\",\"icon\":{\"className\":\"fas fa-exclamation-triangle\",\"color\":\"white\",\"tagName\":\"i\"},\"type\":\"warning\"},{\"background\":\"#007bff\",\"icon\":{\"className\":\"fas fa-info-circle\",\"color\":\"white\",\"tagName\":\"i\"},\"type\":\"info\"}],\"kind\":null,\"name\":\"types\"}]},{\"extends\":null,\"module\":null,\"name\":\"Notification\",\"overrides\":[],\"properties\":[{\"default\":null,\"kind\":null,\"name\":\"background\"},{\"default\":3000,\"kind\":null,\"name\":\"duration\"},{\"default\":null,\"kind\":null,\"name\":\"icon\"},{\"default\":\"\",\"kind\":null,\"name\":\"message\"},{\"default\":null,\"kind\":null,\"name\":\"notification_type\"},{\"default\":false,\"kind\":null,\"name\":\"_destroyed\"}]},{\"extends\":null,\"module\":null,\"name\":\"TemplateActions1\",\"overrides\":[],\"properties\":[{\"default\":0,\"kind\":null,\"name\":\"open_modal\"},{\"default\":0,\"kind\":null,\"name\":\"close_modal\"}]},{\"extends\":null,\"module\":null,\"name\":\"MaterialTemplateActions1\",\"overrides\":[],\"properties\":[{\"default\":0,\"kind\":null,\"name\":\"open_modal\"},{\"default\":0,\"kind\":null,\"name\":\"close_modal\"}]}],\"roots\":{\"references\":[{\"attributes\":{\"end\":1.1,\"reset_end\":1.1,\"reset_start\":-0.1,\"start\":-0.1,\"tags\":[[[\"TotalCoinSupply\",\"TotalCoinSupply\",null]]]},\"id\":\"2033\",\"type\":\"Range1d\"},{\"attributes\":{\"source\":{\"id\":\"2066\"}},\"id\":\"2075\",\"type\":\"CDSView\"},{\"attributes\":{},\"id\":\"2083\",\"type\":\"AllLabels\"},{\"attributes\":{},\"id\":\"2079\",\"type\":\"BasicTickFormatter\"},{\"attributes\":{},\"id\":\"2080\",\"type\":\"AllLabels\"},{\"attributes\":{\"below\":[{\"id\":\"2044\"}],\"center\":[{\"id\":\"2047\"},{\"id\":\"2051\"}],\"height\":300,\"left\":[{\"id\":\"2048\"}],\"margin\":[5,5,5,5],\"min_border_bottom\":10,\"min_border_left\":10,\"min_border_right\":10,\"min_border_top\":10,\"renderers\":[{\"id\":\"2074\"}],\"right\":[{\"id\":\"2077\"}],\"sizing_mode\":\"fixed\",\"title\":{\"id\":\"2036\"},\"toolbar\":{\"id\":\"2058\"},\"width\":700,\"x_range\":{\"id\":\"2032\"},\"x_scale\":{\"id\":\"2040\"},\"y_range\":{\"id\":\"2033\"},\"y_scale\":{\"id\":\"2042\"}},\"id\":\"2035\",\"subtype\":\"Figure\",\"type\":\"Plot\"},{\"attributes\":{\"high\":3,\"low\":0,\"palette\":[\"#b3fef5\",\"#b0fef5\",\"#adfdf5\",\"#a9fcf5\",\"#a6fbf6\",\"#a3faf6\",\"#a0faf6\",\"#9df9f6\",\"#9af8f6\",\"#97f7f6\",\"#93f7f6\",\"#90f6f6\",\"#8df5f6\",\"#8af4f7\",\"#87f3f7\",\"#83f2f7\",\"#80f2f7\",\"#7df1f7\",\"#79f0f7\",\"#76eff7\",\"#73eef7\",\"#6fedf8\",\"#6cecf8\",\"#68ecf8\",\"#65ebf8\",\"#61eaf8\",\"#5ee9f8\",\"#5ae8f8\",\"#57e7f8\",\"#53e6f8\",\"#50e5f9\",\"#4ce4f9\",\"#49e3f9\",\"#45e2f9\",\"#42e1f9\",\"#3ee0f9\",\"#3bdff9\",\"#38def9\",\"#35ddf9\",\"#32dcf9\",\"#30dbfa\",\"#2ed9fa\",\"#2dd8fa\",\"#2cd7fa\",\"#2bd6fa\",\"#2bd5fa\",\"#2ad3fa\",\"#2ad2fa\",\"#29d1fa\",\"#29d0fb\",\"#29cffb\",\"#28cdfb\",\"#28ccfb\",\"#28cbfb\",\"#28cafb\",\"#28c8fb\",\"#28c7fb\",\"#29c6fb\",\"#29c5fb\",\"#29c4fb\",\"#29c2fb\",\"#2ac1fb\",\"#2ac0fb\",\"#2bbffb\",\"#2bbdfc\",\"#2cbcfc\",\"#2dbbfc\",\"#2db9fc\",\"#2eb8fc\",\"#2fb7fc\",\"#2fb6fc\",\"#30b4fc\",\"#31b3fc\",\"#32b2fc\",\"#32b0fc\",\"#33affc\",\"#33aefc\",\"#34adfc\",\"#34abfc\",\"#34aafc\",\"#35a9fc\",\"#35a8fc\",\"#35a6fc\",\"#35a5fc\",\"#35a4fc\",\"#35a3fc\",\"#35a1fc\",\"#35a0fc\",\"#359ffc\",\"#359dfc\",\"#359cfc\",\"#359bfc\",\"#349afd\",\"#3498fd\",\"#3497fd\",\"#3396fd\",\"#3395fd\",\"#3293fd\",\"#3292fd\",\"#3191fd\",\"#3090fd\",\"#308ffd\",\"#2f8dfd\",\"#2f8cfd\",\"#2e8bfd\",\"#2e8afd\",\"#2d88fd\",\"#2d87fd\",\"#2c86fd\",\"#2c84fd\",\"#2c83fd\",\"#2c82fd\",\"#2b81fd\",\"#2b7ffd\",\"#2b7efd\",\"#2b7dfd\",\"#2b7bfd\",\"#2b7afd\",\"#2b79fd\",\"#2b77fd\",\"#2b76fd\",\"#2b75fd\",\"#2b73fd\",\"#2c72fd\",\"#2c71fd\",\"#2c6ffd\",\"#2c6efd\",\"#2d6cfd\",\"#2d6bfd\",\"#2d6afc\",\"#2e68fc\",\"#2e67fc\",\"#2e65fc\",\"#2e64fc\",\"#2f62fc\",\"#2f61fc\",\"#2f5ffc\",\"#2f5efc\",\"#2f5dfc\",\"#2f5bfc\",\"#2f5afc\",\"#2f58fb\",\"#2f57fb\",\"#2f55fb\",\"#2f53fb\",\"#2f52fb\",\"#2f50fb\",\"#2f4ffb\",\"#2f4dfb\",\"#2e4cfb\",\"#2e4afb\",\"#2e48fb\",\"#2e47fa\",\"#2d45fa\",\"#2d43fa\",\"#2d42fa\",\"#2d40fa\",\"#2c3efa\",\"#2c3dfa\",\"#2b3bf9\",\"#2b39f9\",\"#2a37f9\",\"#2a36f8\",\"#2934f8\",\"#2832f7\",\"#2831f7\",\"#272ff6\",\"#262ef5\",\"#252cf5\",\"#252af4\",\"#2429f3\",\"#2327f2\",\"#2226f1\",\"#2124f0\",\"#2023ef\",\"#1f22ee\",\"#1e20ed\",\"#1d1feb\",\"#1c1eea\",\"#1b1ce9\",\"#1a1be7\",\"#181ae6\",\"#1719e5\",\"#1618e3\",\"#1417e1\",\"#1316e0\",\"#1215de\",\"#1014dc\",\"#0f13db\",\"#0e12d9\",\"#0d11d7\",\"#0c10d5\",\"#0b0fd3\",\"#0a0ed1\",\"#090dd0\",\"#080dce\",\"#080ccc\",\"#070bca\",\"#070ac8\",\"#0709c6\",\"#0708c4\",\"#0707c2\",\"#0707bf\",\"#0806bd\",\"#0806bb\",\"#0905b9\",\"#0904b7\",\"#0a04b5\",\"#0a04b2\",\"#0b03b0\",\"#0c03ae\",\"#0d02ab\",\"#0e02a9\",\"#0e02a7\",\"#0f02a4\",\"#0f01a2\",\"#1001a0\",\"#10019d\",\"#10019b\",\"#100199\",\"#100197\",\"#100194\",\"#0f0192\",\"#0f0190\",\"#0f018e\",\"#0e018b\",\"#0e0189\",\"#0d0187\",\"#0d0185\",\"#0c0183\",\"#0b0181\",\"#0b017e\",\"#0a017c\",\"#09017a\",\"#090178\",\"#080276\",\"#070274\",\"#060272\",\"#060270\",\"#05026e\",\"#04026c\",\"#030269\",\"#030267\",\"#020265\",\"#010263\",\"#010261\",\"#00025f\",\"#00025d\",\"#00025b\",\"#000259\",\"#000257\",\"#000255\",\"#000154\",\"#000152\",\"#000150\",\"#00004e\"]},\"id\":\"2065\",\"type\":\"LinearColorMapper\"},{\"attributes\":{\"callback\":null,\"renderers\":[{\"id\":\"2074\"}],\"tags\":[\"hv_created\"],\"tooltips\":[[\"TotalCoinsMined\",\"@{TotalCoinsMined}\"],[\"TotalCoinSupply\",\"@{TotalCoinSupply}\"],[\"Class\",\"@{Class}\"]]},\"id\":\"2034\",\"type\":\"HoverTool\"},{\"attributes\":{},\"id\":\"2076\",\"type\":\"BasicTicker\"},{\"attributes\":{\"tools\":[{\"id\":\"2034\"},{\"id\":\"2052\"},{\"id\":\"2053\"},{\"id\":\"2054\"},{\"id\":\"2055\"},{\"id\":\"2056\"}]},\"id\":\"2058\",\"type\":\"Toolbar\"},{\"attributes\":{},\"id\":\"2067\",\"type\":\"Selection\"},{\"attributes\":{},\"id\":\"2082\",\"type\":\"BasicTickFormatter\"},{\"attributes\":{\"bottom_units\":\"screen\",\"coordinates\":null,\"fill_alpha\":0.5,\"fill_color\":\"lightgrey\",\"group\":null,\"left_units\":\"screen\",\"level\":\"overlay\",\"line_alpha\":1.0,\"line_color\":\"black\",\"line_dash\":[4,4],\"line_width\":2,\"right_units\":\"screen\",\"syncable\":false,\"top_units\":\"screen\"},\"id\":\"2057\",\"type\":\"BoxAnnotation\"},{\"attributes\":{\"coordinates\":null,\"data_source\":{\"id\":\"2066\"},\"glyph\":{\"id\":\"2069\"},\"group\":null,\"hover_glyph\":{\"id\":\"2072\"},\"muted_glyph\":{\"id\":\"2073\"},\"nonselection_glyph\":{\"id\":\"2070\"},\"selection_glyph\":{\"id\":\"2071\"},\"view\":{\"id\":\"2075\"}},\"id\":\"2074\",\"type\":\"GlyphRenderer\"},{\"attributes\":{},\"id\":\"2052\",\"type\":\"SaveTool\"},{\"attributes\":{},\"id\":\"2053\",\"type\":\"PanTool\"},{\"attributes\":{\"fill_alpha\":{\"value\":0.2},\"fill_color\":{\"field\":\"color\",\"transform\":{\"id\":\"2065\"}},\"hatch_alpha\":{\"value\":0.2},\"hatch_color\":{\"field\":\"color\",\"transform\":{\"id\":\"2065\"}},\"line_alpha\":{\"value\":0.2},\"line_color\":{\"field\":\"color\",\"transform\":{\"id\":\"2065\"}},\"size\":{\"value\":5.477225575051661},\"x\":{\"field\":\"TotalCoinsMined\"},\"y\":{\"field\":\"TotalCoinSupply\"}},\"id\":\"2073\",\"type\":\"Scatter\"},{\"attributes\":{},\"id\":\"2056\",\"type\":\"ResetTool\"},{\"attributes\":{\"fill_color\":{\"field\":\"color\",\"transform\":{\"id\":\"2065\"}},\"hatch_color\":{\"field\":\"color\",\"transform\":{\"id\":\"2065\"}},\"line_color\":{\"field\":\"color\",\"transform\":{\"id\":\"2065\"}},\"size\":{\"value\":5.477225575051661},\"x\":{\"field\":\"TotalCoinsMined\"},\"y\":{\"field\":\"TotalCoinSupply\"}},\"id\":\"2071\",\"type\":\"Scatter\"},{\"attributes\":{},\"id\":\"2054\",\"type\":\"WheelZoomTool\"},{\"attributes\":{\"margin\":[5,5,5,5],\"name\":\"HSpacer01965\",\"sizing_mode\":\"stretch_width\"},\"id\":\"2031\",\"type\":\"Spacer\"},{\"attributes\":{},\"id\":\"2049\",\"type\":\"BasicTicker\"},{\"attributes\":{\"bar_line_color\":\"black\",\"color_mapper\":{\"id\":\"2065\"},\"coordinates\":null,\"group\":null,\"label_standoff\":8,\"location\":[0,0],\"major_label_policy\":{\"id\":\"2088\"},\"major_tick_line_color\":\"black\",\"ticker\":{\"id\":\"2076\"}},\"id\":\"2077\",\"type\":\"ColorBar\"},{\"attributes\":{\"overlay\":{\"id\":\"2057\"}},\"id\":\"2055\",\"type\":\"BoxZoomTool\"},{\"attributes\":{},\"id\":\"2088\",\"type\":\"NoOverlap\"},{\"attributes\":{},\"id\":\"2045\",\"type\":\"BasicTicker\"},{\"attributes\":{\"coordinates\":null,\"group\":null,\"text_color\":\"black\",\"text_font_size\":\"12pt\"},\"id\":\"2036\",\"type\":\"Title\"},{\"attributes\":{},\"id\":\"2040\",\"type\":\"LinearScale\"},{\"attributes\":{},\"id\":\"2092\",\"type\":\"UnionRenderers\"},{\"attributes\":{\"margin\":[5,5,5,5],\"name\":\"HSpacer01966\",\"sizing_mode\":\"stretch_width\"},\"id\":\"2095\",\"type\":\"Spacer\"},{\"attributes\":{\"end\":1.042857142857143,\"reset_end\":1.042857142857143,\"reset_start\":-0.04285714285714286,\"start\":-0.04285714285714286,\"tags\":[[[\"TotalCoinsMined\",\"TotalCoinsMined\",null]]]},\"id\":\"2032\",\"type\":\"Range1d\"},{\"attributes\":{\"axis\":{\"id\":\"2044\"},\"coordinates\":null,\"grid_line_color\":null,\"group\":null,\"ticker\":null},\"id\":\"2047\",\"type\":\"Grid\"},{\"attributes\":{\"fill_alpha\":{\"value\":0.1},\"fill_color\":{\"field\":\"color\",\"transform\":{\"id\":\"2065\"}},\"hatch_alpha\":{\"value\":0.1},\"hatch_color\":{\"field\":\"color\",\"transform\":{\"id\":\"2065\"}},\"line_alpha\":{\"value\":0.1},\"line_color\":{\"field\":\"color\",\"transform\":{\"id\":\"2065\"}},\"size\":{\"value\":5.477225575051661},\"x\":{\"field\":\"TotalCoinsMined\"},\"y\":{\"field\":\"TotalCoinSupply\"}},\"id\":\"2070\",\"type\":\"Scatter\"},{\"attributes\":{},\"id\":\"2042\",\"type\":\"LinearScale\"},{\"attributes\":{\"axis_label\":\"TotalCoinSupply\",\"coordinates\":null,\"formatter\":{\"id\":\"2082\"},\"group\":null,\"major_label_policy\":{\"id\":\"2083\"},\"ticker\":{\"id\":\"2049\"}},\"id\":\"2048\",\"type\":\"LinearAxis\"},{\"attributes\":{\"fill_color\":{\"field\":\"color\",\"transform\":{\"id\":\"2065\"}},\"hatch_color\":{\"field\":\"color\",\"transform\":{\"id\":\"2065\"}},\"line_color\":{\"field\":\"color\",\"transform\":{\"id\":\"2065\"}},\"size\":{\"value\":5.477225575051661},\"x\":{\"field\":\"TotalCoinsMined\"},\"y\":{\"field\":\"TotalCoinSupply\"}},\"id\":\"2069\",\"type\":\"Scatter\"},{\"attributes\":{\"axis_label\":\"TotalCoinsMined\",\"coordinates\":null,\"formatter\":{\"id\":\"2079\"},\"group\":null,\"major_label_policy\":{\"id\":\"2080\"},\"ticker\":{\"id\":\"2045\"}},\"id\":\"2044\",\"type\":\"LinearAxis\"},{\"attributes\":{\"fill_color\":{\"field\":\"color\",\"transform\":{\"id\":\"2065\"}},\"hatch_color\":{\"field\":\"color\",\"transform\":{\"id\":\"2065\"}},\"line_color\":{\"field\":\"color\",\"transform\":{\"id\":\"2065\"}},\"size\":{\"value\":5.477225575051661},\"x\":{\"field\":\"TotalCoinsMined\"},\"y\":{\"field\":\"TotalCoinSupply\"}},\"id\":\"2072\",\"type\":\"Scatter\"},{\"attributes\":{\"children\":[{\"id\":\"2031\"},{\"id\":\"2035\"},{\"id\":\"2095\"}],\"margin\":[0,0,0,0],\"name\":\"Row01961\",\"tags\":[\"embedded\"]},\"id\":\"2030\",\"type\":\"Row\"},{\"attributes\":{\"data\":{\"Class\":{\"__ndarray__\":\"AQAAAAEAAAABAAAAAAAAAAMAAAAAAAAAAQAAAAMAAAADAAAAAwAAAAAAAAADAAAAAQAAAAEAAAAAAAAAAAAAAAAAAAAAAAAAAQAAAAEAAAADAAAAAwAAAAAAAAAAAAAAAAAAAAEAAAAAAAAAAAAAAAAAAAABAAAAAAAAAAEAAAAAAAAAAAAAAAEAAAABAAAAAwAAAAAAAAAAAAAAAAAAAAAAAAAAAAAAAAAAAAEAAAAAAAAAAwAAAAAAAAAAAAAAAAAAAAEAAAABAAAAAAAAAAEAAAAAAAAAAAAAAAAAAAAAAAAAAAAAAAAAAAADAAAAAQAAAAAAAAABAAAAAQAAAAAAAAAAAAAAAAAAAAAAAAAAAAAAAQAAAAEAAAABAAAAAQAAAAAAAAAAAAAAAAAAAAEAAAABAAAAAAAAAAEAAAAAAAAAAAAAAAEAAAAAAAAAAAAAAAAAAAAAAAAAAQAAAAEAAAAAAAAAAQAAAAAAAAAAAAAAAQAAAAEAAAAAAAAAAAAAAAEAAAADAAAAAwAAAAEAAAAAAAAAAAAAAAEAAAABAAAAAAAAAAEAAAAAAAAAAAAAAAAAAAABAAAAAAAAAAEAAAAAAAAAAAAAAAMAAAABAAAAAwAAAAAAAAAAAAAAAQAAAAAAAAADAAAAAAAAAAAAAAAAAAAAAQAAAAAAAAAAAAAAAwAAAAAAAAAAAAAAAAAAAAEAAAAAAAAAAAAAAAEAAAADAAAAAAAAAAMAAAABAAAAAAAAAAAAAAAAAAAAAQAAAAAAAAADAAAAAQAAAAEAAAAAAAAAAQAAAAAAAAAAAAAAAQAAAAEAAAAAAAAAAwAAAAAAAAADAAAAAQAAAAEAAAABAAAAAQAAAAAAAAAAAAAAAAAAAAEAAAABAAAAAQAAAAAAAAABAAAAAAAAAAAAAAABAAAAAQAAAAEAAAAAAAAAAAAAAAEAAAAAAAAAAQAAAAEAAAADAAAAAQAAAAAAAAABAAAAAQAAAAMAAAABAAAAAAAAAAEAAAAAAAAAAQAAAAAAAAAAAAAAAAAAAAEAAAABAAAAAwAAAAAAAAAAAAAAAAAAAAAAAAAAAAAAAwAAAAMAAAABAAAAAQAAAAAAAAAAAAAAAAAAAAEAAAAAAAAAAQAAAAEAAAAAAAAAAAAAAAEAAAABAAAAAQAAAAEAAAABAAAAAQAAAAEAAAADAAAAAQAAAAEAAAABAAAAAQAAAAAAAAABAAAAAAAAAAMAAAADAAAAAQAAAAEAAAABAAAAAQAAAAAAAAABAAAAAwAAAAEAAAABAAAAAAAAAAAAAAAAAAAAAwAAAAEAAAAAAAAAAwAAAAEAAAADAAAAAQAAAAAAAAABAAAAAAAAAAAAAAABAAAAAAAAAAAAAAABAAAAAQAAAAEAAAABAAAAAQAAAAEAAAAAAAAAAQAAAAAAAAAAAAAAAQAAAAAAAAABAAAAAAAAAAAAAAADAAAAAAAAAAMAAAADAAAAAwAAAAMAAAAAAAAAAAAAAAAAAAAAAAAAAAAAAAAAAAAAAAAAAAAAAAAAAAABAAAAAwAAAAAAAAADAAAAAwAAAAAAAAAAAAAAAAAAAAAAAAAAAAAAAQAAAAEAAAADAAAAAAAAAAAAAAAAAAAAAAAAAAAAAAAAAAAAAAAAAAEAAAABAAAAAwAAAAAAAAAAAAAAAQAAAAMAAAABAAAAAAAAAAEAAAADAAAAAQAAAAMAAAABAAAAAQAAAAAAAAAAAAAAAwAAAAEAAAAAAAAAAAAAAAAAAAABAAAAAQAAAAAAAAADAAAAAwAAAAMAAAABAAAAAQAAAAAAAAAAAAAAAwAAAAEAAAADAAAAAwAAAAMAAAAAAAAAAAAAAAAAAAADAAAAAQAAAAEAAAAAAAAAAQAAAAAAAAAAAAAAAwAAAAAAAAADAAAAAAAAAAEAAAABAAAAAQAAAAAAAAAAAAAAAAAAAAAAAAABAAAAAQAAAAMAAAADAAAAAQAAAAMAAAAAAAAAAwAAAAAAAAAAAAAAAwAAAAMAAAAAAAAAAAAAAAAAAAABAAAAAwAAAAEAAAAAAAAAAQAAAAAAAAADAAAAAwAAAAAAAAADAAAAAAAAAAEAAAABAAAAAwAAAAEAAAADAAAAAAAAAAAAAAABAAAAAQAAAAAAAAAAAAAAAAAAAAMAAAABAAAAAQAAAAAAAAADAAAAAQAAAAMAAAABAAAAAwAAAAMAAAADAAAAAwAAAAEAAAABAAAAAwAAAAAAAAADAAAAAQAAAAAAAAABAAAAAAAAAAEAAAAAAAAAAAAAAAMAAAAAAAAAAQAAAAAAAAAAAAAAAQAAAAEAAAAAAAAAAAAAAAEAAAADAAAAAwAAAAAAAAADAAAAAQAAAAEAAAABAAAAAAAAAAAAAAABAAAAAQAAAAAAAAABAAAAAAAAAAAAAAADAAAAAwAAAAEAAAADAAAAAAAAAAEAAAABAAAAAwAAAAAAAAADAAAAAwAAAAEAAAADAAAAAAAAAAEAAAADAAAAAAAAAAMAAAAAAAAAAQAAAAAAAAABAAAAAQAAAAAAAAAAAAAAAQAAAAAAAAAAAAAAAAAAAAEAAAABAAAAAQAAAAAAAAABAAAAAwAAAAEAAAADAAAAAQAAAAEAAAABAAAAAQAAAAAAAAABAAAAAQAAAAEAAAAAAAAAAQAAAAAAAAABAAAAAAAAAAEAAAABAAAAAAAAAAAAAAAAAAAAAQAAAAEAAAABAAAAAQAAAAEAAAABAAAAAwAAAAAAAAADAAAAAQAAAAMAAAABAAAAAQAAAAEAAAAAAAAAAgAAAAAAAAABAAAAAQAAAAMAAAADAAAAAQAAAA==\",\"dtype\":\"int32\",\"order\":\"little\",\"shape\":[532]},\"TotalCoinSupply\":{\"__ndarray__\":\"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\",\"dtype\":\"float64\",\"order\":\"little\",\"shape\":[532]},\"TotalCoinsMined\":{\"__ndarray__\":\"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\",\"dtype\":\"float64\",\"order\":\"little\",\"shape\":[532]},\"color\":{\"__ndarray__\":\"AQAAAAEAAAABAAAAAAAAAAMAAAAAAAAAAQAAAAMAAAADAAAAAwAAAAAAAAADAAAAAQAAAAEAAAAAAAAAAAAAAAAAAAAAAAAAAQAAAAEAAAADAAAAAwAAAAAAAAAAAAAAAAAAAAEAAAAAAAAAAAAAAAAAAAABAAAAAAAAAAEAAAAAAAAAAAAAAAEAAAABAAAAAwAAAAAAAAAAAAAAAAAAAAAAAAAAAAAAAAAAAAEAAAAAAAAAAwAAAAAAAAAAAAAAAAAAAAEAAAABAAAAAAAAAAEAAAAAAAAAAAAAAAAAAAAAAAAAAAAAAAAAAAADAAAAAQAAAAAAAAABAAAAAQAAAAAAAAAAAAAAAAAAAAAAAAAAAAAAAQAAAAEAAAABAAAAAQAAAAAAAAAAAAAAAAAAAAEAAAABAAAAAAAAAAEAAAAAAAAAAAAAAAEAAAAAAAAAAAAAAAAAAAAAAAAAAQAAAAEAAAAAAAAAAQAAAAAAAAAAAAAAAQAAAAEAAAAAAAAAAAAAAAEAAAADAAAAAwAAAAEAAAAAAAAAAAAAAAEAAAABAAAAAAAAAAEAAAAAAAAAAAAAAAAAAAABAAAAAAAAAAEAAAAAAAAAAAAAAAMAAAABAAAAAwAAAAAAAAAAAAAAAQAAAAAAAAADAAAAAAAAAAAAAAAAAAAAAQAAAAAAAAAAAAAAAwAAAAAAAAAAAAAAAAAAAAEAAAAAAAAAAAAAAAEAAAADAAAAAAAAAAMAAAABAAAAAAAAAAAAAAAAAAAAAQAAAAAAAAADAAAAAQAAAAEAAAAAAAAAAQAAAAAAAAAAAAAAAQAAAAEAAAAAAAAAAwAAAAAAAAADAAAAAQAAAAEAAAABAAAAAQAAAAAAAAAAAAAAAAAAAAEAAAABAAAAAQAAAAAAAAABAAAAAAAAAAAAAAABAAAAAQAAAAEAAAAAAAAAAAAAAAEAAAAAAAAAAQAAAAEAAAADAAAAAQAAAAAAAAABAAAAAQAAAAMAAAABAAAAAAAAAAEAAAAAAAAAAQAAAAAAAAAAAAAAAAAAAAEAAAABAAAAAwAAAAAAAAAAAAAAAAAAAAAAAAAAAAAAAwAAAAMAAAABAAAAAQAAAAAAAAAAAAAAAAAAAAEAAAAAAAAAAQAAAAEAAAAAAAAAAAAAAAEAAAABAAAAAQAAAAEAAAABAAAAAQAAAAEAAAADAAAAAQAAAAEAAAABAAAAAQAAAAAAAAABAAAAAAAAAAMAAAADAAAAAQAAAAEAAAABAAAAAQAAAAAAAAABAAAAAwAAAAEAAAABAAAAAAAAAAAAAAAAAAAAAwAAAAEAAAAAAAAAAwAAAAEAAAADAAAAAQAAAAAAAAABAAAAAAAAAAAAAAABAAAAAAAAAAAAAAABAAAAAQAAAAEAAAABAAAAAQAAAAEAAAAAAAAAAQAAAAAAAAAAAAAAAQAAAAAAAAABAAAAAAAAAAAAAAADAAAAAAAAAAMAAAADAAAAAwAAAAMAAAAAAAAAAAAAAAAAAAAAAAAAAAAAAAAAAAAAAAAAAAAAAAAAAAABAAAAAwAAAAAAAAADAAAAAwAAAAAAAAAAAAAAAAAAAAAAAAAAAAAAAQAAAAEAAAADAAAAAAAAAAAAAAAAAAAAAAAAAAAAAAAAAAAAAAAAAAEAAAABAAAAAwAAAAAAAAAAAAAAAQAAAAMAAAABAAAAAAAAAAEAAAADAAAAAQAAAAMAAAABAAAAAQAAAAAAAAAAAAAAAwAAAAEAAAAAAAAAAAAAAAAAAAABAAAAAQAAAAAAAAADAAAAAwAAAAMAAAABAAAAAQAAAAAAAAAAAAAAAwAAAAEAAAADAAAAAwAAAAMAAAAAAAAAAAAAAAAAAAADAAAAAQAAAAEAAAAAAAAAAQAAAAAAAAAAAAAAAwAAAAAAAAADAAAAAAAAAAEAAAABAAAAAQAAAAAAAAAAAAAAAAAAAAAAAAABAAAAAQAAAAMAAAADAAAAAQAAAAMAAAAAAAAAAwAAAAAAAAAAAAAAAwAAAAMAAAAAAAAAAAAAAAAAAAABAAAAAwAAAAEAAAAAAAAAAQAAAAAAAAADAAAAAwAAAAAAAAADAAAAAAAAAAEAAAABAAAAAwAAAAEAAAADAAAAAAAAAAAAAAABAAAAAQAAAAAAAAAAAAAAAAAAAAMAAAABAAAAAQAAAAAAAAADAAAAAQAAAAMAAAABAAAAAwAAAAMAAAADAAAAAwAAAAEAAAABAAAAAwAAAAAAAAADAAAAAQAAAAAAAAABAAAAAAAAAAEAAAAAAAAAAAAAAAMAAAAAAAAAAQAAAAAAAAAAAAAAAQAAAAEAAAAAAAAAAAAAAAEAAAADAAAAAwAAAAAAAAADAAAAAQAAAAEAAAABAAAAAAAAAAAAAAABAAAAAQAAAAAAAAABAAAAAAAAAAAAAAADAAAAAwAAAAEAAAADAAAAAAAAAAEAAAABAAAAAwAAAAAAAAADAAAAAwAAAAEAAAADAAAAAAAAAAEAAAADAAAAAAAAAAMAAAAAAAAAAQAAAAAAAAABAAAAAQAAAAAAAAAAAAAAAQAAAAAAAAAAAAAAAAAAAAEAAAABAAAAAQAAAAAAAAABAAAAAwAAAAEAAAADAAAAAQAAAAEAAAABAAAAAQAAAAAAAAABAAAAAQAAAAEAAAAAAAAAAQAAAAAAAAABAAAAAAAAAAEAAAABAAAAAAAAAAAAAAAAAAAAAQAAAAEAAAABAAAAAQAAAAEAAAABAAAAAwAAAAAAAAADAAAAAQAAAAMAAAABAAAAAQAAAAEAAAAAAAAAAgAAAAAAAAABAAAAAQAAAAMAAAADAAAAAQAAAA==\",\"dtype\":\"int32\",\"order\":\"little\",\"shape\":[532]}},\"selected\":{\"id\":\"2067\"},\"selection_policy\":{\"id\":\"2092\"}},\"id\":\"2066\",\"type\":\"ColumnDataSource\"},{\"attributes\":{\"axis\":{\"id\":\"2048\"},\"coordinates\":null,\"dimension\":1,\"grid_line_color\":null,\"group\":null,\"ticker\":null},\"id\":\"2051\",\"type\":\"Grid\"}],\"root_ids\":[\"2030\"]},\"title\":\"Bokeh Application\",\"version\":\"2.4.3\"}};\n",
       "    var render_items = [{\"docid\":\"62ad8b46-54b2-4a4b-9027-352adc776963\",\"root_ids\":[\"2030\"],\"roots\":{\"2030\":\"ddad111e-ff71-4bd8-a7d9-5c775a917102\"}}];\n",
       "    root.Bokeh.embed.embed_items_notebook(docs_json, render_items);\n",
       "  }\n",
       "  if (root.Bokeh !== undefined && root.Bokeh.Panel !== undefined) {\n",
       "    embed_document(root);\n",
       "  } else {\n",
       "    var attempts = 0;\n",
       "    var timer = setInterval(function(root) {\n",
       "      if (root.Bokeh !== undefined && root.Bokeh.Panel !== undefined) {\n",
       "        clearInterval(timer);\n",
       "        embed_document(root);\n",
       "      } else if (document.readyState == \"complete\") {\n",
       "        attempts++;\n",
       "        if (attempts > 200) {\n",
       "          clearInterval(timer);\n",
       "          console.log(\"Bokeh: ERROR: Unable to run BokehJS code because BokehJS library is missing\");\n",
       "        }\n",
       "      }\n",
       "    }, 25, root)\n",
       "  }\n",
       "})(window);</script>"
      ],
      "text/plain": [
       ":Scatter   [TotalCoinsMined]   (TotalCoinSupply,Class)"
      ]
     },
     "execution_count": 265,
     "metadata": {
      "application/vnd.holoviews_exec.v0+json": {
       "id": "2030"
      }
     },
     "output_type": "execute_result"
    }
   ],
   "source": [
    "# Create a hvplot.scatter plot using x=\"TotalCoinsMined\" and y=\"TotalCoinSupply\".\n",
    "plot_df.hvplot.scatter(x =\"TotalCoinsMined\", y=\"TotalCoinSupply\", color = \"Class\")\n"
   ]
  },
  {
   "cell_type": "code",
   "execution_count": null,
   "metadata": {},
   "outputs": [],
   "source": []
  }
 ],
 "metadata": {
  "file_extension": ".py",
  "kernelspec": {
   "display_name": "mlenv",
   "language": "python",
   "name": "mlenv"
  },
  "language_info": {
   "codemirror_mode": {
    "name": "ipython",
    "version": 3
   },
   "file_extension": ".py",
   "mimetype": "text/x-python",
   "name": "python",
   "nbconvert_exporter": "python",
   "pygments_lexer": "ipython3",
   "version": "3.7.13"
  },
  "latex_envs": {
   "LaTeX_envs_menu_present": true,
   "autoclose": false,
   "autocomplete": true,
   "bibliofile": "biblio.bib",
   "cite_by": "apalike",
   "current_citInitial": 1,
   "eqLabelWithNumbers": true,
   "eqNumInitial": 1,
   "hotkeys": {
    "equation": "Ctrl-E",
    "itemize": "Ctrl-I"
   },
   "labels_anchors": false,
   "latex_user_defs": false,
   "report_style_numbering": false,
   "user_envs_cfg": false
  },
  "mimetype": "text/x-python",
  "name": "python",
  "npconvert_exporter": "python",
  "pygments_lexer": "ipython3",
  "version": 3
 },
 "nbformat": 4,
 "nbformat_minor": 2
}
